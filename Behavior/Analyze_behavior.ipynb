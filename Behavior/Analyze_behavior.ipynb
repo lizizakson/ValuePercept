{
 "cells": [
  {
   "cell_type": "code",
   "execution_count": 1,
   "metadata": {},
   "outputs": [],
   "source": [
    "#import libraries\n",
    "import pandas as pd\n",
    "import seaborn as sns\n",
    "import collections\n",
    "#import matplotlib.pyplot as plt\n",
    "import numpy as np\n",
    "import scipy as sc\n",
    "from scipy import stats\n",
    "from sklearn import datasets, linear_model\n",
    "from sklearn.metrics import mean_squared_error, r2_score\n",
    "from IPython.core.interactiveshell import InteractiveShell\n",
    "InteractiveShell.ast_node_interactivity = \"all\""
   ]
  },
  {
   "cell_type": "markdown",
   "metadata": {},
   "source": [
    "# Load behavioral data"
   ]
  },
  {
   "cell_type": "code",
   "execution_count": 3,
   "metadata": {
    "scrolled": true
   },
   "outputs": [
    {
     "data": {
      "text/plain": [
       "(1206, 582)"
      ]
     },
     "execution_count": 3,
     "metadata": {},
     "output_type": "execute_result"
    },
    {
     "data": {
      "text/html": [
       "<div>\n",
       "<style scoped>\n",
       "    .dataframe tbody tr th:only-of-type {\n",
       "        vertical-align: middle;\n",
       "    }\n",
       "\n",
       "    .dataframe tbody tr th {\n",
       "        vertical-align: top;\n",
       "    }\n",
       "\n",
       "    .dataframe thead th {\n",
       "        text-align: right;\n",
       "    }\n",
       "</style>\n",
       "<table border=\"1\" class=\"dataframe\">\n",
       "  <thead>\n",
       "    <tr style=\"text-align: right;\">\n",
       "      <th></th>\n",
       "      <th>Subject</th>\n",
       "      <th>Release</th>\n",
       "      <th>Acquisition</th>\n",
       "      <th>Gender</th>\n",
       "      <th>Age</th>\n",
       "      <th>3T_Full_MR_Compl</th>\n",
       "      <th>T1_Count</th>\n",
       "      <th>T2_Count</th>\n",
       "      <th>3T_RS-fMRI_Count</th>\n",
       "      <th>3T_RS-fMRI_PctCompl</th>\n",
       "      <th>...</th>\n",
       "      <th>Noise_Comp</th>\n",
       "      <th>Odor_Unadj</th>\n",
       "      <th>Odor_AgeAdj</th>\n",
       "      <th>PainIntens_RawScore</th>\n",
       "      <th>PainInterf_Tscore</th>\n",
       "      <th>Taste_Unadj</th>\n",
       "      <th>Taste_AgeAdj</th>\n",
       "      <th>Mars_Log_Score</th>\n",
       "      <th>Mars_Errs</th>\n",
       "      <th>Mars_Final</th>\n",
       "    </tr>\n",
       "  </thead>\n",
       "  <tbody>\n",
       "    <tr>\n",
       "      <th>0</th>\n",
       "      <td>100004</td>\n",
       "      <td>S900</td>\n",
       "      <td>Q06</td>\n",
       "      <td>M</td>\n",
       "      <td>22-25</td>\n",
       "      <td>False</td>\n",
       "      <td>0</td>\n",
       "      <td>0</td>\n",
       "      <td>0</td>\n",
       "      <td>0.0</td>\n",
       "      <td>...</td>\n",
       "      <td>5.2</td>\n",
       "      <td>101.12</td>\n",
       "      <td>86.45</td>\n",
       "      <td>2.0</td>\n",
       "      <td>45.9</td>\n",
       "      <td>107.17</td>\n",
       "      <td>105.31</td>\n",
       "      <td>1.80</td>\n",
       "      <td>0.0</td>\n",
       "      <td>1.80</td>\n",
       "    </tr>\n",
       "    <tr>\n",
       "      <th>1</th>\n",
       "      <td>100206</td>\n",
       "      <td>S900</td>\n",
       "      <td>Q11</td>\n",
       "      <td>M</td>\n",
       "      <td>26-30</td>\n",
       "      <td>True</td>\n",
       "      <td>1</td>\n",
       "      <td>1</td>\n",
       "      <td>4</td>\n",
       "      <td>100.0</td>\n",
       "      <td>...</td>\n",
       "      <td>6.0</td>\n",
       "      <td>108.79</td>\n",
       "      <td>97.19</td>\n",
       "      <td>1.0</td>\n",
       "      <td>49.7</td>\n",
       "      <td>72.63</td>\n",
       "      <td>72.03</td>\n",
       "      <td>1.84</td>\n",
       "      <td>0.0</td>\n",
       "      <td>1.84</td>\n",
       "    </tr>\n",
       "    <tr>\n",
       "      <th>2</th>\n",
       "      <td>100307</td>\n",
       "      <td>Q1</td>\n",
       "      <td>Q01</td>\n",
       "      <td>F</td>\n",
       "      <td>26-30</td>\n",
       "      <td>True</td>\n",
       "      <td>1</td>\n",
       "      <td>1</td>\n",
       "      <td>4</td>\n",
       "      <td>100.0</td>\n",
       "      <td>...</td>\n",
       "      <td>3.6</td>\n",
       "      <td>101.12</td>\n",
       "      <td>86.45</td>\n",
       "      <td>0.0</td>\n",
       "      <td>38.6</td>\n",
       "      <td>71.69</td>\n",
       "      <td>71.76</td>\n",
       "      <td>1.76</td>\n",
       "      <td>0.0</td>\n",
       "      <td>1.76</td>\n",
       "    </tr>\n",
       "    <tr>\n",
       "      <th>3</th>\n",
       "      <td>100408</td>\n",
       "      <td>Q3</td>\n",
       "      <td>Q03</td>\n",
       "      <td>M</td>\n",
       "      <td>31-35</td>\n",
       "      <td>True</td>\n",
       "      <td>1</td>\n",
       "      <td>1</td>\n",
       "      <td>4</td>\n",
       "      <td>100.0</td>\n",
       "      <td>...</td>\n",
       "      <td>2.0</td>\n",
       "      <td>108.79</td>\n",
       "      <td>98.04</td>\n",
       "      <td>2.0</td>\n",
       "      <td>52.6</td>\n",
       "      <td>114.01</td>\n",
       "      <td>113.59</td>\n",
       "      <td>1.76</td>\n",
       "      <td>2.0</td>\n",
       "      <td>1.68</td>\n",
       "    </tr>\n",
       "    <tr>\n",
       "      <th>4</th>\n",
       "      <td>100610</td>\n",
       "      <td>S900</td>\n",
       "      <td>Q08</td>\n",
       "      <td>M</td>\n",
       "      <td>26-30</td>\n",
       "      <td>True</td>\n",
       "      <td>2</td>\n",
       "      <td>1</td>\n",
       "      <td>4</td>\n",
       "      <td>100.0</td>\n",
       "      <td>...</td>\n",
       "      <td>2.0</td>\n",
       "      <td>122.25</td>\n",
       "      <td>110.45</td>\n",
       "      <td>0.0</td>\n",
       "      <td>38.6</td>\n",
       "      <td>84.84</td>\n",
       "      <td>85.31</td>\n",
       "      <td>1.92</td>\n",
       "      <td>1.0</td>\n",
       "      <td>1.88</td>\n",
       "    </tr>\n",
       "  </tbody>\n",
       "</table>\n",
       "<p>5 rows × 582 columns</p>\n",
       "</div>"
      ],
      "text/plain": [
       "   Subject Release Acquisition Gender    Age  3T_Full_MR_Compl  T1_Count  \\\n",
       "0   100004    S900         Q06      M  22-25             False         0   \n",
       "1   100206    S900         Q11      M  26-30              True         1   \n",
       "2   100307      Q1         Q01      F  26-30              True         1   \n",
       "3   100408      Q3         Q03      M  31-35              True         1   \n",
       "4   100610    S900         Q08      M  26-30              True         2   \n",
       "\n",
       "   T2_Count  3T_RS-fMRI_Count  3T_RS-fMRI_PctCompl  ...  Noise_Comp  \\\n",
       "0         0                 0                  0.0  ...         5.2   \n",
       "1         1                 4                100.0  ...         6.0   \n",
       "2         1                 4                100.0  ...         3.6   \n",
       "3         1                 4                100.0  ...         2.0   \n",
       "4         1                 4                100.0  ...         2.0   \n",
       "\n",
       "   Odor_Unadj  Odor_AgeAdj  PainIntens_RawScore  PainInterf_Tscore  \\\n",
       "0      101.12        86.45                  2.0               45.9   \n",
       "1      108.79        97.19                  1.0               49.7   \n",
       "2      101.12        86.45                  0.0               38.6   \n",
       "3      108.79        98.04                  2.0               52.6   \n",
       "4      122.25       110.45                  0.0               38.6   \n",
       "\n",
       "   Taste_Unadj  Taste_AgeAdj  Mars_Log_Score  Mars_Errs  Mars_Final  \n",
       "0       107.17        105.31            1.80        0.0        1.80  \n",
       "1        72.63         72.03            1.84        0.0        1.84  \n",
       "2        71.69         71.76            1.76        0.0        1.76  \n",
       "3       114.01        113.59            1.76        2.0        1.68  \n",
       "4        84.84         85.31            1.92        1.0        1.88  \n",
       "\n",
       "[5 rows x 582 columns]"
      ]
     },
     "execution_count": 3,
     "metadata": {},
     "output_type": "execute_result"
    }
   ],
   "source": [
    "df = pd.read_csv(\"/mnt/c/Users/liz/Contacts/Desktop/ValuePercept/Behavior/HCP_behavioralData.csv\")\n",
    "df.shape\n",
    "df.head()"
   ]
  },
  {
   "cell_type": "markdown",
   "metadata": {},
   "source": [
    "# Exclude missing values from the data"
   ]
  },
  {
   "cell_type": "code",
   "execution_count": 4,
   "metadata": {},
   "outputs": [
    {
     "data": {
      "text/plain": [
       "dMRI_3T_ReconVrs         141\n",
       "fMRI_3T_ReconVrs         108\n",
       "7T_fMRI_Mov_Vrs         1022\n",
       "QC_Issue                1049\n",
       "MRsession_Scanner_3T      93\n",
       "                        ... \n",
       "Taste_Unadj                6\n",
       "Taste_AgeAdj               6\n",
       "Mars_Log_Score             8\n",
       "Mars_Errs                 11\n",
       "Mars_Final                11\n",
       "Length: 470, dtype: int64"
      ]
     },
     "execution_count": 4,
     "metadata": {},
     "output_type": "execute_result"
    },
    {
     "data": {
      "text/plain": [
       "pandas.core.indexes.base.Index"
      ]
     },
     "execution_count": 4,
     "metadata": {},
     "output_type": "execute_result"
    }
   ],
   "source": [
    "#Detect missing values in the data\n",
    "#How many Nulls for each field?\n",
    "null_columns=df.columns[df.isnull().any()]\n",
    "df[null_columns].isnull().sum()\n",
    "type(null_columns)"
   ]
  },
  {
   "cell_type": "code",
   "execution_count": 5,
   "metadata": {},
   "outputs": [
    {
     "name": "stdout",
     "output_type": "stream",
     "text": [
      "Subject           0.000000\n",
      "Release           0.000000\n",
      "Acquisition       0.000000\n",
      "Gender            0.000000\n",
      "Age               0.000000\n",
      "                    ...   \n",
      "Taste_Unadj       0.004975\n",
      "Taste_AgeAdj      0.004975\n",
      "Mars_Log_Score    0.006633\n",
      "Mars_Errs         0.009121\n",
      "Mars_Final        0.009121\n",
      "Length: 582, dtype: float64\n",
      "Index(['Subject', 'Release', 'Acquisition', 'Gender', 'Age',\n",
      "       '3T_Full_MR_Compl', 'T1_Count', 'T2_Count', '3T_RS-fMRI_Count',\n",
      "       '3T_RS-fMRI_PctCompl',\n",
      "       ...\n",
      "       'Noise_Comp', 'Odor_Unadj', 'Odor_AgeAdj', 'PainIntens_RawScore',\n",
      "       'PainInterf_Tscore', 'Taste_Unadj', 'Taste_AgeAdj', 'Mars_Log_Score',\n",
      "       'Mars_Errs', 'Mars_Final'],\n",
      "      dtype='object', length=567)\n"
     ]
    },
    {
     "data": {
      "text/plain": [
       "(1206, 567)"
      ]
     },
     "execution_count": 5,
     "metadata": {},
     "output_type": "execute_result"
    },
    {
     "data": {
      "text/plain": [
       "0       0.455026\n",
       "1       1.000000\n",
       "2       1.000000\n",
       "3       1.000000\n",
       "4       0.994709\n",
       "          ...   \n",
       "1201    1.000000\n",
       "1202    0.994709\n",
       "1203    1.000000\n",
       "1204    1.000000\n",
       "1205    1.000000\n",
       "Length: 1206, dtype: float64"
      ]
     },
     "execution_count": 5,
     "metadata": {},
     "output_type": "execute_result"
    },
    {
     "data": {
      "text/html": [
       "<div>\n",
       "<style scoped>\n",
       "    .dataframe tbody tr th:only-of-type {\n",
       "        vertical-align: middle;\n",
       "    }\n",
       "\n",
       "    .dataframe tbody tr th {\n",
       "        vertical-align: top;\n",
       "    }\n",
       "\n",
       "    .dataframe thead th {\n",
       "        text-align: right;\n",
       "    }\n",
       "</style>\n",
       "<table border=\"1\" class=\"dataframe\">\n",
       "  <thead>\n",
       "    <tr style=\"text-align: right;\">\n",
       "      <th></th>\n",
       "      <th>Subject</th>\n",
       "      <th>Release</th>\n",
       "      <th>Acquisition</th>\n",
       "      <th>Gender</th>\n",
       "      <th>Age</th>\n",
       "      <th>3T_Full_MR_Compl</th>\n",
       "      <th>T1_Count</th>\n",
       "      <th>T2_Count</th>\n",
       "      <th>3T_RS-fMRI_Count</th>\n",
       "      <th>3T_RS-fMRI_PctCompl</th>\n",
       "      <th>...</th>\n",
       "      <th>Noise_Comp</th>\n",
       "      <th>Odor_Unadj</th>\n",
       "      <th>Odor_AgeAdj</th>\n",
       "      <th>PainIntens_RawScore</th>\n",
       "      <th>PainInterf_Tscore</th>\n",
       "      <th>Taste_Unadj</th>\n",
       "      <th>Taste_AgeAdj</th>\n",
       "      <th>Mars_Log_Score</th>\n",
       "      <th>Mars_Errs</th>\n",
       "      <th>Mars_Final</th>\n",
       "    </tr>\n",
       "  </thead>\n",
       "  <tbody>\n",
       "    <tr>\n",
       "      <th>1</th>\n",
       "      <td>100206</td>\n",
       "      <td>S900</td>\n",
       "      <td>Q11</td>\n",
       "      <td>M</td>\n",
       "      <td>26-30</td>\n",
       "      <td>True</td>\n",
       "      <td>1</td>\n",
       "      <td>1</td>\n",
       "      <td>4</td>\n",
       "      <td>100.0</td>\n",
       "      <td>...</td>\n",
       "      <td>6.0</td>\n",
       "      <td>108.79</td>\n",
       "      <td>97.19</td>\n",
       "      <td>1.0</td>\n",
       "      <td>49.7</td>\n",
       "      <td>72.63</td>\n",
       "      <td>72.03</td>\n",
       "      <td>1.84</td>\n",
       "      <td>0.0</td>\n",
       "      <td>1.84</td>\n",
       "    </tr>\n",
       "    <tr>\n",
       "      <th>2</th>\n",
       "      <td>100307</td>\n",
       "      <td>Q1</td>\n",
       "      <td>Q01</td>\n",
       "      <td>F</td>\n",
       "      <td>26-30</td>\n",
       "      <td>True</td>\n",
       "      <td>1</td>\n",
       "      <td>1</td>\n",
       "      <td>4</td>\n",
       "      <td>100.0</td>\n",
       "      <td>...</td>\n",
       "      <td>3.6</td>\n",
       "      <td>101.12</td>\n",
       "      <td>86.45</td>\n",
       "      <td>0.0</td>\n",
       "      <td>38.6</td>\n",
       "      <td>71.69</td>\n",
       "      <td>71.76</td>\n",
       "      <td>1.76</td>\n",
       "      <td>0.0</td>\n",
       "      <td>1.76</td>\n",
       "    </tr>\n",
       "    <tr>\n",
       "      <th>3</th>\n",
       "      <td>100408</td>\n",
       "      <td>Q3</td>\n",
       "      <td>Q03</td>\n",
       "      <td>M</td>\n",
       "      <td>31-35</td>\n",
       "      <td>True</td>\n",
       "      <td>1</td>\n",
       "      <td>1</td>\n",
       "      <td>4</td>\n",
       "      <td>100.0</td>\n",
       "      <td>...</td>\n",
       "      <td>2.0</td>\n",
       "      <td>108.79</td>\n",
       "      <td>98.04</td>\n",
       "      <td>2.0</td>\n",
       "      <td>52.6</td>\n",
       "      <td>114.01</td>\n",
       "      <td>113.59</td>\n",
       "      <td>1.76</td>\n",
       "      <td>2.0</td>\n",
       "      <td>1.68</td>\n",
       "    </tr>\n",
       "    <tr>\n",
       "      <th>8</th>\n",
       "      <td>101309</td>\n",
       "      <td>S500</td>\n",
       "      <td>Q06</td>\n",
       "      <td>M</td>\n",
       "      <td>26-30</td>\n",
       "      <td>True</td>\n",
       "      <td>1</td>\n",
       "      <td>1</td>\n",
       "      <td>4</td>\n",
       "      <td>100.0</td>\n",
       "      <td>...</td>\n",
       "      <td>5.2</td>\n",
       "      <td>122.25</td>\n",
       "      <td>110.45</td>\n",
       "      <td>0.0</td>\n",
       "      <td>38.6</td>\n",
       "      <td>106.39</td>\n",
       "      <td>104.39</td>\n",
       "      <td>1.80</td>\n",
       "      <td>0.0</td>\n",
       "      <td>1.80</td>\n",
       "    </tr>\n",
       "    <tr>\n",
       "      <th>9</th>\n",
       "      <td>101410</td>\n",
       "      <td>S500</td>\n",
       "      <td>Q06</td>\n",
       "      <td>M</td>\n",
       "      <td>26-30</td>\n",
       "      <td>False</td>\n",
       "      <td>2</td>\n",
       "      <td>1</td>\n",
       "      <td>2</td>\n",
       "      <td>50.0</td>\n",
       "      <td>...</td>\n",
       "      <td>6.8</td>\n",
       "      <td>122.25</td>\n",
       "      <td>111.41</td>\n",
       "      <td>3.0</td>\n",
       "      <td>50.1</td>\n",
       "      <td>73.86</td>\n",
       "      <td>71.78</td>\n",
       "      <td>1.80</td>\n",
       "      <td>0.0</td>\n",
       "      <td>1.80</td>\n",
       "    </tr>\n",
       "    <tr>\n",
       "      <th>11</th>\n",
       "      <td>101915</td>\n",
       "      <td>Q3</td>\n",
       "      <td>Q04</td>\n",
       "      <td>F</td>\n",
       "      <td>31-35</td>\n",
       "      <td>True</td>\n",
       "      <td>2</td>\n",
       "      <td>2</td>\n",
       "      <td>4</td>\n",
       "      <td>100.0</td>\n",
       "      <td>...</td>\n",
       "      <td>4.4</td>\n",
       "      <td>96.87</td>\n",
       "      <td>77.61</td>\n",
       "      <td>0.0</td>\n",
       "      <td>38.6</td>\n",
       "      <td>112.11</td>\n",
       "      <td>111.70</td>\n",
       "      <td>1.84</td>\n",
       "      <td>1.0</td>\n",
       "      <td>1.80</td>\n",
       "    </tr>\n",
       "    <tr>\n",
       "      <th>12</th>\n",
       "      <td>102008</td>\n",
       "      <td>S500</td>\n",
       "      <td>Q06</td>\n",
       "      <td>M</td>\n",
       "      <td>22-25</td>\n",
       "      <td>False</td>\n",
       "      <td>1</td>\n",
       "      <td>1</td>\n",
       "      <td>4</td>\n",
       "      <td>100.0</td>\n",
       "      <td>...</td>\n",
       "      <td>6.0</td>\n",
       "      <td>122.25</td>\n",
       "      <td>110.45</td>\n",
       "      <td>0.0</td>\n",
       "      <td>50.1</td>\n",
       "      <td>67.48</td>\n",
       "      <td>65.31</td>\n",
       "      <td>1.80</td>\n",
       "      <td>0.0</td>\n",
       "      <td>1.80</td>\n",
       "    </tr>\n",
       "    <tr>\n",
       "      <th>15</th>\n",
       "      <td>102513</td>\n",
       "      <td>S900</td>\n",
       "      <td>Q10</td>\n",
       "      <td>M</td>\n",
       "      <td>26-30</td>\n",
       "      <td>True</td>\n",
       "      <td>2</td>\n",
       "      <td>2</td>\n",
       "      <td>4</td>\n",
       "      <td>100.0</td>\n",
       "      <td>...</td>\n",
       "      <td>5.2</td>\n",
       "      <td>108.79</td>\n",
       "      <td>98.04</td>\n",
       "      <td>2.0</td>\n",
       "      <td>54.3</td>\n",
       "      <td>84.07</td>\n",
       "      <td>82.37</td>\n",
       "      <td>1.92</td>\n",
       "      <td>0.0</td>\n",
       "      <td>1.92</td>\n",
       "    </tr>\n",
       "    <tr>\n",
       "      <th>16</th>\n",
       "      <td>102614</td>\n",
       "      <td>S1200</td>\n",
       "      <td>Q12</td>\n",
       "      <td>M</td>\n",
       "      <td>22-25</td>\n",
       "      <td>True</td>\n",
       "      <td>2</td>\n",
       "      <td>2</td>\n",
       "      <td>4</td>\n",
       "      <td>100.0</td>\n",
       "      <td>...</td>\n",
       "      <td>3.6</td>\n",
       "      <td>96.87</td>\n",
       "      <td>77.12</td>\n",
       "      <td>0.0</td>\n",
       "      <td>38.6</td>\n",
       "      <td>79.67</td>\n",
       "      <td>78.91</td>\n",
       "      <td>1.80</td>\n",
       "      <td>1.0</td>\n",
       "      <td>1.76</td>\n",
       "    </tr>\n",
       "    <tr>\n",
       "      <th>17</th>\n",
       "      <td>102715</td>\n",
       "      <td>S1200</td>\n",
       "      <td>Q12</td>\n",
       "      <td>M</td>\n",
       "      <td>26-30</td>\n",
       "      <td>True</td>\n",
       "      <td>2</td>\n",
       "      <td>2</td>\n",
       "      <td>4</td>\n",
       "      <td>100.0</td>\n",
       "      <td>...</td>\n",
       "      <td>5.2</td>\n",
       "      <td>93.38</td>\n",
       "      <td>69.88</td>\n",
       "      <td>1.0</td>\n",
       "      <td>38.6</td>\n",
       "      <td>86.03</td>\n",
       "      <td>86.60</td>\n",
       "      <td>1.84</td>\n",
       "      <td>0.0</td>\n",
       "      <td>1.84</td>\n",
       "    </tr>\n",
       "  </tbody>\n",
       "</table>\n",
       "<p>10 rows × 567 columns</p>\n",
       "</div>"
      ],
      "text/plain": [
       "    Subject Release Acquisition Gender    Age  3T_Full_MR_Compl  T1_Count  \\\n",
       "1    100206    S900         Q11      M  26-30              True         1   \n",
       "2    100307      Q1         Q01      F  26-30              True         1   \n",
       "3    100408      Q3         Q03      M  31-35              True         1   \n",
       "8    101309    S500         Q06      M  26-30              True         1   \n",
       "9    101410    S500         Q06      M  26-30             False         2   \n",
       "11   101915      Q3         Q04      F  31-35              True         2   \n",
       "12   102008    S500         Q06      M  22-25             False         1   \n",
       "15   102513    S900         Q10      M  26-30              True         2   \n",
       "16   102614   S1200         Q12      M  22-25              True         2   \n",
       "17   102715   S1200         Q12      M  26-30              True         2   \n",
       "\n",
       "    T2_Count  3T_RS-fMRI_Count  3T_RS-fMRI_PctCompl  ...  Noise_Comp  \\\n",
       "1          1                 4                100.0  ...         6.0   \n",
       "2          1                 4                100.0  ...         3.6   \n",
       "3          1                 4                100.0  ...         2.0   \n",
       "8          1                 4                100.0  ...         5.2   \n",
       "9          1                 2                 50.0  ...         6.8   \n",
       "11         2                 4                100.0  ...         4.4   \n",
       "12         1                 4                100.0  ...         6.0   \n",
       "15         2                 4                100.0  ...         5.2   \n",
       "16         2                 4                100.0  ...         3.6   \n",
       "17         2                 4                100.0  ...         5.2   \n",
       "\n",
       "    Odor_Unadj  Odor_AgeAdj  PainIntens_RawScore  PainInterf_Tscore  \\\n",
       "1       108.79        97.19                  1.0               49.7   \n",
       "2       101.12        86.45                  0.0               38.6   \n",
       "3       108.79        98.04                  2.0               52.6   \n",
       "8       122.25       110.45                  0.0               38.6   \n",
       "9       122.25       111.41                  3.0               50.1   \n",
       "11       96.87        77.61                  0.0               38.6   \n",
       "12      122.25       110.45                  0.0               50.1   \n",
       "15      108.79        98.04                  2.0               54.3   \n",
       "16       96.87        77.12                  0.0               38.6   \n",
       "17       93.38        69.88                  1.0               38.6   \n",
       "\n",
       "    Taste_Unadj  Taste_AgeAdj  Mars_Log_Score  Mars_Errs  Mars_Final  \n",
       "1         72.63         72.03            1.84        0.0        1.84  \n",
       "2         71.69         71.76            1.76        0.0        1.76  \n",
       "3        114.01        113.59            1.76        2.0        1.68  \n",
       "8        106.39        104.39            1.80        0.0        1.80  \n",
       "9         73.86         71.78            1.80        0.0        1.80  \n",
       "11       112.11        111.70            1.84        1.0        1.80  \n",
       "12        67.48         65.31            1.80        0.0        1.80  \n",
       "15        84.07         82.37            1.92        0.0        1.92  \n",
       "16        79.67         78.91            1.80        1.0        1.76  \n",
       "17        86.03         86.60            1.84        0.0        1.84  \n",
       "\n",
       "[10 rows x 567 columns]"
      ]
     },
     "execution_count": 5,
     "metadata": {},
     "output_type": "execute_result"
    },
    {
     "data": {
      "text/plain": [
       "(845, 567)"
      ]
     },
     "execution_count": 5,
     "metadata": {},
     "output_type": "execute_result"
    }
   ],
   "source": [
    "#Percent of missing values for each field\n",
    "print (df.isnull().mean())\n",
    "#Keep only the fields where there is less than 25% of missing values\n",
    "df = df.loc[:, df.isnull().mean() < .25]\n",
    "#The remained fields\n",
    "print(df.columns)\n",
    "#df.head(10)\n",
    "df.shape\n",
    "\n",
    "#Delete rows with missing values\n",
    "#percent of 'normal' values for each row\n",
    "df.notnull().mean(axis=1)\n",
    "#Keep only the rows where there are no missing values \n",
    "df = df.loc[df.notnull().mean(axis=1) == 1, :]\n",
    "df.head(10)\n",
    "df.shape"
   ]
  },
  {
   "cell_type": "code",
   "execution_count": 6,
   "metadata": {},
   "outputs": [
    {
     "data": {
      "text/plain": [
       "Subject           845\n",
       "Release             7\n",
       "Acquisition        13\n",
       "Gender              2\n",
       "Age                 4\n",
       "                 ... \n",
       "Taste_Unadj        95\n",
       "Taste_AgeAdj      178\n",
       "Mars_Log_Score     11\n",
       "Mars_Errs           7\n",
       "Mars_Final         13\n",
       "Length: 567, dtype: int64"
      ]
     },
     "execution_count": 6,
     "metadata": {},
     "output_type": "execute_result"
    },
    {
     "name": "stdout",
     "output_type": "stream",
     "text": [
      "Index(['Subject', 'Release', 'Acquisition', 'Gender', 'Age',\n",
      "       '3T_Full_MR_Compl', 'T1_Count', 'T2_Count', '3T_RS-fMRI_Count',\n",
      "       '3T_RS-fMRI_PctCompl',\n",
      "       ...\n",
      "       'Noise_Comp', 'Odor_Unadj', 'Odor_AgeAdj', 'PainIntens_RawScore',\n",
      "       'PainInterf_Tscore', 'Taste_Unadj', 'Taste_AgeAdj', 'Mars_Log_Score',\n",
      "       'Mars_Errs', 'Mars_Final'],\n",
      "      dtype='object', length=544)\n"
     ]
    },
    {
     "data": {
      "text/html": [
       "<div>\n",
       "<style scoped>\n",
       "    .dataframe tbody tr th:only-of-type {\n",
       "        vertical-align: middle;\n",
       "    }\n",
       "\n",
       "    .dataframe tbody tr th {\n",
       "        vertical-align: top;\n",
       "    }\n",
       "\n",
       "    .dataframe thead th {\n",
       "        text-align: right;\n",
       "    }\n",
       "</style>\n",
       "<table border=\"1\" class=\"dataframe\">\n",
       "  <thead>\n",
       "    <tr style=\"text-align: right;\">\n",
       "      <th></th>\n",
       "      <th>Subject</th>\n",
       "      <th>Release</th>\n",
       "      <th>Acquisition</th>\n",
       "      <th>Gender</th>\n",
       "      <th>Age</th>\n",
       "      <th>3T_Full_MR_Compl</th>\n",
       "      <th>T1_Count</th>\n",
       "      <th>T2_Count</th>\n",
       "      <th>3T_RS-fMRI_Count</th>\n",
       "      <th>3T_RS-fMRI_PctCompl</th>\n",
       "      <th>...</th>\n",
       "      <th>Noise_Comp</th>\n",
       "      <th>Odor_Unadj</th>\n",
       "      <th>Odor_AgeAdj</th>\n",
       "      <th>PainIntens_RawScore</th>\n",
       "      <th>PainInterf_Tscore</th>\n",
       "      <th>Taste_Unadj</th>\n",
       "      <th>Taste_AgeAdj</th>\n",
       "      <th>Mars_Log_Score</th>\n",
       "      <th>Mars_Errs</th>\n",
       "      <th>Mars_Final</th>\n",
       "    </tr>\n",
       "  </thead>\n",
       "  <tbody>\n",
       "    <tr>\n",
       "      <th>1</th>\n",
       "      <td>100206</td>\n",
       "      <td>S900</td>\n",
       "      <td>Q11</td>\n",
       "      <td>M</td>\n",
       "      <td>26-30</td>\n",
       "      <td>True</td>\n",
       "      <td>1</td>\n",
       "      <td>1</td>\n",
       "      <td>4</td>\n",
       "      <td>100.0</td>\n",
       "      <td>...</td>\n",
       "      <td>6.0</td>\n",
       "      <td>108.79</td>\n",
       "      <td>97.19</td>\n",
       "      <td>1.0</td>\n",
       "      <td>49.7</td>\n",
       "      <td>72.63</td>\n",
       "      <td>72.03</td>\n",
       "      <td>1.84</td>\n",
       "      <td>0.0</td>\n",
       "      <td>1.84</td>\n",
       "    </tr>\n",
       "    <tr>\n",
       "      <th>2</th>\n",
       "      <td>100307</td>\n",
       "      <td>Q1</td>\n",
       "      <td>Q01</td>\n",
       "      <td>F</td>\n",
       "      <td>26-30</td>\n",
       "      <td>True</td>\n",
       "      <td>1</td>\n",
       "      <td>1</td>\n",
       "      <td>4</td>\n",
       "      <td>100.0</td>\n",
       "      <td>...</td>\n",
       "      <td>3.6</td>\n",
       "      <td>101.12</td>\n",
       "      <td>86.45</td>\n",
       "      <td>0.0</td>\n",
       "      <td>38.6</td>\n",
       "      <td>71.69</td>\n",
       "      <td>71.76</td>\n",
       "      <td>1.76</td>\n",
       "      <td>0.0</td>\n",
       "      <td>1.76</td>\n",
       "    </tr>\n",
       "    <tr>\n",
       "      <th>3</th>\n",
       "      <td>100408</td>\n",
       "      <td>Q3</td>\n",
       "      <td>Q03</td>\n",
       "      <td>M</td>\n",
       "      <td>31-35</td>\n",
       "      <td>True</td>\n",
       "      <td>1</td>\n",
       "      <td>1</td>\n",
       "      <td>4</td>\n",
       "      <td>100.0</td>\n",
       "      <td>...</td>\n",
       "      <td>2.0</td>\n",
       "      <td>108.79</td>\n",
       "      <td>98.04</td>\n",
       "      <td>2.0</td>\n",
       "      <td>52.6</td>\n",
       "      <td>114.01</td>\n",
       "      <td>113.59</td>\n",
       "      <td>1.76</td>\n",
       "      <td>2.0</td>\n",
       "      <td>1.68</td>\n",
       "    </tr>\n",
       "    <tr>\n",
       "      <th>8</th>\n",
       "      <td>101309</td>\n",
       "      <td>S500</td>\n",
       "      <td>Q06</td>\n",
       "      <td>M</td>\n",
       "      <td>26-30</td>\n",
       "      <td>True</td>\n",
       "      <td>1</td>\n",
       "      <td>1</td>\n",
       "      <td>4</td>\n",
       "      <td>100.0</td>\n",
       "      <td>...</td>\n",
       "      <td>5.2</td>\n",
       "      <td>122.25</td>\n",
       "      <td>110.45</td>\n",
       "      <td>0.0</td>\n",
       "      <td>38.6</td>\n",
       "      <td>106.39</td>\n",
       "      <td>104.39</td>\n",
       "      <td>1.80</td>\n",
       "      <td>0.0</td>\n",
       "      <td>1.80</td>\n",
       "    </tr>\n",
       "    <tr>\n",
       "      <th>9</th>\n",
       "      <td>101410</td>\n",
       "      <td>S500</td>\n",
       "      <td>Q06</td>\n",
       "      <td>M</td>\n",
       "      <td>26-30</td>\n",
       "      <td>False</td>\n",
       "      <td>2</td>\n",
       "      <td>1</td>\n",
       "      <td>2</td>\n",
       "      <td>50.0</td>\n",
       "      <td>...</td>\n",
       "      <td>6.8</td>\n",
       "      <td>122.25</td>\n",
       "      <td>111.41</td>\n",
       "      <td>3.0</td>\n",
       "      <td>50.1</td>\n",
       "      <td>73.86</td>\n",
       "      <td>71.78</td>\n",
       "      <td>1.80</td>\n",
       "      <td>0.0</td>\n",
       "      <td>1.80</td>\n",
       "    </tr>\n",
       "    <tr>\n",
       "      <th>11</th>\n",
       "      <td>101915</td>\n",
       "      <td>Q3</td>\n",
       "      <td>Q04</td>\n",
       "      <td>F</td>\n",
       "      <td>31-35</td>\n",
       "      <td>True</td>\n",
       "      <td>2</td>\n",
       "      <td>2</td>\n",
       "      <td>4</td>\n",
       "      <td>100.0</td>\n",
       "      <td>...</td>\n",
       "      <td>4.4</td>\n",
       "      <td>96.87</td>\n",
       "      <td>77.61</td>\n",
       "      <td>0.0</td>\n",
       "      <td>38.6</td>\n",
       "      <td>112.11</td>\n",
       "      <td>111.70</td>\n",
       "      <td>1.84</td>\n",
       "      <td>1.0</td>\n",
       "      <td>1.80</td>\n",
       "    </tr>\n",
       "    <tr>\n",
       "      <th>12</th>\n",
       "      <td>102008</td>\n",
       "      <td>S500</td>\n",
       "      <td>Q06</td>\n",
       "      <td>M</td>\n",
       "      <td>22-25</td>\n",
       "      <td>False</td>\n",
       "      <td>1</td>\n",
       "      <td>1</td>\n",
       "      <td>4</td>\n",
       "      <td>100.0</td>\n",
       "      <td>...</td>\n",
       "      <td>6.0</td>\n",
       "      <td>122.25</td>\n",
       "      <td>110.45</td>\n",
       "      <td>0.0</td>\n",
       "      <td>50.1</td>\n",
       "      <td>67.48</td>\n",
       "      <td>65.31</td>\n",
       "      <td>1.80</td>\n",
       "      <td>0.0</td>\n",
       "      <td>1.80</td>\n",
       "    </tr>\n",
       "    <tr>\n",
       "      <th>15</th>\n",
       "      <td>102513</td>\n",
       "      <td>S900</td>\n",
       "      <td>Q10</td>\n",
       "      <td>M</td>\n",
       "      <td>26-30</td>\n",
       "      <td>True</td>\n",
       "      <td>2</td>\n",
       "      <td>2</td>\n",
       "      <td>4</td>\n",
       "      <td>100.0</td>\n",
       "      <td>...</td>\n",
       "      <td>5.2</td>\n",
       "      <td>108.79</td>\n",
       "      <td>98.04</td>\n",
       "      <td>2.0</td>\n",
       "      <td>54.3</td>\n",
       "      <td>84.07</td>\n",
       "      <td>82.37</td>\n",
       "      <td>1.92</td>\n",
       "      <td>0.0</td>\n",
       "      <td>1.92</td>\n",
       "    </tr>\n",
       "    <tr>\n",
       "      <th>16</th>\n",
       "      <td>102614</td>\n",
       "      <td>S1200</td>\n",
       "      <td>Q12</td>\n",
       "      <td>M</td>\n",
       "      <td>22-25</td>\n",
       "      <td>True</td>\n",
       "      <td>2</td>\n",
       "      <td>2</td>\n",
       "      <td>4</td>\n",
       "      <td>100.0</td>\n",
       "      <td>...</td>\n",
       "      <td>3.6</td>\n",
       "      <td>96.87</td>\n",
       "      <td>77.12</td>\n",
       "      <td>0.0</td>\n",
       "      <td>38.6</td>\n",
       "      <td>79.67</td>\n",
       "      <td>78.91</td>\n",
       "      <td>1.80</td>\n",
       "      <td>1.0</td>\n",
       "      <td>1.76</td>\n",
       "    </tr>\n",
       "    <tr>\n",
       "      <th>17</th>\n",
       "      <td>102715</td>\n",
       "      <td>S1200</td>\n",
       "      <td>Q12</td>\n",
       "      <td>M</td>\n",
       "      <td>26-30</td>\n",
       "      <td>True</td>\n",
       "      <td>2</td>\n",
       "      <td>2</td>\n",
       "      <td>4</td>\n",
       "      <td>100.0</td>\n",
       "      <td>...</td>\n",
       "      <td>5.2</td>\n",
       "      <td>93.38</td>\n",
       "      <td>69.88</td>\n",
       "      <td>1.0</td>\n",
       "      <td>38.6</td>\n",
       "      <td>86.03</td>\n",
       "      <td>86.60</td>\n",
       "      <td>1.84</td>\n",
       "      <td>0.0</td>\n",
       "      <td>1.84</td>\n",
       "    </tr>\n",
       "  </tbody>\n",
       "</table>\n",
       "<p>10 rows × 544 columns</p>\n",
       "</div>"
      ],
      "text/plain": [
       "    Subject Release Acquisition Gender    Age  3T_Full_MR_Compl  T1_Count  \\\n",
       "1    100206    S900         Q11      M  26-30              True         1   \n",
       "2    100307      Q1         Q01      F  26-30              True         1   \n",
       "3    100408      Q3         Q03      M  31-35              True         1   \n",
       "8    101309    S500         Q06      M  26-30              True         1   \n",
       "9    101410    S500         Q06      M  26-30             False         2   \n",
       "11   101915      Q3         Q04      F  31-35              True         2   \n",
       "12   102008    S500         Q06      M  22-25             False         1   \n",
       "15   102513    S900         Q10      M  26-30              True         2   \n",
       "16   102614   S1200         Q12      M  22-25              True         2   \n",
       "17   102715   S1200         Q12      M  26-30              True         2   \n",
       "\n",
       "    T2_Count  3T_RS-fMRI_Count  3T_RS-fMRI_PctCompl  ...  Noise_Comp  \\\n",
       "1          1                 4                100.0  ...         6.0   \n",
       "2          1                 4                100.0  ...         3.6   \n",
       "3          1                 4                100.0  ...         2.0   \n",
       "8          1                 4                100.0  ...         5.2   \n",
       "9          1                 2                 50.0  ...         6.8   \n",
       "11         2                 4                100.0  ...         4.4   \n",
       "12         1                 4                100.0  ...         6.0   \n",
       "15         2                 4                100.0  ...         5.2   \n",
       "16         2                 4                100.0  ...         3.6   \n",
       "17         2                 4                100.0  ...         5.2   \n",
       "\n",
       "    Odor_Unadj  Odor_AgeAdj  PainIntens_RawScore  PainInterf_Tscore  \\\n",
       "1       108.79        97.19                  1.0               49.7   \n",
       "2       101.12        86.45                  0.0               38.6   \n",
       "3       108.79        98.04                  2.0               52.6   \n",
       "8       122.25       110.45                  0.0               38.6   \n",
       "9       122.25       111.41                  3.0               50.1   \n",
       "11       96.87        77.61                  0.0               38.6   \n",
       "12      122.25       110.45                  0.0               50.1   \n",
       "15      108.79        98.04                  2.0               54.3   \n",
       "16       96.87        77.12                  0.0               38.6   \n",
       "17       93.38        69.88                  1.0               38.6   \n",
       "\n",
       "    Taste_Unadj  Taste_AgeAdj  Mars_Log_Score  Mars_Errs  Mars_Final  \n",
       "1         72.63         72.03            1.84        0.0        1.84  \n",
       "2         71.69         71.76            1.76        0.0        1.76  \n",
       "3        114.01        113.59            1.76        2.0        1.68  \n",
       "8        106.39        104.39            1.80        0.0        1.80  \n",
       "9         73.86         71.78            1.80        0.0        1.80  \n",
       "11       112.11        111.70            1.84        1.0        1.80  \n",
       "12        67.48         65.31            1.80        0.0        1.80  \n",
       "15        84.07         82.37            1.92        0.0        1.92  \n",
       "16        79.67         78.91            1.80        1.0        1.76  \n",
       "17        86.03         86.60            1.84        0.0        1.84  \n",
       "\n",
       "[10 rows x 544 columns]"
      ]
     },
     "execution_count": 6,
     "metadata": {},
     "output_type": "execute_result"
    },
    {
     "data": {
      "text/plain": [
       "(845, 544)"
      ]
     },
     "execution_count": 6,
     "metadata": {},
     "output_type": "execute_result"
    }
   ],
   "source": [
    "#Delete fields with only one unique value\n",
    "#Number of unique values for each field\n",
    "df.nunique()\n",
    "#Keep only the fields where there is more than one unique value\n",
    "df = df.loc[:, df.nunique() > 1]\n",
    "#The remained fields\n",
    "print(df.columns)\n",
    "df.shape"
   ]
  },
  {
   "cell_type": "code",
   "execution_count": 7,
   "metadata": {},
   "outputs": [],
   "source": [
    "#Save to csv\n",
    "#df.to_csv('HCP_behavior_noMissing.csv')"
   ]
  },
  {
   "cell_type": "code",
   "execution_count": 15,
   "metadata": {},
   "outputs": [
    {
     "data": {
      "text/plain": [
       "<bound method Series.unique of 1       26-30\n",
       "2       26-30\n",
       "3       31-35\n",
       "8       26-30\n",
       "9       26-30\n",
       "        ...  \n",
       "1199    26-30\n",
       "1201    31-35\n",
       "1203    26-30\n",
       "1204    22-25\n",
       "1205    26-30\n",
       "Name: Age, Length: 845, dtype: object>"
      ]
     },
     "execution_count": 15,
     "metadata": {},
     "output_type": "execute_result"
    }
   ],
   "source": [
    "#Age\n",
    "df['Age'].unique"
   ]
  },
  {
   "cell_type": "markdown",
   "metadata": {},
   "source": [
    "# Exploration of the behavioral tasks"
   ]
  },
  {
   "cell_type": "markdown",
   "metadata": {},
   "source": [
    "## Perceptual task - Mars contrast test"
   ]
  },
  {
   "cell_type": "code",
   "execution_count": 16,
   "metadata": {},
   "outputs": [
    {
     "data": {
      "text/plain": [
       "count    845.000000\n",
       "mean       1.815302\n",
       "std        0.458903\n",
       "min        1.080000\n",
       "25%        1.760000\n",
       "50%        1.800000\n",
       "75%        1.840000\n",
       "max       15.000000\n",
       "Name: Mars_Final, dtype: float64"
      ]
     },
     "execution_count": 16,
     "metadata": {},
     "output_type": "execute_result"
    },
    {
     "data": {
      "text/plain": [
       "<AxesSubplot:xlabel='Mars_Final'>"
      ]
     },
     "execution_count": 16,
     "metadata": {},
     "output_type": "execute_result"
    },
    {
     "data": {
      "image/png": "[encoded data removed]",
      "text/plain": [
       "<Figure size 432x288 with 1 Axes>"
      ]
     },
     "metadata": {
      "needs_background": "light"
     },
     "output_type": "display_data"
    }
   ],
   "source": [
    "df['Mars_Final'].describe()\n",
    "\n",
    "sns.distplot(df['Mars_Final'])"
   ]
  },
  {
   "cell_type": "code",
   "execution_count": 22,
   "metadata": {},
   "outputs": [
    {
     "data": {
      "text/plain": [
       "<bound method NDFrame.describe of       Subject Release Acquisition Gender    Age  3T_Full_MR_Compl  T1_Count  \\\n",
       "1      100206    S900         Q11      M  26-30              True         1   \n",
       "2      100307      Q1         Q01      F  26-30              True         1   \n",
       "3      100408      Q3         Q03      M  31-35              True         1   \n",
       "8      101309    S500         Q06      M  26-30              True         1   \n",
       "9      101410    S500         Q06      M  26-30             False         2   \n",
       "...       ...     ...         ...    ...    ...               ...       ...   \n",
       "1199   991267    S500         Q06      M  26-30              True         2   \n",
       "1201   992774      Q2         Q02      M  31-35              True         2   \n",
       "1203   994273    S500         Q06      M  26-30              True         1   \n",
       "1204   995174   S1200         Q13      M  22-25             False         1   \n",
       "1205   996782    S900         Q08      F  26-30              True         2   \n",
       "\n",
       "      T2_Count  3T_RS-fMRI_Count  3T_RS-fMRI_PctCompl  ...  \\\n",
       "1            1                 4                100.0  ...   \n",
       "2            1                 4                100.0  ...   \n",
       "3            1                 4                100.0  ...   \n",
       "8            1                 4                100.0  ...   \n",
       "9            1                 2                 50.0  ...   \n",
       "...        ...               ...                  ...  ...   \n",
       "1199         1                 4                100.0  ...   \n",
       "1201         2                 4                100.0  ...   \n",
       "1203         1                 4                100.0  ...   \n",
       "1204         1                 2                  0.0  ...   \n",
       "1205         2                 4                100.0  ...   \n",
       "\n",
       "      PainIntens_RawScore  PainInterf_Tscore  Taste_Unadj  Taste_AgeAdj  \\\n",
       "1                     1.0               49.7        72.63         72.03   \n",
       "2                     0.0               38.6        71.69         71.76   \n",
       "3                     2.0               52.6       114.01        113.59   \n",
       "8                     0.0               38.6       106.39        104.39   \n",
       "9                     3.0               50.1        73.86         71.78   \n",
       "...                   ...                ...          ...           ...   \n",
       "1199                  1.0               46.6        83.23         81.55   \n",
       "1201                  4.0               50.1       107.17        103.55   \n",
       "1203                  7.0               63.8       110.65        109.73   \n",
       "1204                  3.0               50.1       117.16        117.40   \n",
       "1205                  0.0               38.6        75.43         73.72   \n",
       "\n",
       "      Mars_Log_Score  Mars_Errs  Mars_Final  z_score_DDisc_AUC  \\\n",
       "1               1.84        0.0        1.84          -1.649828   \n",
       "2               1.76        0.0        1.76          -0.720225   \n",
       "3               1.76        2.0        1.68          -0.329495   \n",
       "8               1.80        0.0        1.80           1.549156   \n",
       "9               1.80        0.0        1.80          -0.628098   \n",
       "...              ...        ...         ...                ...   \n",
       "1199            1.84        0.0        1.84          -0.625320   \n",
       "1201            1.76        0.0        1.76          -1.758159   \n",
       "1203            1.80        1.0        1.76           0.054754   \n",
       "1204            1.80        0.0        1.80          -0.628098   \n",
       "1205            1.84        0.0        1.84          -0.477639   \n",
       "\n",
       "      z_score_Flanker  z_score_mars  \n",
       "1            1.431472      0.053852  \n",
       "2           -0.033642     -0.120580  \n",
       "3            1.127449     -0.295012  \n",
       "8            0.113370     -0.033364  \n",
       "9           -0.165652     -0.033364  \n",
       "...               ...           ...  \n",
       "1199         1.523479      0.053852  \n",
       "1201         1.356466     -0.120580  \n",
       "1203         1.287461     -0.120580  \n",
       "1204        -1.435751     -0.033364  \n",
       "1205        -1.133727      0.053852  \n",
       "\n",
       "[844 rows x 570 columns]>"
      ]
     },
     "execution_count": 22,
     "metadata": {},
     "output_type": "execute_result"
    }
   ],
   "source": [
    "#z-score\n",
    "df['z_score_mars'] = stats.zscore(df['Mars_Final'])\n",
    "\n",
    "\n",
    "#Remove outliers (>3 SD)\n",
    "df = df.loc[df['z_score_mars'].abs()<=3]\n",
    "df.describe"
   ]
  },
  {
   "cell_type": "code",
   "execution_count": 23,
   "metadata": {},
   "outputs": [
    {
     "data": {
      "text/plain": [
       "<AxesSubplot:xlabel='z_score_mars'>"
      ]
     },
     "execution_count": 23,
     "metadata": {},
     "output_type": "execute_result"
    },
    {
     "data": {
      "image/png": "[encoded data removed]",
      "text/plain": [
       "<Figure size 432x288 with 1 Axes>"
      ]
     },
     "metadata": {
      "needs_background": "light"
     },
     "output_type": "display_data"
    }
   ],
   "source": [
    "sns.distplot(df['z_score_mars'])"
   ]
  },
  {
   "cell_type": "markdown",
   "metadata": {},
   "source": [
    "## Value-based task - delay discounting"
   ]
  },
  {
   "cell_type": "code",
   "execution_count": 6,
   "metadata": {},
   "outputs": [
    {
     "data": {
      "text/plain": [
       "count    845.000000\n",
       "mean       0.264015\n",
       "std        0.202505\n",
       "min        0.015692\n",
       "25%        0.112306\n",
       "50%        0.206838\n",
       "75%        0.356317\n",
       "max        0.984442\n",
       "Name: DDisc_AUC_200, dtype: float64"
      ]
     },
     "execution_count": 6,
     "metadata": {},
     "output_type": "execute_result"
    },
    {
     "data": {
      "text/plain": [
       "<AxesSubplot:xlabel='DDisc_AUC_200'>"
      ]
     },
     "execution_count": 6,
     "metadata": {},
     "output_type": "execute_result"
    },
    {
     "data": {
      "image/png": "[encoded data removed]",
      "text/plain": [
       "<Figure size 432x288 with 1 Axes>"
      ]
     },
     "metadata": {
      "needs_background": "light"
     },
     "output_type": "display_data"
    }
   ],
   "source": [
    "df['DDisc_AUC_200'].describe()\n",
    "\n",
    "sns.distplot(df['DDisc_AUC_200'])"
   ]
  },
  {
   "cell_type": "code",
   "execution_count": 7,
   "metadata": {},
   "outputs": [
    {
     "data": {
      "text/plain": [
       "<bound method NDFrame.describe of       Subject Release Acquisition Gender    Age  3T_Full_MR_Compl  T1_Count  \\\n",
       "1      100206    S900         Q11      M  26-30              True         1   \n",
       "2      100307      Q1         Q01      F  26-30              True         1   \n",
       "3      100408      Q3         Q03      M  31-35              True         1   \n",
       "8      101309    S500         Q06      M  26-30              True         1   \n",
       "9      101410    S500         Q06      M  26-30             False         2   \n",
       "...       ...     ...         ...    ...    ...               ...       ...   \n",
       "1199   991267    S500         Q06      M  26-30              True         2   \n",
       "1201   992774      Q2         Q02      M  31-35              True         2   \n",
       "1203   994273    S500         Q06      M  26-30              True         1   \n",
       "1204   995174   S1200         Q13      M  22-25             False         1   \n",
       "1205   996782    S900         Q08      F  26-30              True         2   \n",
       "\n",
       "      T2_Count  3T_RS-fMRI_Count  3T_RS-fMRI_PctCompl  ...  Odor_Unadj  \\\n",
       "1            1                 4                100.0  ...      108.79   \n",
       "2            1                 4                100.0  ...      101.12   \n",
       "3            1                 4                100.0  ...      108.79   \n",
       "8            1                 4                100.0  ...      122.25   \n",
       "9            1                 2                 50.0  ...      122.25   \n",
       "...        ...               ...                  ...  ...         ...   \n",
       "1199         1                 4                100.0  ...      122.25   \n",
       "1201         2                 4                100.0  ...      122.25   \n",
       "1203         1                 4                100.0  ...      122.25   \n",
       "1204         1                 2                  0.0  ...       88.61   \n",
       "1205         2                 4                100.0  ...      108.79   \n",
       "\n",
       "      Odor_AgeAdj  PainIntens_RawScore  PainInterf_Tscore  Taste_Unadj  \\\n",
       "1           97.19                  1.0               49.7        72.63   \n",
       "2           86.45                  0.0               38.6        71.69   \n",
       "3           98.04                  2.0               52.6       114.01   \n",
       "8          110.45                  0.0               38.6       106.39   \n",
       "9          111.41                  3.0               50.1        73.86   \n",
       "...           ...                  ...                ...          ...   \n",
       "1199       111.41                  1.0               46.6        83.23   \n",
       "1201       111.41                  4.0               50.1       107.17   \n",
       "1203       111.41                  7.0               63.8       110.65   \n",
       "1204        64.58                  3.0               50.1       117.16   \n",
       "1205        97.19                  0.0               38.6        75.43   \n",
       "\n",
       "      Taste_AgeAdj  Mars_Log_Score  Mars_Errs  Mars_Final  z_score_DDisc_AUC  \n",
       "1            72.03            1.84        0.0        1.84          -1.649828  \n",
       "2            71.76            1.76        0.0        1.76          -0.720225  \n",
       "3           113.59            1.76        2.0        1.68          -0.329495  \n",
       "8           104.39            1.80        0.0        1.80           1.549156  \n",
       "9            71.78            1.80        0.0        1.80          -0.628098  \n",
       "...            ...             ...        ...         ...                ...  \n",
       "1199         81.55            1.84        0.0        1.84          -0.625320  \n",
       "1201        103.55            1.76        0.0        1.76          -1.758159  \n",
       "1203        109.73            1.80        1.0        1.76           0.054754  \n",
       "1204        117.40            1.80        0.0        1.80          -0.628098  \n",
       "1205         73.72            1.84        0.0        1.84          -0.477639  \n",
       "\n",
       "[845 rows x 568 columns]>"
      ]
     },
     "execution_count": 7,
     "metadata": {},
     "output_type": "execute_result"
    }
   ],
   "source": [
    "#z-score\n",
    "df['z_score_DDisc_AUC'] = stats.zscore(df['DDisc_AUC_40K'])\n",
    "\n",
    "\n",
    "#Remove outliers (>3 SD)\n",
    "df = df.loc[df['z_score_DDisc_AUC'].abs()<=3]\n",
    "df.describe"
   ]
  },
  {
   "cell_type": "code",
   "execution_count": 20,
   "metadata": {},
   "outputs": [
    {
     "data": {
      "text/plain": [
       "<AxesSubplot:xlabel='z_score_DDisc_AUC'>"
      ]
     },
     "execution_count": 20,
     "metadata": {},
     "output_type": "execute_result"
    },
    {
     "data": {
      "image/png": "[encoded data removed]",
      "text/plain": [
       "<Figure size 432x288 with 1 Axes>"
      ]
     },
     "metadata": {
      "needs_background": "light"
     },
     "output_type": "display_data"
    }
   ],
   "source": [
    "sns.distplot(df['z_score_DDisc_AUC'])"
   ]
  },
  {
   "cell_type": "markdown",
   "metadata": {},
   "source": [
    "## Perceptual decision-making/selective attention - Flanker task"
   ]
  },
  {
   "cell_type": "code",
   "execution_count": 8,
   "metadata": {},
   "outputs": [
    {
     "data": {
      "text/plain": [
       "count    845.000000\n",
       "mean     102.236391\n",
       "std       10.005145\n",
       "min       72.810000\n",
       "25%       95.640000\n",
       "50%      103.230000\n",
       "75%      110.060000\n",
       "max      123.560000\n",
       "Name: Flanker_AgeAdj, dtype: float64"
      ]
     },
     "execution_count": 8,
     "metadata": {},
     "output_type": "execute_result"
    },
    {
     "data": {
      "text/plain": [
       "<AxesSubplot:xlabel='Flanker_AgeAdj'>"
      ]
     },
     "execution_count": 8,
     "metadata": {},
     "output_type": "execute_result"
    },
    {
     "data": {
      "image/png": "[encoded data removed]",
      "text/plain": [
       "<Figure size 432x288 with 1 Axes>"
      ]
     },
     "metadata": {
      "needs_background": "light"
     },
     "output_type": "display_data"
    }
   ],
   "source": [
    "df['Flanker_AgeAdj'].describe()\n",
    "\n",
    "#Scores distribution\n",
    "sns.distplot(df['Flanker_AgeAdj'])"
   ]
  },
  {
   "cell_type": "code",
   "execution_count": 22,
   "metadata": {},
   "outputs": [
    {
     "data": {
      "text/plain": [
       "count    844.000000\n",
       "mean     103.034822\n",
       "std        9.569516\n",
       "min       57.790000\n",
       "25%       96.547500\n",
       "50%      103.115000\n",
       "75%      110.250000\n",
       "max      122.650000\n",
       "Name: CardSort_AgeAdj, dtype: float64"
      ]
     },
     "execution_count": 22,
     "metadata": {},
     "output_type": "execute_result"
    },
    {
     "data": {
      "text/plain": [
       "<AxesSubplot:xlabel='CardSort_AgeAdj'>"
      ]
     },
     "execution_count": 22,
     "metadata": {},
     "output_type": "execute_result"
    },
    {
     "data": {
      "image/png": "[encoded data removed]",
      "text/plain": [
       "<Figure size 432x288 with 1 Axes>"
      ]
     },
     "metadata": {
      "needs_background": "light"
     },
     "output_type": "display_data"
    }
   ],
   "source": [
    "df['CardSort_AgeAdj'].describe()\n",
    "\n",
    "#Scores distribution\n",
    "sns.distplot(df['CardSort_AgeAdj'])"
   ]
  },
  {
   "cell_type": "code",
   "execution_count": 38,
   "metadata": {},
   "outputs": [
    {
     "data": {
      "text/plain": [
       "<matplotlib.collections.PathCollection at 0x7f87adac1dd0>"
      ]
     },
     "execution_count": 38,
     "metadata": {},
     "output_type": "execute_result"
    },
    {
     "data": {
      "image/png": "[encoded data removed]",
      "text/plain": [
       "<Figure size 432x288 with 1 Axes>"
      ]
     },
     "metadata": {},
     "output_type": "display_data"
    },
    {
     "data": {
      "text/plain": [
       "<AxesSubplot:xlabel='Flanker_AgeAdj', ylabel='DDisc_AUC_200'>"
      ]
     },
     "execution_count": 38,
     "metadata": {},
     "output_type": "execute_result"
    },
    {
     "data": {
      "image/png": "[encoded data removed]",
      "text/plain": [
       "<Figure size 432x288 with 1 Axes>"
      ]
     },
     "metadata": {},
     "output_type": "display_data"
    }
   ],
   "source": [
    "#Correlation between Flanker task and CardSort task\n",
    "import matplotlib\n",
    "import matplotlib.pyplot as plt\n",
    "%matplotlib inline\n",
    "matplotlib.style.use('ggplot')\n",
    "\n",
    "x = df['Flanker_AgeAdj']\n",
    "y = df['DDisc_AUC_200']\n",
    "\n",
    "#sc.stats.pearsonr(x, y)\n",
    "\n",
    "plt.scatter(x, y)\n",
    "plt.show()\n",
    "\n",
    "sns.regplot(x, y)"
   ]
  },
  {
   "cell_type": "code",
   "execution_count": 9,
   "metadata": {},
   "outputs": [
    {
     "data": {
      "text/plain": [
       "<bound method NDFrame.describe of       Subject Release Acquisition Gender    Age  3T_Full_MR_Compl  T1_Count  \\\n",
       "1      100206    S900         Q11      M  26-30              True         1   \n",
       "2      100307      Q1         Q01      F  26-30              True         1   \n",
       "3      100408      Q3         Q03      M  31-35              True         1   \n",
       "8      101309    S500         Q06      M  26-30              True         1   \n",
       "9      101410    S500         Q06      M  26-30             False         2   \n",
       "...       ...     ...         ...    ...    ...               ...       ...   \n",
       "1199   991267    S500         Q06      M  26-30              True         2   \n",
       "1201   992774      Q2         Q02      M  31-35              True         2   \n",
       "1203   994273    S500         Q06      M  26-30              True         1   \n",
       "1204   995174   S1200         Q13      M  22-25             False         1   \n",
       "1205   996782    S900         Q08      F  26-30              True         2   \n",
       "\n",
       "      T2_Count  3T_RS-fMRI_Count  3T_RS-fMRI_PctCompl  ...  Odor_AgeAdj  \\\n",
       "1            1                 4                100.0  ...        97.19   \n",
       "2            1                 4                100.0  ...        86.45   \n",
       "3            1                 4                100.0  ...        98.04   \n",
       "8            1                 4                100.0  ...       110.45   \n",
       "9            1                 2                 50.0  ...       111.41   \n",
       "...        ...               ...                  ...  ...          ...   \n",
       "1199         1                 4                100.0  ...       111.41   \n",
       "1201         2                 4                100.0  ...       111.41   \n",
       "1203         1                 4                100.0  ...       111.41   \n",
       "1204         1                 2                  0.0  ...        64.58   \n",
       "1205         2                 4                100.0  ...        97.19   \n",
       "\n",
       "      PainIntens_RawScore  PainInterf_Tscore  Taste_Unadj  Taste_AgeAdj  \\\n",
       "1                     1.0               49.7        72.63         72.03   \n",
       "2                     0.0               38.6        71.69         71.76   \n",
       "3                     2.0               52.6       114.01        113.59   \n",
       "8                     0.0               38.6       106.39        104.39   \n",
       "9                     3.0               50.1        73.86         71.78   \n",
       "...                   ...                ...          ...           ...   \n",
       "1199                  1.0               46.6        83.23         81.55   \n",
       "1201                  4.0               50.1       107.17        103.55   \n",
       "1203                  7.0               63.8       110.65        109.73   \n",
       "1204                  3.0               50.1       117.16        117.40   \n",
       "1205                  0.0               38.6        75.43         73.72   \n",
       "\n",
       "      Mars_Log_Score  Mars_Errs  Mars_Final  z_score_DDisc_AUC  \\\n",
       "1               1.84        0.0        1.84          -1.649828   \n",
       "2               1.76        0.0        1.76          -0.720225   \n",
       "3               1.76        2.0        1.68          -0.329495   \n",
       "8               1.80        0.0        1.80           1.549156   \n",
       "9               1.80        0.0        1.80          -0.628098   \n",
       "...              ...        ...         ...                ...   \n",
       "1199            1.84        0.0        1.84          -0.625320   \n",
       "1201            1.76        0.0        1.76          -1.758159   \n",
       "1203            1.80        1.0        1.76           0.054754   \n",
       "1204            1.80        0.0        1.80          -0.628098   \n",
       "1205            1.84        0.0        1.84          -0.477639   \n",
       "\n",
       "      z_score_Flanker  \n",
       "1            1.431472  \n",
       "2           -0.033642  \n",
       "3            1.127449  \n",
       "8            0.113370  \n",
       "9           -0.165652  \n",
       "...               ...  \n",
       "1199         1.523479  \n",
       "1201         1.356466  \n",
       "1203         1.287461  \n",
       "1204        -1.435751  \n",
       "1205        -1.133727  \n",
       "\n",
       "[845 rows x 569 columns]>"
      ]
     },
     "execution_count": 9,
     "metadata": {},
     "output_type": "execute_result"
    }
   ],
   "source": [
    "#z-score\n",
    "df['z_score_Flanker'] = stats.zscore(df['Flanker_AgeAdj'])\n",
    "\n",
    "\n",
    "#Remove outliers (>3 SD)\n",
    "df = df.loc[df['z_score_Flanker'].abs()<=3]\n",
    "df.describe"
   ]
  },
  {
   "cell_type": "code",
   "execution_count": 18,
   "metadata": {},
   "outputs": [
    {
     "data": {
      "text/plain": [
       "<AxesSubplot:xlabel='z_score_Flanker'>"
      ]
     },
     "execution_count": 18,
     "metadata": {},
     "output_type": "execute_result"
    },
    {
     "data": {
      "image/png": "[encoded data removed]",
      "text/plain": [
       "<Figure size 432x288 with 1 Axes>"
      ]
     },
     "metadata": {
      "needs_background": "light"
     },
     "output_type": "display_data"
    }
   ],
   "source": [
    "sns.distplot(df['z_score_Flanker'])"
   ]
  },
  {
   "cell_type": "markdown",
   "metadata": {},
   "source": [
    "## Comparison between z_scores of Mars Contrast and Delay discount"
   ]
  },
  {
   "cell_type": "code",
   "execution_count": 24,
   "metadata": {},
   "outputs": [
    {
     "data": {
      "text/plain": [
       "(0.04885852528899783, 0.1561424490479856)"
      ]
     },
     "execution_count": 24,
     "metadata": {},
     "output_type": "execute_result"
    }
   ],
   "source": [
    "#correlation\n",
    "x = df['z_score_DDisc_AUC']\n",
    "y = df['z_score_mars']\n",
    "sc.stats.pearsonr(x, y)"
   ]
  },
  {
   "cell_type": "code",
   "execution_count": 25,
   "metadata": {},
   "outputs": [
    {
     "data": {
      "text/plain": [
       "<matplotlib.collections.PathCollection at 0x7f87add746d0>"
      ]
     },
     "execution_count": 25,
     "metadata": {},
     "output_type": "execute_result"
    },
    {
     "data": {
      "image/png": "[encoded data removed]",
      "text/plain": [
       "<Figure size 432x288 with 1 Axes>"
      ]
     },
     "metadata": {},
     "output_type": "display_data"
    }
   ],
   "source": [
    "import matplotlib\n",
    "import matplotlib.pyplot as plt\n",
    "%matplotlib inline\n",
    "matplotlib.style.use('ggplot')\n",
    "\n",
    "x = df['z_score_DDisc_AUC']\n",
    "y = df['z_score_mars']\n",
    "\n",
    "#sc.stats.pearsonr(x, y)\n",
    "\n",
    "plt.scatter(x, y)\n",
    "plt.show()"
   ]
  },
  {
   "cell_type": "code",
   "execution_count": 20,
   "metadata": {},
   "outputs": [
    {
     "name": "stderr",
     "output_type": "stream",
     "text": [
      "/home/lizakson/miniconda3/lib/python3.7/site-packages/ipykernel_launcher.py:13: SettingWithCopyWarning: \n",
      "A value is trying to be set on a copy of a slice from a DataFrame\n",
      "\n",
      "See the caveats in the documentation: https://pandas.pydata.org/pandas-docs/stable/user_guide/indexing.html#returning-a-view-versus-a-copy\n",
      "  del sys.path[0]\n",
      "/home/lizakson/miniconda3/lib/python3.7/site-packages/ipykernel_launcher.py:6: SettingWithCopyWarning: \n",
      "A value is trying to be set on a copy of a slice from a DataFrame\n",
      "\n",
      "See the caveats in the documentation: https://pandas.pydata.org/pandas-docs/stable/user_guide/indexing.html#returning-a-view-versus-a-copy\n",
      "  \n",
      "/home/lizakson/miniconda3/lib/python3.7/site-packages/ipykernel_launcher.py:9: SettingWithCopyWarning: \n",
      "A value is trying to be set on a copy of a slice from a DataFrame\n",
      "\n",
      "See the caveats in the documentation: https://pandas.pydata.org/pandas-docs/stable/user_guide/indexing.html#returning-a-view-versus-a-copy\n",
      "  if __name__ == '__main__':\n",
      "/home/lizakson/miniconda3/lib/python3.7/site-packages/ipykernel_launcher.py:11: SettingWithCopyWarning: \n",
      "A value is trying to be set on a copy of a slice from a DataFrame\n",
      "\n",
      "See the caveats in the documentation: https://pandas.pydata.org/pandas-docs/stable/user_guide/indexing.html#returning-a-view-versus-a-copy\n",
      "  # This is added back by InteractiveShellApp.init_path()\n"
     ]
    },
    {
     "data": {
      "text/plain": [
       "array([3, 0, 1, 2], dtype=object)"
      ]
     },
     "execution_count": 20,
     "metadata": {},
     "output_type": "execute_result"
    }
   ],
   "source": [
    "#Devide the subjects into 4 groups according to the z-scores in both variables\n",
    "df['GroupType'] = \"\"\n",
    "\n",
    "for index, row in df.iterrows():\n",
    "    if row['z_score_mars'] < 0.0 and row['z_score_DDisc_AUC'] < 0.0:\n",
    "        df['GroupType'][index] = 0\n",
    "        #print(row)\n",
    "    elif row['z_score_mars'] < 0 and row['z_score_DDisc_AUC'] > 0:\n",
    "        df['GroupType'][index] = 1\n",
    "    elif row['z_score_mars'] >= 0 and row['z_score_DDisc_AUC'] >= 0:\n",
    "        df['GroupType'][index] = 2\n",
    "    elif row['z_score_mars'] >= 0 and row['z_score_DDisc_AUC'] <= 0:\n",
    "        df['GroupType'][index]= 3\n",
    "\n",
    "df['GroupType'].unique()\n",
    "\n"
   ]
  },
  {
   "cell_type": "code",
   "execution_count": 21,
   "metadata": {},
   "outputs": [
    {
     "data": {
      "text/html": [
       "<div>\n",
       "<style scoped>\n",
       "    .dataframe tbody tr th:only-of-type {\n",
       "        vertical-align: middle;\n",
       "    }\n",
       "\n",
       "    .dataframe tbody tr th {\n",
       "        vertical-align: top;\n",
       "    }\n",
       "\n",
       "    .dataframe thead th {\n",
       "        text-align: right;\n",
       "    }\n",
       "</style>\n",
       "<table border=\"1\" class=\"dataframe\">\n",
       "  <thead>\n",
       "    <tr style=\"text-align: right;\">\n",
       "      <th></th>\n",
       "      <th>Subject</th>\n",
       "      <th>Release</th>\n",
       "      <th>Acquisition</th>\n",
       "      <th>Gender</th>\n",
       "      <th>Age</th>\n",
       "      <th>3T_Full_MR_Compl</th>\n",
       "      <th>T1_Count</th>\n",
       "      <th>T2_Count</th>\n",
       "      <th>3T_RS-fMRI_Count</th>\n",
       "      <th>3T_RS-fMRI_PctCompl</th>\n",
       "      <th>...</th>\n",
       "      <th>PainIntens_RawScore</th>\n",
       "      <th>PainInterf_Tscore</th>\n",
       "      <th>Taste_Unadj</th>\n",
       "      <th>Taste_AgeAdj</th>\n",
       "      <th>Mars_Log_Score</th>\n",
       "      <th>Mars_Errs</th>\n",
       "      <th>Mars_Final</th>\n",
       "      <th>z_score_mars</th>\n",
       "      <th>z_score_DDisc_AUC</th>\n",
       "      <th>GroupType</th>\n",
       "    </tr>\n",
       "  </thead>\n",
       "  <tbody>\n",
       "    <tr>\n",
       "      <th>1</th>\n",
       "      <td>100206</td>\n",
       "      <td>S900</td>\n",
       "      <td>Q11</td>\n",
       "      <td>M</td>\n",
       "      <td>26-30</td>\n",
       "      <td>True</td>\n",
       "      <td>1</td>\n",
       "      <td>1</td>\n",
       "      <td>4</td>\n",
       "      <td>100.0</td>\n",
       "      <td>...</td>\n",
       "      <td>1.0</td>\n",
       "      <td>49.7</td>\n",
       "      <td>72.63</td>\n",
       "      <td>72.03</td>\n",
       "      <td>1.84</td>\n",
       "      <td>0.0</td>\n",
       "      <td>1.84</td>\n",
       "      <td>0.053852</td>\n",
       "      <td>-1.649623</td>\n",
       "      <td>3</td>\n",
       "    </tr>\n",
       "    <tr>\n",
       "      <th>2</th>\n",
       "      <td>100307</td>\n",
       "      <td>Q1</td>\n",
       "      <td>Q01</td>\n",
       "      <td>F</td>\n",
       "      <td>26-30</td>\n",
       "      <td>True</td>\n",
       "      <td>1</td>\n",
       "      <td>1</td>\n",
       "      <td>4</td>\n",
       "      <td>100.0</td>\n",
       "      <td>...</td>\n",
       "      <td>0.0</td>\n",
       "      <td>38.6</td>\n",
       "      <td>71.69</td>\n",
       "      <td>71.76</td>\n",
       "      <td>1.76</td>\n",
       "      <td>0.0</td>\n",
       "      <td>1.76</td>\n",
       "      <td>-0.120580</td>\n",
       "      <td>-0.720448</td>\n",
       "      <td>0</td>\n",
       "    </tr>\n",
       "    <tr>\n",
       "      <th>3</th>\n",
       "      <td>100408</td>\n",
       "      <td>Q3</td>\n",
       "      <td>Q03</td>\n",
       "      <td>M</td>\n",
       "      <td>31-35</td>\n",
       "      <td>True</td>\n",
       "      <td>1</td>\n",
       "      <td>1</td>\n",
       "      <td>4</td>\n",
       "      <td>100.0</td>\n",
       "      <td>...</td>\n",
       "      <td>2.0</td>\n",
       "      <td>52.6</td>\n",
       "      <td>114.01</td>\n",
       "      <td>113.59</td>\n",
       "      <td>1.76</td>\n",
       "      <td>2.0</td>\n",
       "      <td>1.68</td>\n",
       "      <td>-0.295012</td>\n",
       "      <td>-0.329899</td>\n",
       "      <td>0</td>\n",
       "    </tr>\n",
       "    <tr>\n",
       "      <th>8</th>\n",
       "      <td>101309</td>\n",
       "      <td>S500</td>\n",
       "      <td>Q06</td>\n",
       "      <td>M</td>\n",
       "      <td>26-30</td>\n",
       "      <td>True</td>\n",
       "      <td>1</td>\n",
       "      <td>1</td>\n",
       "      <td>4</td>\n",
       "      <td>100.0</td>\n",
       "      <td>...</td>\n",
       "      <td>0.0</td>\n",
       "      <td>38.6</td>\n",
       "      <td>106.39</td>\n",
       "      <td>104.39</td>\n",
       "      <td>1.80</td>\n",
       "      <td>0.0</td>\n",
       "      <td>1.80</td>\n",
       "      <td>-0.033364</td>\n",
       "      <td>1.547886</td>\n",
       "      <td>1</td>\n",
       "    </tr>\n",
       "    <tr>\n",
       "      <th>9</th>\n",
       "      <td>101410</td>\n",
       "      <td>S500</td>\n",
       "      <td>Q06</td>\n",
       "      <td>M</td>\n",
       "      <td>26-30</td>\n",
       "      <td>False</td>\n",
       "      <td>2</td>\n",
       "      <td>1</td>\n",
       "      <td>2</td>\n",
       "      <td>50.0</td>\n",
       "      <td>...</td>\n",
       "      <td>3.0</td>\n",
       "      <td>50.1</td>\n",
       "      <td>73.86</td>\n",
       "      <td>71.78</td>\n",
       "      <td>1.80</td>\n",
       "      <td>0.0</td>\n",
       "      <td>1.80</td>\n",
       "      <td>-0.033364</td>\n",
       "      <td>-0.628364</td>\n",
       "      <td>0</td>\n",
       "    </tr>\n",
       "    <tr>\n",
       "      <th>11</th>\n",
       "      <td>101915</td>\n",
       "      <td>Q3</td>\n",
       "      <td>Q04</td>\n",
       "      <td>F</td>\n",
       "      <td>31-35</td>\n",
       "      <td>True</td>\n",
       "      <td>2</td>\n",
       "      <td>2</td>\n",
       "      <td>4</td>\n",
       "      <td>100.0</td>\n",
       "      <td>...</td>\n",
       "      <td>0.0</td>\n",
       "      <td>38.6</td>\n",
       "      <td>112.11</td>\n",
       "      <td>111.70</td>\n",
       "      <td>1.84</td>\n",
       "      <td>1.0</td>\n",
       "      <td>1.80</td>\n",
       "      <td>-0.033364</td>\n",
       "      <td>1.454413</td>\n",
       "      <td>1</td>\n",
       "    </tr>\n",
       "    <tr>\n",
       "      <th>12</th>\n",
       "      <td>102008</td>\n",
       "      <td>S500</td>\n",
       "      <td>Q06</td>\n",
       "      <td>M</td>\n",
       "      <td>22-25</td>\n",
       "      <td>False</td>\n",
       "      <td>1</td>\n",
       "      <td>1</td>\n",
       "      <td>4</td>\n",
       "      <td>100.0</td>\n",
       "      <td>...</td>\n",
       "      <td>0.0</td>\n",
       "      <td>50.1</td>\n",
       "      <td>67.48</td>\n",
       "      <td>65.31</td>\n",
       "      <td>1.80</td>\n",
       "      <td>0.0</td>\n",
       "      <td>1.80</td>\n",
       "      <td>-0.033364</td>\n",
       "      <td>-0.881943</td>\n",
       "      <td>0</td>\n",
       "    </tr>\n",
       "    <tr>\n",
       "      <th>15</th>\n",
       "      <td>102513</td>\n",
       "      <td>S900</td>\n",
       "      <td>Q10</td>\n",
       "      <td>M</td>\n",
       "      <td>26-30</td>\n",
       "      <td>True</td>\n",
       "      <td>2</td>\n",
       "      <td>2</td>\n",
       "      <td>4</td>\n",
       "      <td>100.0</td>\n",
       "      <td>...</td>\n",
       "      <td>2.0</td>\n",
       "      <td>54.3</td>\n",
       "      <td>84.07</td>\n",
       "      <td>82.37</td>\n",
       "      <td>1.92</td>\n",
       "      <td>0.0</td>\n",
       "      <td>1.92</td>\n",
       "      <td>0.228284</td>\n",
       "      <td>-1.324782</td>\n",
       "      <td>3</td>\n",
       "    </tr>\n",
       "    <tr>\n",
       "      <th>16</th>\n",
       "      <td>102614</td>\n",
       "      <td>S1200</td>\n",
       "      <td>Q12</td>\n",
       "      <td>M</td>\n",
       "      <td>22-25</td>\n",
       "      <td>True</td>\n",
       "      <td>2</td>\n",
       "      <td>2</td>\n",
       "      <td>4</td>\n",
       "      <td>100.0</td>\n",
       "      <td>...</td>\n",
       "      <td>0.0</td>\n",
       "      <td>38.6</td>\n",
       "      <td>79.67</td>\n",
       "      <td>78.91</td>\n",
       "      <td>1.80</td>\n",
       "      <td>1.0</td>\n",
       "      <td>1.76</td>\n",
       "      <td>-0.120580</td>\n",
       "      <td>1.587681</td>\n",
       "      <td>1</td>\n",
       "    </tr>\n",
       "    <tr>\n",
       "      <th>17</th>\n",
       "      <td>102715</td>\n",
       "      <td>S1200</td>\n",
       "      <td>Q12</td>\n",
       "      <td>M</td>\n",
       "      <td>26-30</td>\n",
       "      <td>True</td>\n",
       "      <td>2</td>\n",
       "      <td>2</td>\n",
       "      <td>4</td>\n",
       "      <td>100.0</td>\n",
       "      <td>...</td>\n",
       "      <td>1.0</td>\n",
       "      <td>38.6</td>\n",
       "      <td>86.03</td>\n",
       "      <td>86.60</td>\n",
       "      <td>1.84</td>\n",
       "      <td>0.0</td>\n",
       "      <td>1.84</td>\n",
       "      <td>0.053852</td>\n",
       "      <td>0.893576</td>\n",
       "      <td>2</td>\n",
       "    </tr>\n",
       "  </tbody>\n",
       "</table>\n",
       "<p>10 rows × 547 columns</p>\n",
       "</div>"
      ],
      "text/plain": [
       "    Subject Release Acquisition Gender    Age  3T_Full_MR_Compl  T1_Count  \\\n",
       "1    100206    S900         Q11      M  26-30              True         1   \n",
       "2    100307      Q1         Q01      F  26-30              True         1   \n",
       "3    100408      Q3         Q03      M  31-35              True         1   \n",
       "8    101309    S500         Q06      M  26-30              True         1   \n",
       "9    101410    S500         Q06      M  26-30             False         2   \n",
       "11   101915      Q3         Q04      F  31-35              True         2   \n",
       "12   102008    S500         Q06      M  22-25             False         1   \n",
       "15   102513    S900         Q10      M  26-30              True         2   \n",
       "16   102614   S1200         Q12      M  22-25              True         2   \n",
       "17   102715   S1200         Q12      M  26-30              True         2   \n",
       "\n",
       "    T2_Count  3T_RS-fMRI_Count  3T_RS-fMRI_PctCompl  ...  PainIntens_RawScore  \\\n",
       "1          1                 4                100.0  ...                  1.0   \n",
       "2          1                 4                100.0  ...                  0.0   \n",
       "3          1                 4                100.0  ...                  2.0   \n",
       "8          1                 4                100.0  ...                  0.0   \n",
       "9          1                 2                 50.0  ...                  3.0   \n",
       "11         2                 4                100.0  ...                  0.0   \n",
       "12         1                 4                100.0  ...                  0.0   \n",
       "15         2                 4                100.0  ...                  2.0   \n",
       "16         2                 4                100.0  ...                  0.0   \n",
       "17         2                 4                100.0  ...                  1.0   \n",
       "\n",
       "    PainInterf_Tscore  Taste_Unadj  Taste_AgeAdj  Mars_Log_Score  Mars_Errs  \\\n",
       "1                49.7        72.63         72.03            1.84        0.0   \n",
       "2                38.6        71.69         71.76            1.76        0.0   \n",
       "3                52.6       114.01        113.59            1.76        2.0   \n",
       "8                38.6       106.39        104.39            1.80        0.0   \n",
       "9                50.1        73.86         71.78            1.80        0.0   \n",
       "11               38.6       112.11        111.70            1.84        1.0   \n",
       "12               50.1        67.48         65.31            1.80        0.0   \n",
       "15               54.3        84.07         82.37            1.92        0.0   \n",
       "16               38.6        79.67         78.91            1.80        1.0   \n",
       "17               38.6        86.03         86.60            1.84        0.0   \n",
       "\n",
       "    Mars_Final  z_score_mars  z_score_DDisc_AUC  GroupType  \n",
       "1         1.84      0.053852          -1.649623          3  \n",
       "2         1.76     -0.120580          -0.720448          0  \n",
       "3         1.68     -0.295012          -0.329899          0  \n",
       "8         1.80     -0.033364           1.547886          1  \n",
       "9         1.80     -0.033364          -0.628364          0  \n",
       "11        1.80     -0.033364           1.454413          1  \n",
       "12        1.80     -0.033364          -0.881943          0  \n",
       "15        1.92      0.228284          -1.324782          3  \n",
       "16        1.76     -0.120580           1.587681          1  \n",
       "17        1.84      0.053852           0.893576          2  \n",
       "\n",
       "[10 rows x 547 columns]"
      ]
     },
     "execution_count": 21,
     "metadata": {},
     "output_type": "execute_result"
    }
   ],
   "source": [
    "#validate if the classification to groups is correct\n",
    "df.head(10)"
   ]
  },
  {
   "cell_type": "code",
   "execution_count": 22,
   "metadata": {},
   "outputs": [
    {
     "name": "stdout",
     "output_type": "stream",
     "text": [
      "GroupType\n",
      "0    102.124153\n",
      "1    102.283682\n",
      "2    103.438485\n",
      "3    100.978770\n",
      "Name: Flanker_AgeAdj, dtype: float64\n"
     ]
    },
    {
     "data": {
      "text/plain": [
       "<AxesSubplot:xlabel='GroupType'>"
      ]
     },
     "execution_count": 22,
     "metadata": {},
     "output_type": "execute_result"
    },
    {
     "data": {
      "image/png": "[encoded data removed]",
      "text/plain": [
       "<Figure size 432x288 with 1 Axes>"
      ]
     },
     "metadata": {},
     "output_type": "display_data"
    }
   ],
   "source": [
    "#Show performance in Flanker task according to the 4 groups\n",
    "FT = df.groupby(['GroupType'])['Flanker_AgeAdj'].mean()\n",
    "print(FT)\n",
    "FT.plot(kind='bar')"
   ]
  },
  {
   "cell_type": "code",
   "execution_count": 23,
   "metadata": {},
   "outputs": [
    {
     "data": {
      "text/html": [
       "<div>\n",
       "<style scoped>\n",
       "    .dataframe tbody tr th:only-of-type {\n",
       "        vertical-align: middle;\n",
       "    }\n",
       "\n",
       "    .dataframe tbody tr th {\n",
       "        vertical-align: top;\n",
       "    }\n",
       "\n",
       "    .dataframe thead th {\n",
       "        text-align: right;\n",
       "    }\n",
       "</style>\n",
       "<table border=\"1\" class=\"dataframe\">\n",
       "  <thead>\n",
       "    <tr style=\"text-align: right;\">\n",
       "      <th></th>\n",
       "      <th>sum_sq</th>\n",
       "      <th>df</th>\n",
       "      <th>F</th>\n",
       "      <th>PR(&gt;F)</th>\n",
       "    </tr>\n",
       "  </thead>\n",
       "  <tbody>\n",
       "    <tr>\n",
       "      <th>C(GroupType)</th>\n",
       "      <td>387.928932</td>\n",
       "      <td>3.0</td>\n",
       "      <td>1.295921</td>\n",
       "      <td>0.274593</td>\n",
       "    </tr>\n",
       "    <tr>\n",
       "      <th>Residual</th>\n",
       "      <td>83816.915257</td>\n",
       "      <td>840.0</td>\n",
       "      <td>NaN</td>\n",
       "      <td>NaN</td>\n",
       "    </tr>\n",
       "  </tbody>\n",
       "</table>\n",
       "</div>"
      ],
      "text/plain": [
       "                    sum_sq     df         F    PR(>F)\n",
       "C(GroupType)    387.928932    3.0  1.295921  0.274593\n",
       "Residual      83816.915257  840.0       NaN       NaN"
      ]
     },
     "execution_count": 23,
     "metadata": {},
     "output_type": "execute_result"
    }
   ],
   "source": [
    "#from: https://www.pythonfordatascience.org/anova-python/\n",
    "import statsmodels.api as sm\n",
    "from statsmodels.formula.api import ols\n",
    "\n",
    "model = ols('Flanker_AgeAdj ~ C(GroupType)', data=df).fit()\n",
    "aov_table = sm.stats.anova_lm(model, typ=2)\n",
    "aov_table"
   ]
  },
  {
   "cell_type": "code",
   "execution_count": 27,
   "metadata": {},
   "outputs": [
    {
     "name": "stderr",
     "output_type": "stream",
     "text": [
      "/home/lizakson/miniconda3/lib/python3.7/site-packages/ipykernel_launcher.py:4: SettingWithCopyWarning: \n",
      "A value is trying to be set on a copy of a slice from a DataFrame.\n",
      "Try using .loc[row_indexer,col_indexer] = value instead\n",
      "\n",
      "See the caveats in the documentation: https://pandas.pydata.org/pandas-docs/stable/user_guide/indexing.html#returning-a-view-versus-a-copy\n",
      "  after removing the cwd from sys.path.\n",
      "/home/lizakson/miniconda3/lib/python3.7/site-packages/ipykernel_launcher.py:7: SettingWithCopyWarning: \n",
      "A value is trying to be set on a copy of a slice from a DataFrame\n",
      "\n",
      "See the caveats in the documentation: https://pandas.pydata.org/pandas-docs/stable/user_guide/indexing.html#returning-a-view-versus-a-copy\n",
      "  import sys\n"
     ]
    },
    {
     "data": {
      "text/plain": [
       "1         1.70368\n",
       "2        0.599645\n",
       "3       0.0344831\n",
       "8         1.58252\n",
       "9        0.594734\n",
       "          ...    \n",
       "1199     0.679172\n",
       "1201      1.63758\n",
       "1203     0.175334\n",
       "1204     0.594734\n",
       "1205     0.531491\n",
       "Name: z_score_compare, Length: 844, dtype: object"
      ]
     },
     "execution_count": 27,
     "metadata": {},
     "output_type": "execute_result"
    },
    {
     "data": {
      "text/html": [
       "<div>\n",
       "<style scoped>\n",
       "    .dataframe tbody tr th:only-of-type {\n",
       "        vertical-align: middle;\n",
       "    }\n",
       "\n",
       "    .dataframe tbody tr th {\n",
       "        vertical-align: top;\n",
       "    }\n",
       "\n",
       "    .dataframe thead th {\n",
       "        text-align: right;\n",
       "    }\n",
       "</style>\n",
       "<table border=\"1\" class=\"dataframe\">\n",
       "  <thead>\n",
       "    <tr style=\"text-align: right;\">\n",
       "      <th></th>\n",
       "      <th>Subject</th>\n",
       "      <th>Release</th>\n",
       "      <th>Acquisition</th>\n",
       "      <th>Gender</th>\n",
       "      <th>Age</th>\n",
       "      <th>3T_Full_MR_Compl</th>\n",
       "      <th>T1_Count</th>\n",
       "      <th>T2_Count</th>\n",
       "      <th>3T_RS-fMRI_Count</th>\n",
       "      <th>3T_RS-fMRI_PctCompl</th>\n",
       "      <th>...</th>\n",
       "      <th>PainInterf_Tscore</th>\n",
       "      <th>Taste_Unadj</th>\n",
       "      <th>Taste_AgeAdj</th>\n",
       "      <th>Mars_Log_Score</th>\n",
       "      <th>Mars_Errs</th>\n",
       "      <th>Mars_Final</th>\n",
       "      <th>z_score_DDisc_AUC</th>\n",
       "      <th>z_score_Flanker</th>\n",
       "      <th>z_score_mars</th>\n",
       "      <th>z_score_compare</th>\n",
       "    </tr>\n",
       "  </thead>\n",
       "  <tbody>\n",
       "    <tr>\n",
       "      <th>1</th>\n",
       "      <td>100206</td>\n",
       "      <td>S900</td>\n",
       "      <td>Q11</td>\n",
       "      <td>M</td>\n",
       "      <td>26-30</td>\n",
       "      <td>True</td>\n",
       "      <td>1</td>\n",
       "      <td>1</td>\n",
       "      <td>4</td>\n",
       "      <td>100.0</td>\n",
       "      <td>...</td>\n",
       "      <td>49.7</td>\n",
       "      <td>72.63</td>\n",
       "      <td>72.03</td>\n",
       "      <td>1.84</td>\n",
       "      <td>0.0</td>\n",
       "      <td>1.84</td>\n",
       "      <td>-1.649828</td>\n",
       "      <td>1.431472</td>\n",
       "      <td>0.053852</td>\n",
       "      <td>1.70368</td>\n",
       "    </tr>\n",
       "    <tr>\n",
       "      <th>2</th>\n",
       "      <td>100307</td>\n",
       "      <td>Q1</td>\n",
       "      <td>Q01</td>\n",
       "      <td>F</td>\n",
       "      <td>26-30</td>\n",
       "      <td>True</td>\n",
       "      <td>1</td>\n",
       "      <td>1</td>\n",
       "      <td>4</td>\n",
       "      <td>100.0</td>\n",
       "      <td>...</td>\n",
       "      <td>38.6</td>\n",
       "      <td>71.69</td>\n",
       "      <td>71.76</td>\n",
       "      <td>1.76</td>\n",
       "      <td>0.0</td>\n",
       "      <td>1.76</td>\n",
       "      <td>-0.720225</td>\n",
       "      <td>-0.033642</td>\n",
       "      <td>-0.120580</td>\n",
       "      <td>0.599645</td>\n",
       "    </tr>\n",
       "    <tr>\n",
       "      <th>3</th>\n",
       "      <td>100408</td>\n",
       "      <td>Q3</td>\n",
       "      <td>Q03</td>\n",
       "      <td>M</td>\n",
       "      <td>31-35</td>\n",
       "      <td>True</td>\n",
       "      <td>1</td>\n",
       "      <td>1</td>\n",
       "      <td>4</td>\n",
       "      <td>100.0</td>\n",
       "      <td>...</td>\n",
       "      <td>52.6</td>\n",
       "      <td>114.01</td>\n",
       "      <td>113.59</td>\n",
       "      <td>1.76</td>\n",
       "      <td>2.0</td>\n",
       "      <td>1.68</td>\n",
       "      <td>-0.329495</td>\n",
       "      <td>1.127449</td>\n",
       "      <td>-0.295012</td>\n",
       "      <td>0.0344831</td>\n",
       "    </tr>\n",
       "    <tr>\n",
       "      <th>8</th>\n",
       "      <td>101309</td>\n",
       "      <td>S500</td>\n",
       "      <td>Q06</td>\n",
       "      <td>M</td>\n",
       "      <td>26-30</td>\n",
       "      <td>True</td>\n",
       "      <td>1</td>\n",
       "      <td>1</td>\n",
       "      <td>4</td>\n",
       "      <td>100.0</td>\n",
       "      <td>...</td>\n",
       "      <td>38.6</td>\n",
       "      <td>106.39</td>\n",
       "      <td>104.39</td>\n",
       "      <td>1.80</td>\n",
       "      <td>0.0</td>\n",
       "      <td>1.80</td>\n",
       "      <td>1.549156</td>\n",
       "      <td>0.113370</td>\n",
       "      <td>-0.033364</td>\n",
       "      <td>1.58252</td>\n",
       "    </tr>\n",
       "    <tr>\n",
       "      <th>9</th>\n",
       "      <td>101410</td>\n",
       "      <td>S500</td>\n",
       "      <td>Q06</td>\n",
       "      <td>M</td>\n",
       "      <td>26-30</td>\n",
       "      <td>False</td>\n",
       "      <td>2</td>\n",
       "      <td>1</td>\n",
       "      <td>2</td>\n",
       "      <td>50.0</td>\n",
       "      <td>...</td>\n",
       "      <td>50.1</td>\n",
       "      <td>73.86</td>\n",
       "      <td>71.78</td>\n",
       "      <td>1.80</td>\n",
       "      <td>0.0</td>\n",
       "      <td>1.80</td>\n",
       "      <td>-0.628098</td>\n",
       "      <td>-0.165652</td>\n",
       "      <td>-0.033364</td>\n",
       "      <td>0.594734</td>\n",
       "    </tr>\n",
       "  </tbody>\n",
       "</table>\n",
       "<p>5 rows × 571 columns</p>\n",
       "</div>"
      ],
      "text/plain": [
       "   Subject Release Acquisition Gender    Age  3T_Full_MR_Compl  T1_Count  \\\n",
       "1   100206    S900         Q11      M  26-30              True         1   \n",
       "2   100307      Q1         Q01      F  26-30              True         1   \n",
       "3   100408      Q3         Q03      M  31-35              True         1   \n",
       "8   101309    S500         Q06      M  26-30              True         1   \n",
       "9   101410    S500         Q06      M  26-30             False         2   \n",
       "\n",
       "   T2_Count  3T_RS-fMRI_Count  3T_RS-fMRI_PctCompl  ...  PainInterf_Tscore  \\\n",
       "1         1                 4                100.0  ...               49.7   \n",
       "2         1                 4                100.0  ...               38.6   \n",
       "3         1                 4                100.0  ...               52.6   \n",
       "8         1                 4                100.0  ...               38.6   \n",
       "9         1                 2                 50.0  ...               50.1   \n",
       "\n",
       "   Taste_Unadj  Taste_AgeAdj  Mars_Log_Score  Mars_Errs  Mars_Final  \\\n",
       "1        72.63         72.03            1.84        0.0        1.84   \n",
       "2        71.69         71.76            1.76        0.0        1.76   \n",
       "3       114.01        113.59            1.76        2.0        1.68   \n",
       "8       106.39        104.39            1.80        0.0        1.80   \n",
       "9        73.86         71.78            1.80        0.0        1.80   \n",
       "\n",
       "   z_score_DDisc_AUC  z_score_Flanker  z_score_mars  z_score_compare  \n",
       "1          -1.649828         1.431472      0.053852          1.70368  \n",
       "2          -0.720225        -0.033642     -0.120580         0.599645  \n",
       "3          -0.329495         1.127449     -0.295012        0.0344831  \n",
       "8           1.549156         0.113370     -0.033364          1.58252  \n",
       "9          -0.628098        -0.165652     -0.033364         0.594734  \n",
       "\n",
       "[5 rows x 571 columns]"
      ]
     },
     "execution_count": 27,
     "metadata": {},
     "output_type": "execute_result"
    }
   ],
   "source": [
    "#Create a coloumn that compares between the two z-scores\n",
    "#df['z_score_compare'] = df['z_score_mars']-df['z_score_DD200']\n",
    "\n",
    "df['z_score_compare'] = \"\"\n",
    "\n",
    "for index, row in df.iterrows():\n",
    "    df['z_score_compare'][index] = abs(row['z_score_mars'] - row['z_score_DDisc_AUC'])\n",
    "    \n",
    "df['z_score_compare']\n",
    "\n",
    "df.head()"
   ]
  },
  {
   "cell_type": "code",
   "execution_count": 25,
   "metadata": {},
   "outputs": [
    {
     "data": {
      "text/plain": [
       "<matplotlib.collections.PathCollection at 0x7ff9ae552150>"
      ]
     },
     "execution_count": 25,
     "metadata": {},
     "output_type": "execute_result"
    },
    {
     "data": {
      "image/png": "[encoded data removed]",
      "text/plain": [
       "<Figure size 432x288 with 1 Axes>"
      ]
     },
     "metadata": {},
     "output_type": "display_data"
    },
    {
     "ename": "TypeError",
     "evalue": "ufunc 'isfinite' not supported for the input types, and the inputs could not be safely coerced to any supported types according to the casting rule ''safe''",
     "output_type": "error",
     "traceback": [
      "\u001b[0;31m---------------------------------------------------------------------------\u001b[0m",
      "\u001b[0;31mTypeError\u001b[0m                                 Traceback (most recent call last)",
      "\u001b[0;32m<ipython-input-25-738fc0eeed3a>\u001b[0m in \u001b[0;36m<module>\u001b[0;34m\u001b[0m\n\u001b[1;32m     10\u001b[0m \u001b[0mplt\u001b[0m\u001b[0;34m.\u001b[0m\u001b[0mshow\u001b[0m\u001b[0;34m(\u001b[0m\u001b[0;34m)\u001b[0m\u001b[0;34m\u001b[0m\u001b[0;34m\u001b[0m\u001b[0m\n\u001b[1;32m     11\u001b[0m \u001b[0;34m\u001b[0m\u001b[0m\n\u001b[0;32m---> 12\u001b[0;31m \u001b[0msns\u001b[0m\u001b[0;34m.\u001b[0m\u001b[0mregplot\u001b[0m\u001b[0;34m(\u001b[0m\u001b[0mx\u001b[0m\u001b[0;34m,\u001b[0m \u001b[0my\u001b[0m\u001b[0;34m)\u001b[0m\u001b[0;34m\u001b[0m\u001b[0;34m\u001b[0m\u001b[0m\n\u001b[0m",
      "\u001b[0;32m~/miniconda3/lib/python3.7/site-packages/seaborn/regression.py\u001b[0m in \u001b[0;36mregplot\u001b[0;34m(x, y, data, x_estimator, x_bins, x_ci, scatter, fit_reg, ci, n_boot, units, seed, order, logistic, lowess, robust, logx, x_partial, y_partial, truncate, dropna, x_jitter, y_jitter, label, color, marker, scatter_kws, line_kws, ax)\u001b[0m\n\u001b[1;32m    815\u001b[0m     \u001b[0mscatter_kws\u001b[0m\u001b[0;34m[\u001b[0m\u001b[0;34m\"marker\"\u001b[0m\u001b[0;34m]\u001b[0m \u001b[0;34m=\u001b[0m \u001b[0mmarker\u001b[0m\u001b[0;34m\u001b[0m\u001b[0;34m\u001b[0m\u001b[0m\n\u001b[1;32m    816\u001b[0m     \u001b[0mline_kws\u001b[0m \u001b[0;34m=\u001b[0m \u001b[0;34m{\u001b[0m\u001b[0;34m}\u001b[0m \u001b[0;32mif\u001b[0m \u001b[0mline_kws\u001b[0m \u001b[0;32mis\u001b[0m \u001b[0;32mNone\u001b[0m \u001b[0;32melse\u001b[0m \u001b[0mcopy\u001b[0m\u001b[0;34m.\u001b[0m\u001b[0mcopy\u001b[0m\u001b[0;34m(\u001b[0m\u001b[0mline_kws\u001b[0m\u001b[0;34m)\u001b[0m\u001b[0;34m\u001b[0m\u001b[0;34m\u001b[0m\u001b[0m\n\u001b[0;32m--> 817\u001b[0;31m     \u001b[0mplotter\u001b[0m\u001b[0;34m.\u001b[0m\u001b[0mplot\u001b[0m\u001b[0;34m(\u001b[0m\u001b[0max\u001b[0m\u001b[0;34m,\u001b[0m \u001b[0mscatter_kws\u001b[0m\u001b[0;34m,\u001b[0m \u001b[0mline_kws\u001b[0m\u001b[0;34m)\u001b[0m\u001b[0;34m\u001b[0m\u001b[0;34m\u001b[0m\u001b[0m\n\u001b[0m\u001b[1;32m    818\u001b[0m     \u001b[0;32mreturn\u001b[0m \u001b[0max\u001b[0m\u001b[0;34m\u001b[0m\u001b[0;34m\u001b[0m\u001b[0m\n\u001b[1;32m    819\u001b[0m \u001b[0;34m\u001b[0m\u001b[0m\n",
      "\u001b[0;32m~/miniconda3/lib/python3.7/site-packages/seaborn/regression.py\u001b[0m in \u001b[0;36mplot\u001b[0;34m(self, ax, scatter_kws, line_kws)\u001b[0m\n\u001b[1;32m    367\u001b[0m \u001b[0;34m\u001b[0m\u001b[0m\n\u001b[1;32m    368\u001b[0m         \u001b[0;32mif\u001b[0m \u001b[0mself\u001b[0m\u001b[0;34m.\u001b[0m\u001b[0mfit_reg\u001b[0m\u001b[0;34m:\u001b[0m\u001b[0;34m\u001b[0m\u001b[0;34m\u001b[0m\u001b[0m\n\u001b[0;32m--> 369\u001b[0;31m             \u001b[0mself\u001b[0m\u001b[0;34m.\u001b[0m\u001b[0mlineplot\u001b[0m\u001b[0;34m(\u001b[0m\u001b[0max\u001b[0m\u001b[0;34m,\u001b[0m \u001b[0mline_kws\u001b[0m\u001b[0;34m)\u001b[0m\u001b[0;34m\u001b[0m\u001b[0;34m\u001b[0m\u001b[0m\n\u001b[0m\u001b[1;32m    370\u001b[0m \u001b[0;34m\u001b[0m\u001b[0m\n\u001b[1;32m    371\u001b[0m         \u001b[0;31m# Label the axes\u001b[0m\u001b[0;34m\u001b[0m\u001b[0;34m\u001b[0m\u001b[0;34m\u001b[0m\u001b[0m\n",
      "\u001b[0;32m~/miniconda3/lib/python3.7/site-packages/seaborn/regression.py\u001b[0m in \u001b[0;36mlineplot\u001b[0;34m(self, ax, kws)\u001b[0m\n\u001b[1;32m    422\u001b[0m         \u001b[0mline\u001b[0m\u001b[0;34m.\u001b[0m\u001b[0msticky_edges\u001b[0m\u001b[0;34m.\u001b[0m\u001b[0mx\u001b[0m\u001b[0;34m[\u001b[0m\u001b[0;34m:\u001b[0m\u001b[0;34m]\u001b[0m \u001b[0;34m=\u001b[0m \u001b[0medges\u001b[0m  \u001b[0;31m# Prevent mpl from adding margin\u001b[0m\u001b[0;34m\u001b[0m\u001b[0;34m\u001b[0m\u001b[0m\n\u001b[1;32m    423\u001b[0m         \u001b[0;32mif\u001b[0m \u001b[0merr_bands\u001b[0m \u001b[0;32mis\u001b[0m \u001b[0;32mnot\u001b[0m \u001b[0;32mNone\u001b[0m\u001b[0;34m:\u001b[0m\u001b[0;34m\u001b[0m\u001b[0;34m\u001b[0m\u001b[0m\n\u001b[0;32m--> 424\u001b[0;31m             \u001b[0max\u001b[0m\u001b[0;34m.\u001b[0m\u001b[0mfill_between\u001b[0m\u001b[0;34m(\u001b[0m\u001b[0mgrid\u001b[0m\u001b[0;34m,\u001b[0m \u001b[0;34m*\u001b[0m\u001b[0merr_bands\u001b[0m\u001b[0;34m,\u001b[0m \u001b[0mfacecolor\u001b[0m\u001b[0;34m=\u001b[0m\u001b[0mfill_color\u001b[0m\u001b[0;34m,\u001b[0m \u001b[0malpha\u001b[0m\u001b[0;34m=\u001b[0m\u001b[0;36m.15\u001b[0m\u001b[0;34m)\u001b[0m\u001b[0;34m\u001b[0m\u001b[0;34m\u001b[0m\u001b[0m\n\u001b[0m\u001b[1;32m    425\u001b[0m \u001b[0;34m\u001b[0m\u001b[0m\n\u001b[1;32m    426\u001b[0m \u001b[0;34m\u001b[0m\u001b[0m\n",
      "\u001b[0;32m~/miniconda3/lib/python3.7/site-packages/matplotlib/__init__.py\u001b[0m in \u001b[0;36minner\u001b[0;34m(ax, data, *args, **kwargs)\u001b[0m\n\u001b[1;32m   1429\u001b[0m     \u001b[0;32mdef\u001b[0m \u001b[0minner\u001b[0m\u001b[0;34m(\u001b[0m\u001b[0max\u001b[0m\u001b[0;34m,\u001b[0m \u001b[0;34m*\u001b[0m\u001b[0margs\u001b[0m\u001b[0;34m,\u001b[0m \u001b[0mdata\u001b[0m\u001b[0;34m=\u001b[0m\u001b[0;32mNone\u001b[0m\u001b[0;34m,\u001b[0m \u001b[0;34m**\u001b[0m\u001b[0mkwargs\u001b[0m\u001b[0;34m)\u001b[0m\u001b[0;34m:\u001b[0m\u001b[0;34m\u001b[0m\u001b[0;34m\u001b[0m\u001b[0m\n\u001b[1;32m   1430\u001b[0m         \u001b[0;32mif\u001b[0m \u001b[0mdata\u001b[0m \u001b[0;32mis\u001b[0m \u001b[0;32mNone\u001b[0m\u001b[0;34m:\u001b[0m\u001b[0;34m\u001b[0m\u001b[0;34m\u001b[0m\u001b[0m\n\u001b[0;32m-> 1431\u001b[0;31m             \u001b[0;32mreturn\u001b[0m \u001b[0mfunc\u001b[0m\u001b[0;34m(\u001b[0m\u001b[0max\u001b[0m\u001b[0;34m,\u001b[0m \u001b[0;34m*\u001b[0m\u001b[0mmap\u001b[0m\u001b[0;34m(\u001b[0m\u001b[0msanitize_sequence\u001b[0m\u001b[0;34m,\u001b[0m \u001b[0margs\u001b[0m\u001b[0;34m)\u001b[0m\u001b[0;34m,\u001b[0m \u001b[0;34m**\u001b[0m\u001b[0mkwargs\u001b[0m\u001b[0;34m)\u001b[0m\u001b[0;34m\u001b[0m\u001b[0;34m\u001b[0m\u001b[0m\n\u001b[0m\u001b[1;32m   1432\u001b[0m \u001b[0;34m\u001b[0m\u001b[0m\n\u001b[1;32m   1433\u001b[0m         \u001b[0mbound\u001b[0m \u001b[0;34m=\u001b[0m \u001b[0mnew_sig\u001b[0m\u001b[0;34m.\u001b[0m\u001b[0mbind\u001b[0m\u001b[0;34m(\u001b[0m\u001b[0max\u001b[0m\u001b[0;34m,\u001b[0m \u001b[0;34m*\u001b[0m\u001b[0margs\u001b[0m\u001b[0;34m,\u001b[0m \u001b[0;34m**\u001b[0m\u001b[0mkwargs\u001b[0m\u001b[0;34m)\u001b[0m\u001b[0;34m\u001b[0m\u001b[0;34m\u001b[0m\u001b[0m\n",
      "\u001b[0;32m~/miniconda3/lib/python3.7/site-packages/matplotlib/axes/_axes.py\u001b[0m in \u001b[0;36mfill_between\u001b[0;34m(self, x, y1, y2, where, interpolate, step, **kwargs)\u001b[0m\n\u001b[1;32m   5301\u001b[0m         return self._fill_between_x_or_y(\n\u001b[1;32m   5302\u001b[0m             \u001b[0;34m\"x\"\u001b[0m\u001b[0;34m,\u001b[0m \u001b[0mx\u001b[0m\u001b[0;34m,\u001b[0m \u001b[0my1\u001b[0m\u001b[0;34m,\u001b[0m \u001b[0my2\u001b[0m\u001b[0;34m,\u001b[0m\u001b[0;34m\u001b[0m\u001b[0;34m\u001b[0m\u001b[0m\n\u001b[0;32m-> 5303\u001b[0;31m             where=where, interpolate=interpolate, step=step, **kwargs)\n\u001b[0m\u001b[1;32m   5304\u001b[0m \u001b[0;34m\u001b[0m\u001b[0m\n\u001b[1;32m   5305\u001b[0m     fill_between.__doc__ = _fill_between_x_or_y.__doc__.format(\n",
      "\u001b[0;32m~/miniconda3/lib/python3.7/site-packages/matplotlib/axes/_axes.py\u001b[0m in \u001b[0;36m_fill_between_x_or_y\u001b[0;34m(self, ind_dir, ind, dep1, dep2, where, interpolate, step, **kwargs)\u001b[0m\n\u001b[1;32m   5203\u001b[0m         \u001b[0mind\u001b[0m \u001b[0;34m=\u001b[0m \u001b[0mma\u001b[0m\u001b[0;34m.\u001b[0m\u001b[0mmasked_invalid\u001b[0m\u001b[0;34m(\u001b[0m\u001b[0mgetattr\u001b[0m\u001b[0;34m(\u001b[0m\u001b[0mself\u001b[0m\u001b[0;34m,\u001b[0m \u001b[0;34mf\"convert_{ind_dir}units\"\u001b[0m\u001b[0;34m)\u001b[0m\u001b[0;34m(\u001b[0m\u001b[0mind\u001b[0m\u001b[0;34m)\u001b[0m\u001b[0;34m)\u001b[0m\u001b[0;34m\u001b[0m\u001b[0;34m\u001b[0m\u001b[0m\n\u001b[1;32m   5204\u001b[0m         dep1 = ma.masked_invalid(\n\u001b[0;32m-> 5205\u001b[0;31m             getattr(self, f\"convert_{dep_dir}units\")(dep1))\n\u001b[0m\u001b[1;32m   5206\u001b[0m         dep2 = ma.masked_invalid(\n\u001b[1;32m   5207\u001b[0m             getattr(self, f\"convert_{dep_dir}units\")(dep2))\n",
      "\u001b[0;32m~/miniconda3/lib/python3.7/site-packages/numpy/ma/core.py\u001b[0m in \u001b[0;36mmasked_invalid\u001b[0;34m(a, copy)\u001b[0m\n\u001b[1;32m   2375\u001b[0m         \u001b[0mcls\u001b[0m \u001b[0;34m=\u001b[0m \u001b[0mtype\u001b[0m\u001b[0;34m(\u001b[0m\u001b[0ma\u001b[0m\u001b[0;34m)\u001b[0m\u001b[0;34m\u001b[0m\u001b[0;34m\u001b[0m\u001b[0m\n\u001b[1;32m   2376\u001b[0m     \u001b[0;32melse\u001b[0m\u001b[0;34m:\u001b[0m\u001b[0;34m\u001b[0m\u001b[0;34m\u001b[0m\u001b[0m\n\u001b[0;32m-> 2377\u001b[0;31m         \u001b[0mcondition\u001b[0m \u001b[0;34m=\u001b[0m \u001b[0;34m~\u001b[0m\u001b[0;34m(\u001b[0m\u001b[0mnp\u001b[0m\u001b[0;34m.\u001b[0m\u001b[0misfinite\u001b[0m\u001b[0;34m(\u001b[0m\u001b[0ma\u001b[0m\u001b[0;34m)\u001b[0m\u001b[0;34m)\u001b[0m\u001b[0;34m\u001b[0m\u001b[0;34m\u001b[0m\u001b[0m\n\u001b[0m\u001b[1;32m   2378\u001b[0m         \u001b[0mcls\u001b[0m \u001b[0;34m=\u001b[0m \u001b[0mMaskedArray\u001b[0m\u001b[0;34m\u001b[0m\u001b[0;34m\u001b[0m\u001b[0m\n\u001b[1;32m   2379\u001b[0m     \u001b[0mresult\u001b[0m \u001b[0;34m=\u001b[0m \u001b[0ma\u001b[0m\u001b[0;34m.\u001b[0m\u001b[0mview\u001b[0m\u001b[0;34m(\u001b[0m\u001b[0mcls\u001b[0m\u001b[0;34m)\u001b[0m\u001b[0;34m\u001b[0m\u001b[0;34m\u001b[0m\u001b[0m\n",
      "\u001b[0;31mTypeError\u001b[0m: ufunc 'isfinite' not supported for the input types, and the inputs could not be safely coerced to any supported types according to the casting rule ''safe''"
     ]
    },
    {
     "data": {
      "image/png": "[encoded data removed]",
      "text/plain": [
       "<Figure size 432x288 with 1 Axes>"
      ]
     },
     "metadata": {},
     "output_type": "display_data"
    }
   ],
   "source": [
    "import matplotlib\n",
    "import matplotlib.pyplot as plt\n",
    "%matplotlib inline\n",
    "matplotlib.style.use('ggplot')\n",
    "\n",
    "x = df['Flanker_AgeAdj']\n",
    "y = df['z_score_compare']\n",
    "\n",
    "plt.scatter(x, y)\n",
    "plt.show()\n",
    "\n",
    "sns.regplot(x, y)"
   ]
  },
  {
   "cell_type": "code",
   "execution_count": null,
   "metadata": {},
   "outputs": [],
   "source": [
    "#correlation\n",
    "\n",
    "sc.stats.pearsonr(x, y)"
   ]
  },
  {
   "cell_type": "code",
   "execution_count": 28,
   "metadata": {},
   "outputs": [
    {
     "data": {
      "text/plain": [
       "count     844.000000\n",
       "unique    807.000000\n",
       "top         1.616778\n",
       "freq        3.000000\n",
       "Name: z_score_compare, dtype: float64"
      ]
     },
     "execution_count": 28,
     "metadata": {},
     "output_type": "execute_result"
    },
    {
     "data": {
      "text/plain": [
       "<AxesSubplot:xlabel='z_score_compare'>"
      ]
     },
     "execution_count": 28,
     "metadata": {},
     "output_type": "execute_result"
    },
    {
     "data": {
      "image/png": "[encoded data removed]",
      "text/plain": [
       "<Figure size 432x288 with 1 Axes>"
      ]
     },
     "metadata": {},
     "output_type": "display_data"
    }
   ],
   "source": [
    "df['z_score_compare'].describe()\n",
    "\n",
    "#Scores distribution\n",
    "sns.distplot(df['z_score_compare'])"
   ]
  },
  {
   "cell_type": "markdown",
   "metadata": {},
   "source": [
    "## Comparison between z_scores of Flanker task and Delay discount"
   ]
  },
  {
   "cell_type": "code",
   "execution_count": 35,
   "metadata": {},
   "outputs": [
    {
     "data": {
      "text/plain": [
       "<matplotlib.collections.PathCollection at 0x7f87ae042ad0>"
      ]
     },
     "execution_count": 35,
     "metadata": {},
     "output_type": "execute_result"
    },
    {
     "data": {
      "image/png": "[encoded data removed]",
      "text/plain": [
       "<Figure size 432x288 with 1 Axes>"
      ]
     },
     "metadata": {},
     "output_type": "display_data"
    },
    {
     "data": {
      "text/plain": [
       "<AxesSubplot:xlabel='z_score_DDisc_AUC', ylabel='z_score_Flanker'>"
      ]
     },
     "execution_count": 35,
     "metadata": {},
     "output_type": "execute_result"
    },
    {
     "data": {
      "image/png": "[encoded data removed]",
      "text/plain": [
       "<Figure size 432x288 with 1 Axes>"
      ]
     },
     "metadata": {},
     "output_type": "display_data"
    }
   ],
   "source": [
    "import matplotlib\n",
    "import matplotlib.pyplot as plt\n",
    "%matplotlib inline\n",
    "matplotlib.style.use('ggplot')\n",
    "\n",
    "x = df['z_score_DDisc_AUC']\n",
    "y = df['z_score_Flanker']\n",
    "\n",
    "#sc.stats.pearsonr(x, y)\n",
    "\n",
    "plt.scatter(x, y)\n",
    "plt.show()\n",
    "\n",
    "sns.regplot(x, y)"
   ]
  },
  {
   "cell_type": "code",
   "execution_count": 36,
   "metadata": {},
   "outputs": [
    {
     "data": {
      "text/plain": [
       "(0.054531830851745455, 0.11340521228879527)"
      ]
     },
     "execution_count": 36,
     "metadata": {},
     "output_type": "execute_result"
    }
   ],
   "source": [
    "sc.stats.pearsonr(x, y)"
   ]
  },
  {
   "cell_type": "code",
   "execution_count": 29,
   "metadata": {},
   "outputs": [
    {
     "name": "stderr",
     "output_type": "stream",
     "text": [
      "/home/lizakson/miniconda3/lib/python3.7/site-packages/ipykernel_launcher.py:2: SettingWithCopyWarning: \n",
      "A value is trying to be set on a copy of a slice from a DataFrame.\n",
      "Try using .loc[row_indexer,col_indexer] = value instead\n",
      "\n",
      "See the caveats in the documentation: https://pandas.pydata.org/pandas-docs/stable/user_guide/indexing.html#returning-a-view-versus-a-copy\n",
      "  \n",
      "/home/lizakson/miniconda3/lib/python3.7/site-packages/ipykernel_launcher.py:13: SettingWithCopyWarning: \n",
      "A value is trying to be set on a copy of a slice from a DataFrame\n",
      "\n",
      "See the caveats in the documentation: https://pandas.pydata.org/pandas-docs/stable/user_guide/indexing.html#returning-a-view-versus-a-copy\n",
      "  del sys.path[0]\n",
      "/home/lizakson/miniconda3/lib/python3.7/site-packages/IPython/core/interactiveshell.py:3417: SettingWithCopyWarning: \n",
      "A value is trying to be set on a copy of a slice from a DataFrame\n",
      "\n",
      "See the caveats in the documentation: https://pandas.pydata.org/pandas-docs/stable/user_guide/indexing.html#returning-a-view-versus-a-copy\n",
      "  exec(code_obj, self.user_global_ns, self.user_ns)\n",
      "/home/lizakson/miniconda3/lib/python3.7/site-packages/ipykernel_launcher.py:6: SettingWithCopyWarning: \n",
      "A value is trying to be set on a copy of a slice from a DataFrame\n",
      "\n",
      "See the caveats in the documentation: https://pandas.pydata.org/pandas-docs/stable/user_guide/indexing.html#returning-a-view-versus-a-copy\n",
      "  \n",
      "/home/lizakson/miniconda3/lib/python3.7/site-packages/ipykernel_launcher.py:11: SettingWithCopyWarning: \n",
      "A value is trying to be set on a copy of a slice from a DataFrame\n",
      "\n",
      "See the caveats in the documentation: https://pandas.pydata.org/pandas-docs/stable/user_guide/indexing.html#returning-a-view-versus-a-copy\n",
      "  # This is added back by InteractiveShellApp.init_path()\n",
      "/home/lizakson/miniconda3/lib/python3.7/site-packages/ipykernel_launcher.py:9: SettingWithCopyWarning: \n",
      "A value is trying to be set on a copy of a slice from a DataFrame\n",
      "\n",
      "See the caveats in the documentation: https://pandas.pydata.org/pandas-docs/stable/user_guide/indexing.html#returning-a-view-versus-a-copy\n",
      "  if __name__ == '__main__':\n"
     ]
    },
    {
     "data": {
      "text/plain": [
       "array([3, 0, 2, 1], dtype=object)"
      ]
     },
     "execution_count": 29,
     "metadata": {},
     "output_type": "execute_result"
    }
   ],
   "source": [
    "#Devide the subjects into 4 groups according to the z-scores in both variables\n",
    "df['GroupType_f'] = \"\"\n",
    "\n",
    "for index, row in df.iterrows():\n",
    "    if row['z_score_Flanker'] < 0.0 and row['z_score_DDisc_AUC'] < 0.0:\n",
    "        df['GroupType_f'][index] = 0\n",
    "        #print(row)\n",
    "    elif row['z_score_Flanker'] < 0 and row['z_score_DDisc_AUC'] > 0:\n",
    "        df['GroupType_f'][index] = 1\n",
    "    elif row['z_score_Flanker'] >= 0 and row['z_score_DDisc_AUC'] >= 0:\n",
    "        df['GroupType_f'][index] = 2\n",
    "    elif row['z_score_Flanker'] >= 0 and row['z_score_DDisc_AUC'] <= 0:\n",
    "        df['GroupType_f'][index]= 3\n",
    "\n",
    "df['GroupType_f'].unique()"
   ]
  },
  {
   "cell_type": "code",
   "execution_count": 30,
   "metadata": {},
   "outputs": [
    {
     "data": {
      "text/html": [
       "<div>\n",
       "<style scoped>\n",
       "    .dataframe tbody tr th:only-of-type {\n",
       "        vertical-align: middle;\n",
       "    }\n",
       "\n",
       "    .dataframe tbody tr th {\n",
       "        vertical-align: top;\n",
       "    }\n",
       "\n",
       "    .dataframe thead th {\n",
       "        text-align: right;\n",
       "    }\n",
       "</style>\n",
       "<table border=\"1\" class=\"dataframe\">\n",
       "  <thead>\n",
       "    <tr style=\"text-align: right;\">\n",
       "      <th></th>\n",
       "      <th>Subject</th>\n",
       "      <th>Release</th>\n",
       "      <th>Acquisition</th>\n",
       "      <th>Gender</th>\n",
       "      <th>Age</th>\n",
       "      <th>3T_Full_MR_Compl</th>\n",
       "      <th>T1_Count</th>\n",
       "      <th>T2_Count</th>\n",
       "      <th>3T_RS-fMRI_Count</th>\n",
       "      <th>3T_RS-fMRI_PctCompl</th>\n",
       "      <th>...</th>\n",
       "      <th>Taste_Unadj</th>\n",
       "      <th>Taste_AgeAdj</th>\n",
       "      <th>Mars_Log_Score</th>\n",
       "      <th>Mars_Errs</th>\n",
       "      <th>Mars_Final</th>\n",
       "      <th>z_score_DDisc_AUC</th>\n",
       "      <th>z_score_Flanker</th>\n",
       "      <th>z_score_mars</th>\n",
       "      <th>z_score_compare</th>\n",
       "      <th>GroupType_f</th>\n",
       "    </tr>\n",
       "  </thead>\n",
       "  <tbody>\n",
       "    <tr>\n",
       "      <th>1</th>\n",
       "      <td>100206</td>\n",
       "      <td>S900</td>\n",
       "      <td>Q11</td>\n",
       "      <td>M</td>\n",
       "      <td>26-30</td>\n",
       "      <td>True</td>\n",
       "      <td>1</td>\n",
       "      <td>1</td>\n",
       "      <td>4</td>\n",
       "      <td>100.0</td>\n",
       "      <td>...</td>\n",
       "      <td>72.63</td>\n",
       "      <td>72.03</td>\n",
       "      <td>1.84</td>\n",
       "      <td>0.0</td>\n",
       "      <td>1.84</td>\n",
       "      <td>-1.649828</td>\n",
       "      <td>1.431472</td>\n",
       "      <td>0.053852</td>\n",
       "      <td>1.70368</td>\n",
       "      <td>3</td>\n",
       "    </tr>\n",
       "    <tr>\n",
       "      <th>2</th>\n",
       "      <td>100307</td>\n",
       "      <td>Q1</td>\n",
       "      <td>Q01</td>\n",
       "      <td>F</td>\n",
       "      <td>26-30</td>\n",
       "      <td>True</td>\n",
       "      <td>1</td>\n",
       "      <td>1</td>\n",
       "      <td>4</td>\n",
       "      <td>100.0</td>\n",
       "      <td>...</td>\n",
       "      <td>71.69</td>\n",
       "      <td>71.76</td>\n",
       "      <td>1.76</td>\n",
       "      <td>0.0</td>\n",
       "      <td>1.76</td>\n",
       "      <td>-0.720225</td>\n",
       "      <td>-0.033642</td>\n",
       "      <td>-0.120580</td>\n",
       "      <td>0.599645</td>\n",
       "      <td>0</td>\n",
       "    </tr>\n",
       "    <tr>\n",
       "      <th>3</th>\n",
       "      <td>100408</td>\n",
       "      <td>Q3</td>\n",
       "      <td>Q03</td>\n",
       "      <td>M</td>\n",
       "      <td>31-35</td>\n",
       "      <td>True</td>\n",
       "      <td>1</td>\n",
       "      <td>1</td>\n",
       "      <td>4</td>\n",
       "      <td>100.0</td>\n",
       "      <td>...</td>\n",
       "      <td>114.01</td>\n",
       "      <td>113.59</td>\n",
       "      <td>1.76</td>\n",
       "      <td>2.0</td>\n",
       "      <td>1.68</td>\n",
       "      <td>-0.329495</td>\n",
       "      <td>1.127449</td>\n",
       "      <td>-0.295012</td>\n",
       "      <td>0.0344831</td>\n",
       "      <td>3</td>\n",
       "    </tr>\n",
       "    <tr>\n",
       "      <th>8</th>\n",
       "      <td>101309</td>\n",
       "      <td>S500</td>\n",
       "      <td>Q06</td>\n",
       "      <td>M</td>\n",
       "      <td>26-30</td>\n",
       "      <td>True</td>\n",
       "      <td>1</td>\n",
       "      <td>1</td>\n",
       "      <td>4</td>\n",
       "      <td>100.0</td>\n",
       "      <td>...</td>\n",
       "      <td>106.39</td>\n",
       "      <td>104.39</td>\n",
       "      <td>1.80</td>\n",
       "      <td>0.0</td>\n",
       "      <td>1.80</td>\n",
       "      <td>1.549156</td>\n",
       "      <td>0.113370</td>\n",
       "      <td>-0.033364</td>\n",
       "      <td>1.58252</td>\n",
       "      <td>2</td>\n",
       "    </tr>\n",
       "    <tr>\n",
       "      <th>9</th>\n",
       "      <td>101410</td>\n",
       "      <td>S500</td>\n",
       "      <td>Q06</td>\n",
       "      <td>M</td>\n",
       "      <td>26-30</td>\n",
       "      <td>False</td>\n",
       "      <td>2</td>\n",
       "      <td>1</td>\n",
       "      <td>2</td>\n",
       "      <td>50.0</td>\n",
       "      <td>...</td>\n",
       "      <td>73.86</td>\n",
       "      <td>71.78</td>\n",
       "      <td>1.80</td>\n",
       "      <td>0.0</td>\n",
       "      <td>1.80</td>\n",
       "      <td>-0.628098</td>\n",
       "      <td>-0.165652</td>\n",
       "      <td>-0.033364</td>\n",
       "      <td>0.594734</td>\n",
       "      <td>0</td>\n",
       "    </tr>\n",
       "    <tr>\n",
       "      <th>11</th>\n",
       "      <td>101915</td>\n",
       "      <td>Q3</td>\n",
       "      <td>Q04</td>\n",
       "      <td>F</td>\n",
       "      <td>31-35</td>\n",
       "      <td>True</td>\n",
       "      <td>2</td>\n",
       "      <td>2</td>\n",
       "      <td>4</td>\n",
       "      <td>100.0</td>\n",
       "      <td>...</td>\n",
       "      <td>112.11</td>\n",
       "      <td>111.70</td>\n",
       "      <td>1.84</td>\n",
       "      <td>1.0</td>\n",
       "      <td>1.80</td>\n",
       "      <td>1.455640</td>\n",
       "      <td>-1.313741</td>\n",
       "      <td>-0.033364</td>\n",
       "      <td>1.489</td>\n",
       "      <td>1</td>\n",
       "    </tr>\n",
       "    <tr>\n",
       "      <th>12</th>\n",
       "      <td>102008</td>\n",
       "      <td>S500</td>\n",
       "      <td>Q06</td>\n",
       "      <td>M</td>\n",
       "      <td>22-25</td>\n",
       "      <td>False</td>\n",
       "      <td>1</td>\n",
       "      <td>1</td>\n",
       "      <td>4</td>\n",
       "      <td>100.0</td>\n",
       "      <td>...</td>\n",
       "      <td>67.48</td>\n",
       "      <td>65.31</td>\n",
       "      <td>1.80</td>\n",
       "      <td>0.0</td>\n",
       "      <td>1.80</td>\n",
       "      <td>-0.881794</td>\n",
       "      <td>0.325386</td>\n",
       "      <td>-0.033364</td>\n",
       "      <td>0.84843</td>\n",
       "      <td>3</td>\n",
       "    </tr>\n",
       "    <tr>\n",
       "      <th>15</th>\n",
       "      <td>102513</td>\n",
       "      <td>S900</td>\n",
       "      <td>Q10</td>\n",
       "      <td>M</td>\n",
       "      <td>26-30</td>\n",
       "      <td>True</td>\n",
       "      <td>2</td>\n",
       "      <td>2</td>\n",
       "      <td>4</td>\n",
       "      <td>100.0</td>\n",
       "      <td>...</td>\n",
       "      <td>84.07</td>\n",
       "      <td>82.37</td>\n",
       "      <td>1.92</td>\n",
       "      <td>0.0</td>\n",
       "      <td>1.92</td>\n",
       "      <td>-1.324837</td>\n",
       "      <td>-2.942868</td>\n",
       "      <td>0.228284</td>\n",
       "      <td>1.55312</td>\n",
       "      <td>0</td>\n",
       "    </tr>\n",
       "    <tr>\n",
       "      <th>16</th>\n",
       "      <td>102614</td>\n",
       "      <td>S1200</td>\n",
       "      <td>Q12</td>\n",
       "      <td>M</td>\n",
       "      <td>22-25</td>\n",
       "      <td>True</td>\n",
       "      <td>2</td>\n",
       "      <td>2</td>\n",
       "      <td>4</td>\n",
       "      <td>100.0</td>\n",
       "      <td>...</td>\n",
       "      <td>79.67</td>\n",
       "      <td>78.91</td>\n",
       "      <td>1.80</td>\n",
       "      <td>1.0</td>\n",
       "      <td>1.76</td>\n",
       "      <td>1.588970</td>\n",
       "      <td>1.046442</td>\n",
       "      <td>-0.120580</td>\n",
       "      <td>1.70955</td>\n",
       "      <td>2</td>\n",
       "    </tr>\n",
       "    <tr>\n",
       "      <th>17</th>\n",
       "      <td>102715</td>\n",
       "      <td>S1200</td>\n",
       "      <td>Q12</td>\n",
       "      <td>M</td>\n",
       "      <td>26-30</td>\n",
       "      <td>True</td>\n",
       "      <td>2</td>\n",
       "      <td>2</td>\n",
       "      <td>4</td>\n",
       "      <td>100.0</td>\n",
       "      <td>...</td>\n",
       "      <td>86.03</td>\n",
       "      <td>86.60</td>\n",
       "      <td>1.84</td>\n",
       "      <td>0.0</td>\n",
       "      <td>1.84</td>\n",
       "      <td>0.894545</td>\n",
       "      <td>-0.893709</td>\n",
       "      <td>0.053852</td>\n",
       "      <td>0.840693</td>\n",
       "      <td>1</td>\n",
       "    </tr>\n",
       "  </tbody>\n",
       "</table>\n",
       "<p>10 rows × 572 columns</p>\n",
       "</div>"
      ],
      "text/plain": [
       "    Subject Release Acquisition Gender    Age  3T_Full_MR_Compl  T1_Count  \\\n",
       "1    100206    S900         Q11      M  26-30              True         1   \n",
       "2    100307      Q1         Q01      F  26-30              True         1   \n",
       "3    100408      Q3         Q03      M  31-35              True         1   \n",
       "8    101309    S500         Q06      M  26-30              True         1   \n",
       "9    101410    S500         Q06      M  26-30             False         2   \n",
       "11   101915      Q3         Q04      F  31-35              True         2   \n",
       "12   102008    S500         Q06      M  22-25             False         1   \n",
       "15   102513    S900         Q10      M  26-30              True         2   \n",
       "16   102614   S1200         Q12      M  22-25              True         2   \n",
       "17   102715   S1200         Q12      M  26-30              True         2   \n",
       "\n",
       "    T2_Count  3T_RS-fMRI_Count  3T_RS-fMRI_PctCompl  ...  Taste_Unadj  \\\n",
       "1          1                 4                100.0  ...        72.63   \n",
       "2          1                 4                100.0  ...        71.69   \n",
       "3          1                 4                100.0  ...       114.01   \n",
       "8          1                 4                100.0  ...       106.39   \n",
       "9          1                 2                 50.0  ...        73.86   \n",
       "11         2                 4                100.0  ...       112.11   \n",
       "12         1                 4                100.0  ...        67.48   \n",
       "15         2                 4                100.0  ...        84.07   \n",
       "16         2                 4                100.0  ...        79.67   \n",
       "17         2                 4                100.0  ...        86.03   \n",
       "\n",
       "    Taste_AgeAdj  Mars_Log_Score  Mars_Errs  Mars_Final  z_score_DDisc_AUC  \\\n",
       "1          72.03            1.84        0.0        1.84          -1.649828   \n",
       "2          71.76            1.76        0.0        1.76          -0.720225   \n",
       "3         113.59            1.76        2.0        1.68          -0.329495   \n",
       "8         104.39            1.80        0.0        1.80           1.549156   \n",
       "9          71.78            1.80        0.0        1.80          -0.628098   \n",
       "11        111.70            1.84        1.0        1.80           1.455640   \n",
       "12         65.31            1.80        0.0        1.80          -0.881794   \n",
       "15         82.37            1.92        0.0        1.92          -1.324837   \n",
       "16         78.91            1.80        1.0        1.76           1.588970   \n",
       "17         86.60            1.84        0.0        1.84           0.894545   \n",
       "\n",
       "    z_score_Flanker  z_score_mars  z_score_compare  GroupType_f  \n",
       "1          1.431472      0.053852          1.70368            3  \n",
       "2         -0.033642     -0.120580         0.599645            0  \n",
       "3          1.127449     -0.295012        0.0344831            3  \n",
       "8          0.113370     -0.033364          1.58252            2  \n",
       "9         -0.165652     -0.033364         0.594734            0  \n",
       "11        -1.313741     -0.033364            1.489            1  \n",
       "12         0.325386     -0.033364          0.84843            3  \n",
       "15        -2.942868      0.228284          1.55312            0  \n",
       "16         1.046442     -0.120580          1.70955            2  \n",
       "17        -0.893709      0.053852         0.840693            1  \n",
       "\n",
       "[10 rows x 572 columns]"
      ]
     },
     "execution_count": 30,
     "metadata": {},
     "output_type": "execute_result"
    }
   ],
   "source": [
    "#validate if the classification to groups is correct\n",
    "df.head(10)"
   ]
  },
  {
   "cell_type": "code",
   "execution_count": 41,
   "metadata": {},
   "outputs": [
    {
     "data": {
      "text/plain": [
       "<seaborn.axisgrid.FacetGrid at 0x7f87ad635ad0>"
      ]
     },
     "execution_count": 41,
     "metadata": {},
     "output_type": "execute_result"
    },
    {
     "data": {
      "image/png": "[encoded data removed]",
      "text/plain": [
       "<Figure size 430.935x216 with 1 Axes>"
      ]
     },
     "metadata": {},
     "output_type": "display_data"
    }
   ],
   "source": [
    "#Plot the classification\n",
    "from  matplotlib import pyplot\n",
    "import seaborn\n",
    "seaborn.set(style='ticks')\n",
    "\n",
    "fg = seaborn.FacetGrid(data=df, hue='GroupType_f', aspect=1.61)\n",
    "fg.map(pyplot.scatter, 'z_score_Flanker', 'z_score_DDisc_AUC').add_legend()"
   ]
  },
  {
   "cell_type": "code",
   "execution_count": 31,
   "metadata": {},
   "outputs": [
    {
     "name": "stderr",
     "output_type": "stream",
     "text": [
      "/home/lizakson/miniconda3/lib/python3.7/site-packages/ipykernel_launcher.py:4: SettingWithCopyWarning: \n",
      "A value is trying to be set on a copy of a slice from a DataFrame.\n",
      "Try using .loc[row_indexer,col_indexer] = value instead\n",
      "\n",
      "See the caveats in the documentation: https://pandas.pydata.org/pandas-docs/stable/user_guide/indexing.html#returning-a-view-versus-a-copy\n",
      "  after removing the cwd from sys.path.\n",
      "/home/lizakson/miniconda3/lib/python3.7/site-packages/ipykernel_launcher.py:7: SettingWithCopyWarning: \n",
      "A value is trying to be set on a copy of a slice from a DataFrame\n",
      "\n",
      "See the caveats in the documentation: https://pandas.pydata.org/pandas-docs/stable/user_guide/indexing.html#returning-a-view-versus-a-copy\n",
      "  import sys\n",
      "/home/lizakson/miniconda3/lib/python3.7/site-packages/IPython/core/interactiveshell.py:3417: SettingWithCopyWarning: \n",
      "A value is trying to be set on a copy of a slice from a DataFrame\n",
      "\n",
      "See the caveats in the documentation: https://pandas.pydata.org/pandas-docs/stable/user_guide/indexing.html#returning-a-view-versus-a-copy\n",
      "  exec(code_obj, self.user_global_ns, self.user_ns)\n"
     ]
    },
    {
     "data": {
      "text/plain": [
       "1         3.0813\n",
       "2       0.686583\n",
       "3        1.45694\n",
       "8        1.43579\n",
       "9       0.462446\n",
       "          ...   \n",
       "1199      2.1488\n",
       "1201     3.11462\n",
       "1203     1.23271\n",
       "1204    0.807653\n",
       "1205    0.656088\n",
       "Name: z_score_compare_f, Length: 844, dtype: object"
      ]
     },
     "execution_count": 31,
     "metadata": {},
     "output_type": "execute_result"
    }
   ],
   "source": [
    "#Create a coloumn that compares between the two z-scores\n",
    "#df['z_score_compare'] = df['z_score_mars']-df['z_score_DD200']\n",
    "\n",
    "df['z_score_compare_f'] = \"\"\n",
    "\n",
    "for index, row in df.iterrows():\n",
    "    df['z_score_compare_f'][index] = abs(row['z_score_Flanker'] - row['z_score_DDisc_AUC'])\n",
    "    \n",
    "df['z_score_compare_f']"
   ]
  },
  {
   "cell_type": "code",
   "execution_count": 32,
   "metadata": {},
   "outputs": [
    {
     "data": {
      "text/plain": [
       "count     844.000000\n",
       "unique    843.000000\n",
       "top         0.999888\n",
       "freq        2.000000\n",
       "Name: z_score_compare_f, dtype: float64"
      ]
     },
     "execution_count": 32,
     "metadata": {},
     "output_type": "execute_result"
    },
    {
     "data": {
      "text/plain": [
       "<AxesSubplot:xlabel='z_score_compare_f'>"
      ]
     },
     "execution_count": 32,
     "metadata": {},
     "output_type": "execute_result"
    },
    {
     "data": {
      "image/png": "[encoded data removed]",
      "text/plain": [
       "<Figure size 432x288 with 1 Axes>"
      ]
     },
     "metadata": {},
     "output_type": "display_data"
    }
   ],
   "source": [
    "df['z_score_compare_f'].describe()\n",
    "\n",
    "#Scores distribution\n",
    "sns.distplot(df['z_score_compare_f'])"
   ]
  },
  {
   "cell_type": "code",
   "execution_count": 31,
   "metadata": {},
   "outputs": [],
   "source": [
    "#Save to csv\n",
    "df.to_csv('HCP_behavior_includeZscores.csv')"
   ]
  }
 ],
 "metadata": {
  "kernelspec": {
   "display_name": "Python 3",
   "language": "python",
   "name": "python3"
  },
  "language_info": {
   "codemirror_mode": {
    "name": "ipython",
    "version": 3
   },
   "file_extension": ".py",
   "mimetype": "text/x-python",
   "name": "python",
   "nbconvert_exporter": "python",
   "pygments_lexer": "ipython3",
   "version": "3.7.8"
  }
 },
 "nbformat": 4,
 "nbformat_minor": 4
}
