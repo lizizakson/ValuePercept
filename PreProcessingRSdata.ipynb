{
 "cells": [
  {
   "cell_type": "code",
   "execution_count": 2,
   "metadata": {},
   "outputs": [],
   "source": [
    "import os\n",
    "import re\n",
    "\n",
    "import shutil\n",
    "import codecs, json \n",
    "import nibabel as nib\n",
    "import numpy as np\n",
    "import pandas as pd\n",
    "import matplotlib as plt\n",
    "import seaborn as sns\n",
    "import scipy as sp\n",
    "from scipy import stats\n",
    "import sklearn as sk\n",
    "import time\n",
    "from dypac import Dypac\n",
    "import nilearn\n",
    "from nilearn import image, plotting, datasets\n",
    "from nilearn.input_data import NiftiLabelsMasker, NiftiMasker\n",
    "from nilearn.connectome import ConnectivityMeasure\n",
    "from nilearn.decomposition import DictLearning, CanICA\n",
    "from scipy.stats import pearsonr\n",
    "import nilearn.plotting as plotting\n"
   ]
  },
  {
   "cell_type": "code",
   "execution_count": 3,
   "metadata": {},
   "outputs": [
    {
     "name": "stderr",
     "output_type": "stream",
     "text": [
      "pixdim[1,2,3] should be non-zero; setting 0 dims to 1\n"
     ]
    }
   ],
   "source": [
    "import hcp_utils as hcp"
   ]
  },
  {
   "cell_type": "markdown",
   "metadata": {},
   "source": [
    "# Extract zip files and delete the original zip files"
   ]
  },
  {
   "cell_type": "code",
   "execution_count": 3,
   "metadata": {},
   "outputs": [],
   "source": [
    "import os, zipfile\n",
    "\n",
    "#dir_name = '/mnt/c/Users/liz/Contacts/Desktop/course-materials-2020/fMRI_HCP/data_RS_denoised'\n",
    "dir_name = '/mnt/d/Liz_HCP/data'\n",
    "extension = \".zip\"\n",
    "\n",
    "os.chdir(dir_name) # change directory from working dir to dir with files\n",
    "\n",
    "for item in os.listdir(dir_name): # loop through items in dir\n",
    "    if item.endswith(extension): # check for \".zip\" extension\n",
    "        file_name = os.path.abspath(item) # get full path of files\n",
    "        zip_ref = zipfile.ZipFile(file_name) # create zipfile object\n",
    "        zip_ref.extractall(dir_name) # extract file to dir\n",
    "        zip_ref.close() # close file\n",
    "        os.remove(file_name) # delete zipped file"
   ]
  },
  {
   "cell_type": "code",
   "execution_count": 16,
   "metadata": {},
   "outputs": [
    {
     "data": {
      "text/plain": [
       "9"
      ]
     },
     "execution_count": 16,
     "metadata": {},
     "output_type": "execute_result"
    }
   ],
   "source": [
    "#dir_name = '/mnt/c/Users/liz/Contacts/Desktop/course-materials-2020/fMRI_HCP/data_RS_denoised'\n",
    "\n",
    "subjects = os.listdir(dir_name)\n",
    "\n",
    "len(subjects)"
   ]
  },
  {
   "cell_type": "markdown",
   "metadata": {},
   "source": [
    "# Load data & concatenate the 4 sessions - do it only once"
   ]
  },
  {
   "cell_type": "code",
   "execution_count": 17,
   "metadata": {},
   "outputs": [],
   "source": [
    "# Define the path to 2D time series\n",
    "#const_path1 = 'mnt/c/Users/liz/Contacts/Desktop/course-materials-2020/fMRI_HCP/data_RS_denoised' #0\n",
    "const_path1 = '/mnt/d/Liz_HCP/data' #0\n",
    "#subjects #1\n",
    "const_path2 = 'MNINonLinear/Results/rfMRI_REST' #2\n",
    "sessions = ['1_LR', '1_RL','2_LR','2_RL'] #3\n",
    "const_path3 = '_Atlas_MSMAll_hp2000_clean.dtseries.nii'#4\n",
    "data = []"
   ]
  },
  {
   "cell_type": "code",
   "execution_count": 18,
   "metadata": {},
   "outputs": [
    {
     "name": "stderr",
     "output_type": "stream",
     "text": [
      "pixdim[1,2,3] should be non-zero; setting 0 dims to 1\n",
      "pixdim[1,2,3] should be non-zero; setting 0 dims to 1\n",
      "pixdim[1,2,3] should be non-zero; setting 0 dims to 1\n",
      "pixdim[1,2,3] should be non-zero; setting 0 dims to 1\n"
     ]
    },
    {
     "name": "stdout",
     "output_type": "stream",
     "text": [
      "finished subject 125525\n"
     ]
    },
    {
     "name": "stderr",
     "output_type": "stream",
     "text": [
      "pixdim[1,2,3] should be non-zero; setting 0 dims to 1\n",
      "pixdim[1,2,3] should be non-zero; setting 0 dims to 1\n",
      "pixdim[1,2,3] should be non-zero; setting 0 dims to 1\n",
      "pixdim[1,2,3] should be non-zero; setting 0 dims to 1\n"
     ]
    },
    {
     "name": "stdout",
     "output_type": "stream",
     "text": [
      "finished subject 126325\n"
     ]
    },
    {
     "name": "stderr",
     "output_type": "stream",
     "text": [
      "pixdim[1,2,3] should be non-zero; setting 0 dims to 1\n",
      "pixdim[1,2,3] should be non-zero; setting 0 dims to 1\n",
      "pixdim[1,2,3] should be non-zero; setting 0 dims to 1\n",
      "pixdim[1,2,3] should be non-zero; setting 0 dims to 1\n"
     ]
    },
    {
     "name": "stdout",
     "output_type": "stream",
     "text": [
      "finished subject 127630\n"
     ]
    },
    {
     "name": "stderr",
     "output_type": "stream",
     "text": [
      "pixdim[1,2,3] should be non-zero; setting 0 dims to 1\n",
      "pixdim[1,2,3] should be non-zero; setting 0 dims to 1\n",
      "pixdim[1,2,3] should be non-zero; setting 0 dims to 1\n",
      "pixdim[1,2,3] should be non-zero; setting 0 dims to 1\n"
     ]
    },
    {
     "name": "stdout",
     "output_type": "stream",
     "text": [
      "finished subject 127933\n"
     ]
    },
    {
     "name": "stderr",
     "output_type": "stream",
     "text": [
      "pixdim[1,2,3] should be non-zero; setting 0 dims to 1\n",
      "pixdim[1,2,3] should be non-zero; setting 0 dims to 1\n",
      "pixdim[1,2,3] should be non-zero; setting 0 dims to 1\n",
      "pixdim[1,2,3] should be non-zero; setting 0 dims to 1\n"
     ]
    },
    {
     "name": "stdout",
     "output_type": "stream",
     "text": [
      "finished subject 128127\n"
     ]
    },
    {
     "name": "stderr",
     "output_type": "stream",
     "text": [
      "pixdim[1,2,3] should be non-zero; setting 0 dims to 1\n",
      "pixdim[1,2,3] should be non-zero; setting 0 dims to 1\n",
      "pixdim[1,2,3] should be non-zero; setting 0 dims to 1\n",
      "pixdim[1,2,3] should be non-zero; setting 0 dims to 1\n"
     ]
    },
    {
     "name": "stdout",
     "output_type": "stream",
     "text": [
      "finished subject 128632\n"
     ]
    },
    {
     "name": "stderr",
     "output_type": "stream",
     "text": [
      "pixdim[1,2,3] should be non-zero; setting 0 dims to 1\n",
      "pixdim[1,2,3] should be non-zero; setting 0 dims to 1\n",
      "pixdim[1,2,3] should be non-zero; setting 0 dims to 1\n",
      "pixdim[1,2,3] should be non-zero; setting 0 dims to 1\n"
     ]
    },
    {
     "name": "stdout",
     "output_type": "stream",
     "text": [
      "finished subject 144832\n"
     ]
    },
    {
     "name": "stderr",
     "output_type": "stream",
     "text": [
      "pixdim[1,2,3] should be non-zero; setting 0 dims to 1\n",
      "pixdim[1,2,3] should be non-zero; setting 0 dims to 1\n",
      "pixdim[1,2,3] should be non-zero; setting 0 dims to 1\n",
      "pixdim[1,2,3] should be non-zero; setting 0 dims to 1\n"
     ]
    },
    {
     "name": "stdout",
     "output_type": "stream",
     "text": [
      "finished subject 146432\n"
     ]
    },
    {
     "name": "stderr",
     "output_type": "stream",
     "text": [
      "pixdim[1,2,3] should be non-zero; setting 0 dims to 1\n",
      "pixdim[1,2,3] should be non-zero; setting 0 dims to 1\n",
      "pixdim[1,2,3] should be non-zero; setting 0 dims to 1\n",
      "pixdim[1,2,3] should be non-zero; setting 0 dims to 1\n"
     ]
    },
    {
     "name": "stdout",
     "output_type": "stream",
     "text": [
      "finished subject 147737\n"
     ]
    }
   ],
   "source": [
    "saved_dir_path = '/mnt/c/Users/liz/Contacts/Desktop/course-materials-2020/fMRI_HCP/saved_data/'\n",
    "\n",
    "\n",
    "#obj_text = codecs.open(savedFile_path, 'r', encoding='utf-8').read()\n",
    "#data = json.loads(obj_text)\n",
    "\n",
    "#for key in data.keys():\n",
    " #   data[key] = np.array(data[key])\n",
    "\n",
    " \n",
    "#Loop over each subject and each session per subject\n",
    "for sub in subjects:\n",
    "    #if sub in data.keys():\n",
    "     #   continue\n",
    "    tmp_dict = {}\n",
    "    for session in sessions:\n",
    "        path = '/{0}/{1}/{2}{3}/rfMRI_REST{3}{4}'.format(const_path1, sub, const_path2, session,const_path3)\n",
    "        #load data per session\n",
    "        img = nib.load(path)\n",
    "        X = img.get_fdata()\n",
    "        #print(stats.describe(X))\n",
    "        #print(np.mean(X))\n",
    "        #print(X.shape)\n",
    "        #print(type(X.shape))\n",
    "        if X.shape[0] != 1200:\n",
    "            print(\"bad subject\")\n",
    "        Xn = hcp.normalize(X) #normalize data per session\n",
    "        #print(np.mean(Xn))\n",
    "        #print(stats.describe(Xn))\n",
    "        tmp_dict[session] = Xn\n",
    "        #tmp_dict[session] = '/{0}/{1}/{2}{3}/rfMRI_REST{3}{4}'.format(const_path1, sub, const_path2, session,const_path3)\n",
    "    #Concatenate 4 normalized sessions per subject\n",
    "    data_sub = np.concatenate((tmp_dict['1_LR'], tmp_dict['1_RL'],tmp_dict['2_LR'], tmp_dict['2_RL']), axis=0)\n",
    "    print(\"finished subject {0}\".format(sub), flush = True)\n",
    "    #data_sub\n",
    "    #save file of subject to the directory\n",
    "    np.savez_compressed(saved_dir_path + sub, a = data_sub)\n",
    "    #delete original subject file\n",
    "    shutil.rmtree(const_path1 + '/' + sub, ignore_errors=False, onerror=None) \n",
    "    #break\n",
    "#data\n",
    "\n"
   ]
  },
  {
   "cell_type": "code",
   "execution_count": 19,
   "metadata": {},
   "outputs": [],
   "source": [
    "#Load data\n",
    "feat_file = saved_dir_path + '100307.npz'\n",
    "data_1sub = np.load(feat_file)['a']"
   ]
  },
  {
   "cell_type": "code",
   "execution_count": 20,
   "metadata": {},
   "outputs": [
    {
     "data": {
      "text/plain": [
       "(4800, 91282)"
      ]
     },
     "execution_count": 20,
     "metadata": {},
     "output_type": "execute_result"
    }
   ],
   "source": [
    "data_1sub.shape"
   ]
  },
  {
   "cell_type": "markdown",
   "metadata": {},
   "source": [
    "# Load the concatenated files"
   ]
  },
  {
   "cell_type": "code",
   "execution_count": 20,
   "metadata": {},
   "outputs": [
    {
     "ename": "OSError",
     "evalue": "[Errno 22] Invalid argument: '/mnt/d/Liz_HCP/data_saved'",
     "output_type": "error",
     "traceback": [
      "\u001b[0;31m---------------------------------------------------------------------------\u001b[0m",
      "\u001b[0;31mOSError\u001b[0m                                   Traceback (most recent call last)",
      "\u001b[0;32m<ipython-input-20-ef3277ff0b44>\u001b[0m in \u001b[0;36m<module>\u001b[0;34m\u001b[0m\n\u001b[1;32m      3\u001b[0m \u001b[0mdir_name\u001b[0m \u001b[0;34m=\u001b[0m \u001b[0;34m'/mnt/d/Liz_HCP/data_saved'\u001b[0m\u001b[0;34m\u001b[0m\u001b[0;34m\u001b[0m\u001b[0m\n\u001b[1;32m      4\u001b[0m \u001b[0;34m\u001b[0m\u001b[0m\n\u001b[0;32m----> 5\u001b[0;31m \u001b[0msubjects\u001b[0m \u001b[0;34m=\u001b[0m \u001b[0mos\u001b[0m\u001b[0;34m.\u001b[0m\u001b[0mlistdir\u001b[0m\u001b[0;34m(\u001b[0m\u001b[0mdir_name\u001b[0m\u001b[0;34m)\u001b[0m\u001b[0;34m\u001b[0m\u001b[0;34m\u001b[0m\u001b[0m\n\u001b[0m\u001b[1;32m      6\u001b[0m \u001b[0;34m\u001b[0m\u001b[0m\n\u001b[1;32m      7\u001b[0m \u001b[0mlen\u001b[0m\u001b[0;34m(\u001b[0m\u001b[0msubjects\u001b[0m\u001b[0;34m)\u001b[0m\u001b[0;34m\u001b[0m\u001b[0;34m\u001b[0m\u001b[0m\n",
      "\u001b[0;31mOSError\u001b[0m: [Errno 22] Invalid argument: '/mnt/d/Liz_HCP/data_saved'"
     ]
    }
   ],
   "source": [
    "#dir_name = '/mnt/c/Users/liz/Contacts/Desktop/course-materials-2020/fMRI_HCP/saved_data'\n",
    "\n",
    "dir_name = '/mnt/d/Liz_HCP/data_saved'\n",
    "\n",
    "subjects = os.listdir(dir_name)\n",
    "\n",
    "len(subjects)"
   ]
  },
  {
   "cell_type": "code",
   "execution_count": 6,
   "metadata": {},
   "outputs": [],
   "source": [
    "subjects_num = []\n",
    "\n",
    "for i in range(len(subjects)):\n",
    "    subjects_num.append(subjects[i][:6])\n",
    "\n",
    "subjects_num  \n",
    "\n",
    "#Save a list of subject IDs\n",
    "with open('subID_47.txt', 'w') as f:\n",
    "    f.write(json.dumps(subjects_num))"
   ]
  },
  {
   "cell_type": "code",
   "execution_count": 5,
   "metadata": {},
   "outputs": [
    {
     "data": {
      "text/plain": [
       "['/mnt/d/Liz_HCP/data_saved/100307.npz',\n",
       " '/mnt/d/Liz_HCP/data_saved/100408.npz',\n",
       " '/mnt/d/Liz_HCP/data_saved/101107.npz',\n",
       " '/mnt/d/Liz_HCP/data_saved/101309.npz',\n",
       " '/mnt/d/Liz_HCP/data_saved/101915.npz',\n",
       " '/mnt/d/Liz_HCP/data_saved/103111.npz',\n",
       " '/mnt/d/Liz_HCP/data_saved/103414.npz',\n",
       " '/mnt/d/Liz_HCP/data_saved/103818.npz',\n",
       " '/mnt/d/Liz_HCP/data_saved/105014.npz',\n",
       " '/mnt/d/Liz_HCP/data_saved/105115.npz',\n",
       " '/mnt/d/Liz_HCP/data_saved/106016.npz',\n",
       " '/mnt/d/Liz_HCP/data_saved/108828.npz',\n",
       " '/mnt/d/Liz_HCP/data_saved/110411.npz',\n",
       " '/mnt/d/Liz_HCP/data_saved/111312.npz',\n",
       " '/mnt/d/Liz_HCP/data_saved/111716.npz',\n",
       " '/mnt/d/Liz_HCP/data_saved/113619.npz',\n",
       " '/mnt/d/Liz_HCP/data_saved/113922.npz',\n",
       " '/mnt/d/Liz_HCP/data_saved/114419.npz',\n",
       " '/mnt/d/Liz_HCP/data_saved/116524.npz',\n",
       " '/mnt/d/Liz_HCP/data_saved/117122.npz',\n",
       " '/mnt/d/Liz_HCP/data_saved/118528.npz',\n",
       " '/mnt/d/Liz_HCP/data_saved/118730.npz',\n",
       " '/mnt/d/Liz_HCP/data_saved/118932.npz',\n",
       " '/mnt/d/Liz_HCP/data_saved/122317.npz',\n",
       " '/mnt/d/Liz_HCP/data_saved/122620.npz',\n",
       " '/mnt/d/Liz_HCP/data_saved/123117.npz',\n",
       " '/mnt/d/Liz_HCP/data_saved/123925.npz',\n",
       " '/mnt/d/Liz_HCP/data_saved/124422.npz',\n",
       " '/mnt/d/Liz_HCP/data_saved/125525.npz',\n",
       " '/mnt/d/Liz_HCP/data_saved/126325.npz',\n",
       " '/mnt/d/Liz_HCP/data_saved/127630.npz',\n",
       " '/mnt/d/Liz_HCP/data_saved/127933.npz',\n",
       " '/mnt/d/Liz_HCP/data_saved/128127.npz',\n",
       " '/mnt/d/Liz_HCP/data_saved/128632.npz',\n",
       " '/mnt/d/Liz_HCP/data_saved/129028.npz',\n",
       " '/mnt/d/Liz_HCP/data_saved/130013.npz',\n",
       " '/mnt/d/Liz_HCP/data_saved/130316.npz',\n",
       " '/mnt/d/Liz_HCP/data_saved/131217.npz',\n",
       " '/mnt/d/Liz_HCP/data_saved/131722.npz',\n",
       " '/mnt/d/Liz_HCP/data_saved/133019.npz',\n",
       " '/mnt/d/Liz_HCP/data_saved/133928.npz',\n",
       " '/mnt/d/Liz_HCP/data_saved/135225.npz',\n",
       " '/mnt/d/Liz_HCP/data_saved/135932.npz',\n",
       " '/mnt/d/Liz_HCP/data_saved/136833.npz',\n",
       " '/mnt/d/Liz_HCP/data_saved/138534.npz',\n",
       " '/mnt/d/Liz_HCP/data_saved/139637.npz',\n",
       " '/mnt/d/Liz_HCP/data_saved/140925.npz',\n",
       " '/mnt/d/Liz_HCP/data_saved/144832.npz',\n",
       " '/mnt/d/Liz_HCP/data_saved/146432.npz',\n",
       " '/mnt/d/Liz_HCP/data_saved/147737.npz']"
      ]
     },
     "execution_count": 5,
     "metadata": {},
     "output_type": "execute_result"
    }
   ],
   "source": [
    "paths = []\n",
    "for sub in subjects:\n",
    "    paths.append(dir_name + '/{0}'.format(sub))\n",
    "data = paths\n",
    "data"
   ]
  },
  {
   "cell_type": "markdown",
   "metadata": {},
   "source": [
    "# Parcellation + correlation matrix"
   ]
  },
  {
   "cell_type": "code",
   "execution_count": 6,
   "metadata": {},
   "outputs": [
    {
     "data": {
      "text/plain": [
       "ConnectivityMeasure(kind='correlation')"
      ]
     },
     "execution_count": 6,
     "metadata": {},
     "output_type": "execute_result"
    }
   ],
   "source": [
    "#Create the wanted connectivity matrix\n",
    "from nilearn import connectome\n",
    "#kind{“correlation”, “partial correlation”, “tangent”, “covariance”, “precision”}\n",
    "correlation_measure = connectome.ConnectivityMeasure(kind='correlation')\n",
    "correlation_measure"
   ]
  },
  {
   "cell_type": "code",
   "execution_count": 7,
   "metadata": {},
   "outputs": [
    {
     "name": "stdout",
     "output_type": "stream",
     "text": [
      "finished 1 of 50\n",
      "finished 2 of 50\n",
      "finished 3 of 50\n",
      "finished 4 of 50\n",
      "finished 5 of 50\n",
      "finished 6 of 50\n",
      "finished 7 of 50\n",
      "finished 8 of 50\n",
      "finished 9 of 50\n",
      "finished 10 of 50\n",
      "finished 11 of 50\n",
      "finished 12 of 50\n",
      "finished 13 of 50\n",
      "finished 14 of 50\n",
      "finished 15 of 50\n",
      "finished 16 of 50\n",
      "finished 17 of 50\n",
      "finished 18 of 50\n",
      "finished 19 of 50\n",
      "finished 20 of 50\n",
      "finished 21 of 50\n",
      "finished 22 of 50\n",
      "finished 23 of 50\n",
      "finished 24 of 50\n",
      "finished 25 of 50\n",
      "finished 26 of 50\n",
      "finished 27 of 50\n",
      "finished 28 of 50\n",
      "finished 29 of 50\n",
      "finished 30 of 50\n",
      "finished 31 of 50\n",
      "finished 32 of 50\n",
      "finished 33 of 50\n",
      "finished 34 of 50\n",
      "finished 35 of 50\n",
      "finished 36 of 50\n",
      "finished 37 of 50\n",
      "finished 38 of 50\n",
      "finished 39 of 50\n",
      "finished 40 of 50\n",
      "finished 41 of 50\n",
      "finished 42 of 50\n",
      "finished 43 of 50\n",
      "finished 44 of 50\n",
      "finished 45 of 50\n",
      "finished 46 of 50\n",
      "finished 47 of 50\n"
     ]
    },
    {
     "ename": "BadZipFile",
     "evalue": "File is not a zip file",
     "output_type": "error",
     "traceback": [
      "\u001b[0;31m---------------------------------------------------------------------------\u001b[0m",
      "\u001b[0;31mBadZipFile\u001b[0m                                Traceback (most recent call last)",
      "\u001b[0;32m<ipython-input-7-c1f8bb00fd46>\u001b[0m in \u001b[0;36m<module>\u001b[0;34m\u001b[0m\n\u001b[1;32m      4\u001b[0m \u001b[0;32mfor\u001b[0m \u001b[0mi\u001b[0m\u001b[0;34m,\u001b[0m\u001b[0msub\u001b[0m \u001b[0;32min\u001b[0m \u001b[0menumerate\u001b[0m\u001b[0;34m(\u001b[0m\u001b[0mdata\u001b[0m\u001b[0;34m)\u001b[0m\u001b[0;34m:\u001b[0m\u001b[0;34m\u001b[0m\u001b[0;34m\u001b[0m\u001b[0m\n\u001b[1;32m      5\u001b[0m     \u001b[0;31m#load data\u001b[0m\u001b[0;34m\u001b[0m\u001b[0;34m\u001b[0m\u001b[0;34m\u001b[0m\u001b[0m\n\u001b[0;32m----> 6\u001b[0;31m     \u001b[0mload_data\u001b[0m \u001b[0;34m=\u001b[0m \u001b[0mnp\u001b[0m\u001b[0;34m.\u001b[0m\u001b[0mload\u001b[0m\u001b[0;34m(\u001b[0m\u001b[0mdata\u001b[0m\u001b[0;34m[\u001b[0m\u001b[0mi\u001b[0m\u001b[0;34m]\u001b[0m\u001b[0;34m)\u001b[0m\u001b[0;34m[\u001b[0m\u001b[0;34m'a'\u001b[0m\u001b[0;34m]\u001b[0m\u001b[0;34m\u001b[0m\u001b[0;34m\u001b[0m\u001b[0m\n\u001b[0m\u001b[1;32m      7\u001b[0m     \u001b[0;31m# parcell the data according to a specific atlas\u001b[0m\u001b[0;34m\u001b[0m\u001b[0;34m\u001b[0m\u001b[0;34m\u001b[0m\u001b[0m\n\u001b[1;32m      8\u001b[0m     \u001b[0mparcellated_data\u001b[0m \u001b[0;34m=\u001b[0m \u001b[0;34m(\u001b[0m\u001b[0mhcp\u001b[0m\u001b[0;34m.\u001b[0m\u001b[0mparcellate\u001b[0m\u001b[0;34m(\u001b[0m\u001b[0mload_data\u001b[0m\u001b[0;34m,\u001b[0m \u001b[0mhcp\u001b[0m\u001b[0;34m.\u001b[0m\u001b[0myeo7\u001b[0m\u001b[0;34m)\u001b[0m\u001b[0;34m)\u001b[0m\u001b[0;34m\u001b[0m\u001b[0;34m\u001b[0m\u001b[0m\n",
      "\u001b[0;32m~/miniconda3/lib/python3.7/site-packages/numpy/lib/npyio.py\u001b[0m in \u001b[0;36mload\u001b[0;34m(file, mmap_mode, allow_pickle, fix_imports, encoding)\u001b[0m\n\u001b[1;32m    442\u001b[0m             \u001b[0;31m# Transfer file ownership to NpzFile\u001b[0m\u001b[0;34m\u001b[0m\u001b[0;34m\u001b[0m\u001b[0;34m\u001b[0m\u001b[0m\n\u001b[1;32m    443\u001b[0m             ret = NpzFile(fid, own_fid=own_fid, allow_pickle=allow_pickle,\n\u001b[0;32m--> 444\u001b[0;31m                           pickle_kwargs=pickle_kwargs)\n\u001b[0m\u001b[1;32m    445\u001b[0m             \u001b[0mown_fid\u001b[0m \u001b[0;34m=\u001b[0m \u001b[0;32mFalse\u001b[0m\u001b[0;34m\u001b[0m\u001b[0;34m\u001b[0m\u001b[0m\n\u001b[1;32m    446\u001b[0m             \u001b[0;32mreturn\u001b[0m \u001b[0mret\u001b[0m\u001b[0;34m\u001b[0m\u001b[0;34m\u001b[0m\u001b[0m\n",
      "\u001b[0;32m~/miniconda3/lib/python3.7/site-packages/numpy/lib/npyio.py\u001b[0m in \u001b[0;36m__init__\u001b[0;34m(self, fid, own_fid, allow_pickle, pickle_kwargs)\u001b[0m\n\u001b[1;32m    191\u001b[0m         \u001b[0;31m# Import is postponed to here since zipfile depends on gzip, an\u001b[0m\u001b[0;34m\u001b[0m\u001b[0;34m\u001b[0m\u001b[0;34m\u001b[0m\u001b[0m\n\u001b[1;32m    192\u001b[0m         \u001b[0;31m# optional component of the so-called standard library.\u001b[0m\u001b[0;34m\u001b[0m\u001b[0;34m\u001b[0m\u001b[0;34m\u001b[0m\u001b[0m\n\u001b[0;32m--> 193\u001b[0;31m         \u001b[0m_zip\u001b[0m \u001b[0;34m=\u001b[0m \u001b[0mzipfile_factory\u001b[0m\u001b[0;34m(\u001b[0m\u001b[0mfid\u001b[0m\u001b[0;34m)\u001b[0m\u001b[0;34m\u001b[0m\u001b[0;34m\u001b[0m\u001b[0m\n\u001b[0m\u001b[1;32m    194\u001b[0m         \u001b[0mself\u001b[0m\u001b[0;34m.\u001b[0m\u001b[0m_files\u001b[0m \u001b[0;34m=\u001b[0m \u001b[0m_zip\u001b[0m\u001b[0;34m.\u001b[0m\u001b[0mnamelist\u001b[0m\u001b[0;34m(\u001b[0m\u001b[0;34m)\u001b[0m\u001b[0;34m\u001b[0m\u001b[0;34m\u001b[0m\u001b[0m\n\u001b[1;32m    195\u001b[0m         \u001b[0mself\u001b[0m\u001b[0;34m.\u001b[0m\u001b[0mfiles\u001b[0m \u001b[0;34m=\u001b[0m \u001b[0;34m[\u001b[0m\u001b[0;34m]\u001b[0m\u001b[0;34m\u001b[0m\u001b[0;34m\u001b[0m\u001b[0m\n",
      "\u001b[0;32m~/miniconda3/lib/python3.7/site-packages/numpy/lib/npyio.py\u001b[0m in \u001b[0;36mzipfile_factory\u001b[0;34m(file, *args, **kwargs)\u001b[0m\n\u001b[1;32m    117\u001b[0m     \u001b[0;32mimport\u001b[0m \u001b[0mzipfile\u001b[0m\u001b[0;34m\u001b[0m\u001b[0;34m\u001b[0m\u001b[0m\n\u001b[1;32m    118\u001b[0m     \u001b[0mkwargs\u001b[0m\u001b[0;34m[\u001b[0m\u001b[0;34m'allowZip64'\u001b[0m\u001b[0;34m]\u001b[0m \u001b[0;34m=\u001b[0m \u001b[0;32mTrue\u001b[0m\u001b[0;34m\u001b[0m\u001b[0;34m\u001b[0m\u001b[0m\n\u001b[0;32m--> 119\u001b[0;31m     \u001b[0;32mreturn\u001b[0m \u001b[0mzipfile\u001b[0m\u001b[0;34m.\u001b[0m\u001b[0mZipFile\u001b[0m\u001b[0;34m(\u001b[0m\u001b[0mfile\u001b[0m\u001b[0;34m,\u001b[0m \u001b[0;34m*\u001b[0m\u001b[0margs\u001b[0m\u001b[0;34m,\u001b[0m \u001b[0;34m**\u001b[0m\u001b[0mkwargs\u001b[0m\u001b[0;34m)\u001b[0m\u001b[0;34m\u001b[0m\u001b[0;34m\u001b[0m\u001b[0m\n\u001b[0m\u001b[1;32m    120\u001b[0m \u001b[0;34m\u001b[0m\u001b[0m\n\u001b[1;32m    121\u001b[0m \u001b[0;34m\u001b[0m\u001b[0m\n",
      "\u001b[0;32m~/miniconda3/lib/python3.7/zipfile.py\u001b[0m in \u001b[0;36m__init__\u001b[0;34m(self, file, mode, compression, allowZip64, compresslevel)\u001b[0m\n\u001b[1;32m   1256\u001b[0m         \u001b[0;32mtry\u001b[0m\u001b[0;34m:\u001b[0m\u001b[0;34m\u001b[0m\u001b[0;34m\u001b[0m\u001b[0m\n\u001b[1;32m   1257\u001b[0m             \u001b[0;32mif\u001b[0m \u001b[0mmode\u001b[0m \u001b[0;34m==\u001b[0m \u001b[0;34m'r'\u001b[0m\u001b[0;34m:\u001b[0m\u001b[0;34m\u001b[0m\u001b[0;34m\u001b[0m\u001b[0m\n\u001b[0;32m-> 1258\u001b[0;31m                 \u001b[0mself\u001b[0m\u001b[0;34m.\u001b[0m\u001b[0m_RealGetContents\u001b[0m\u001b[0;34m(\u001b[0m\u001b[0;34m)\u001b[0m\u001b[0;34m\u001b[0m\u001b[0;34m\u001b[0m\u001b[0m\n\u001b[0m\u001b[1;32m   1259\u001b[0m             \u001b[0;32melif\u001b[0m \u001b[0mmode\u001b[0m \u001b[0;32min\u001b[0m \u001b[0;34m(\u001b[0m\u001b[0;34m'w'\u001b[0m\u001b[0;34m,\u001b[0m \u001b[0;34m'x'\u001b[0m\u001b[0;34m)\u001b[0m\u001b[0;34m:\u001b[0m\u001b[0;34m\u001b[0m\u001b[0;34m\u001b[0m\u001b[0m\n\u001b[1;32m   1260\u001b[0m                 \u001b[0;31m# set the modified flag so central directory gets written\u001b[0m\u001b[0;34m\u001b[0m\u001b[0;34m\u001b[0m\u001b[0;34m\u001b[0m\u001b[0m\n",
      "\u001b[0;32m~/miniconda3/lib/python3.7/zipfile.py\u001b[0m in \u001b[0;36m_RealGetContents\u001b[0;34m(self)\u001b[0m\n\u001b[1;32m   1323\u001b[0m             \u001b[0;32mraise\u001b[0m \u001b[0mBadZipFile\u001b[0m\u001b[0;34m(\u001b[0m\u001b[0;34m\"File is not a zip file\"\u001b[0m\u001b[0;34m)\u001b[0m\u001b[0;34m\u001b[0m\u001b[0;34m\u001b[0m\u001b[0m\n\u001b[1;32m   1324\u001b[0m         \u001b[0;32mif\u001b[0m \u001b[0;32mnot\u001b[0m \u001b[0mendrec\u001b[0m\u001b[0;34m:\u001b[0m\u001b[0;34m\u001b[0m\u001b[0;34m\u001b[0m\u001b[0m\n\u001b[0;32m-> 1325\u001b[0;31m             \u001b[0;32mraise\u001b[0m \u001b[0mBadZipFile\u001b[0m\u001b[0;34m(\u001b[0m\u001b[0;34m\"File is not a zip file\"\u001b[0m\u001b[0;34m)\u001b[0m\u001b[0;34m\u001b[0m\u001b[0;34m\u001b[0m\u001b[0m\n\u001b[0m\u001b[1;32m   1326\u001b[0m         \u001b[0;32mif\u001b[0m \u001b[0mself\u001b[0m\u001b[0;34m.\u001b[0m\u001b[0mdebug\u001b[0m \u001b[0;34m>\u001b[0m \u001b[0;36m1\u001b[0m\u001b[0;34m:\u001b[0m\u001b[0;34m\u001b[0m\u001b[0;34m\u001b[0m\u001b[0m\n\u001b[1;32m   1327\u001b[0m             \u001b[0mprint\u001b[0m\u001b[0;34m(\u001b[0m\u001b[0mendrec\u001b[0m\u001b[0;34m)\u001b[0m\u001b[0;34m\u001b[0m\u001b[0;34m\u001b[0m\u001b[0m\n",
      "\u001b[0;31mBadZipFile\u001b[0m: File is not a zip file"
     ]
    }
   ],
   "source": [
    "all_features = [] # here is where we will put the data (a container)\n",
    "#saved_dir_path = '/mnt/c/Users/liz/Contacts/Desktop/course-materials-2020/fMRI_HCP/saved_matrices/'\n",
    "\n",
    "for i,sub in enumerate(data):\n",
    "    #load data\n",
    "    load_data = np.load(data[i])['a']\n",
    "    # parcell the data according to a specific atlas\n",
    "    parcellated_data = (hcp.parcellate(load_data, hcp.yeo17))\n",
    "    # create a region x region correlation matrix\n",
    "    correlation_matrix = correlation_measure.fit_transform([parcellated_data])[0]\n",
    "    # add to our container\n",
    "    #np.savez_compressed(saved_dir_path + i, a = correlation_matrix)\n",
    "    all_features.append(correlation_matrix)\n",
    "    # keep track of status\n",
    "    print('finished %s of %s'%(i+1,len(data)))"
   ]
  },
  {
   "cell_type": "code",
   "execution_count": 8,
   "metadata": {},
   "outputs": [
    {
     "data": {
      "text/plain": [
       "47"
      ]
     },
     "execution_count": 8,
     "metadata": {},
     "output_type": "execute_result"
    }
   ],
   "source": [
    "len(all_features)"
   ]
  },
  {
   "cell_type": "code",
   "execution_count": 9,
   "metadata": {},
   "outputs": [],
   "source": [
    "connectivity_data = np.array(all_features)"
   ]
  },
  {
   "cell_type": "code",
   "execution_count": 10,
   "metadata": {},
   "outputs": [
    {
     "data": {
      "text/plain": [
       "(47, 7, 7)"
      ]
     },
     "execution_count": 10,
     "metadata": {},
     "output_type": "execute_result"
    }
   ],
   "source": [
    "connectivity_data.shape"
   ]
  },
  {
   "cell_type": "code",
   "execution_count": 53,
   "metadata": {},
   "outputs": [],
   "source": [
    "np.savez_compressed('all_features_47',a = all_features)"
   ]
  },
  {
   "cell_type": "code",
   "execution_count": 11,
   "metadata": {},
   "outputs": [
    {
     "data": {
      "text/plain": [
       "<matplotlib.image.AxesImage at 0x7f0c40202510>"
      ]
     },
     "execution_count": 11,
     "metadata": {},
     "output_type": "execute_result"
    },
    {
     "data": {
      "image/png": "[encoded data removed]",
      "text/plain": [
       "<Figure size 504x360 with 2 Axes>"
      ]
     },
     "metadata": {
      "needs_background": "light"
     },
     "output_type": "display_data"
    }
   ],
   "source": [
    "correlation_matrix = connectivity_data[0]\n",
    "# Mask the main diagonal for visualization:\n",
    "# np.fill_diagonal(correlation_matrix, 0)\n",
    "plotting.plot_matrix(correlation_matrix)"
   ]
  },
  {
   "cell_type": "markdown",
   "metadata": {},
   "source": [
    "# Load data"
   ]
  },
  {
   "cell_type": "code",
   "execution_count": 8,
   "metadata": {},
   "outputs": [],
   "source": [
    "#Load connectomes\n",
    "\n",
    "#feat_file = '/mnt/c/Users/liz/Contacts/Desktop/course-materials-2020/fMRI_HCP/features_11Subs.npz'\n",
    "feat_file = '/mnt/c/Users/liz/Contacts/Desktop/course-materials-2020/fMRI_HCP/all_features_47.npz'\n",
    "\n",
    "connectivity_data = np.load(feat_file)['a']"
   ]
  },
  {
   "cell_type": "markdown",
   "metadata": {},
   "source": [
    "# Extract specific connections"
   ]
  },
  {
   "cell_type": "code",
   "execution_count": 32,
   "metadata": {},
   "outputs": [
    {
     "data": {
      "image/png": "[encoded data removed]",
      "text/plain": [
       "<Figure size 1296x72 with 1 Axes>"
      ]
     },
     "metadata": {},
     "output_type": "display_data"
    }
   ],
   "source": [
    "labels = hcp.parcellation_labels(hcp.yeo7)"
   ]
  },
  {
   "cell_type": "code",
   "execution_count": 9,
   "metadata": {},
   "outputs": [
    {
     "data": {
      "text/plain": [
       "0.4112723010007175"
      ]
     },
     "execution_count": 9,
     "metadata": {},
     "output_type": "execute_result"
    }
   ],
   "source": [
    "connectivity_data[0][1,2]"
   ]
  },
  {
   "cell_type": "code",
   "execution_count": 10,
   "metadata": {},
   "outputs": [
    {
     "name": "stdout",
     "output_type": "stream",
     "text": [
      "0\n",
      "0.2566775699492148\n",
      "1\n",
      "0.5349002416300955\n",
      "2\n",
      "0.6175115785833399\n",
      "3\n",
      "0.3205487930689081\n",
      "4\n",
      "0.5162582028425511\n",
      "5\n",
      "0.16935549259283397\n",
      "6\n",
      "0.2898080701537251\n",
      "7\n",
      "0.449034331359363\n",
      "8\n",
      "0.265347643014113\n",
      "9\n",
      "0.24776385068551712\n",
      "10\n",
      "0.540964177359438\n",
      "11\n",
      "0.3366100388718562\n",
      "12\n",
      "0.48004407443759994\n",
      "13\n",
      "0.5116853411034855\n",
      "14\n",
      "0.1447026271375868\n",
      "15\n",
      "0.3540745338999928\n",
      "16\n",
      "0.43123039655862866\n",
      "17\n",
      "0.4083650536608586\n",
      "18\n",
      "0.5725715713812075\n",
      "19\n",
      "0.43610411023765594\n",
      "20\n",
      "0.1851451499257826\n",
      "21\n",
      "0.20172320983987194\n",
      "22\n",
      "0.42848759608128667\n",
      "23\n",
      "0.3116000709967081\n",
      "24\n",
      "0.25170026575222676\n",
      "25\n",
      "0.13733089536069043\n",
      "26\n",
      "0.3566007413124003\n",
      "27\n",
      "-0.21497959433923422\n",
      "28\n",
      "0.40254890194831255\n",
      "29\n",
      "0.35578628519336797\n",
      "30\n",
      "0.34011792352782905\n",
      "31\n",
      "0.3299838896503055\n",
      "32\n",
      "0.1686373834385062\n",
      "33\n",
      "0.6794247853716056\n",
      "34\n",
      "0.4346836492049146\n",
      "35\n",
      "0.10323841496085791\n",
      "36\n",
      "0.4966721400212621\n",
      "37\n",
      "0.45835186083532864\n",
      "38\n",
      "0.5036596195004632\n",
      "39\n",
      "0.4460690225719916\n",
      "40\n",
      "0.48860561147669507\n",
      "41\n",
      "0.2344323656094635\n",
      "42\n",
      "0.3965992107355008\n",
      "43\n",
      "0.5712190226076262\n",
      "44\n",
      "0.36946202891011604\n",
      "45\n",
      "0.4348578658614581\n",
      "46\n",
      "0.4284279330716062\n"
     ]
    }
   ],
   "source": [
    "#Indicate only specific correlation (specific parcells) from the matrix- for each subject\n",
    "specific_parcell_corr = []\n",
    "#print(data[1])\n",
    "for i in range(len(connectivity_data)):\n",
    "    print(i)\n",
    "    print (connectivity_data[i][5,0])\n",
    "    specific_parcell_corr.append(connectivity_data[i][5,0])"
   ]
  },
  {
   "cell_type": "markdown",
   "metadata": {},
   "source": [
    "# Parcellation - full "
   ]
  },
  {
   "cell_type": "code",
   "execution_count": null,
   "metadata": {},
   "outputs": [],
   "source": [
    "hcp.mesh.keys()"
   ]
  },
  {
   "cell_type": "code",
   "execution_count": null,
   "metadata": {},
   "outputs": [],
   "source": [
    "plotting.view_surf(hcp.mesh.inflated, hcp.cortex_data(Xn[29]), \n",
    "    threshold=1.5, bg_map=hcp.mesh.sulc)"
   ]
  },
  {
   "cell_type": "code",
   "execution_count": null,
   "metadata": {},
   "outputs": [],
   "source": [
    "#parcellation for one subject\n",
    "Xp = hcp.parcellate(data[0], hcp.yeo7)"
   ]
  },
  {
   "cell_type": "code",
   "execution_count": null,
   "metadata": {},
   "outputs": [],
   "source": [
    "hcp.yeo7"
   ]
  },
  {
   "cell_type": "code",
   "execution_count": null,
   "metadata": {},
   "outputs": [],
   "source": [
    "schafer_parcel = nilearn.datasets.fetch_atlas_schaefer_2018(n_rois=400, yeo_networks=7, resolution_mm=1, data_dir=None, base_url=None, resume=True, verbose=1)"
   ]
  },
  {
   "cell_type": "code",
   "execution_count": null,
   "metadata": {},
   "outputs": [],
   "source": [
    "type(schafer_parcel)"
   ]
  },
  {
   "cell_type": "code",
   "execution_count": null,
   "metadata": {},
   "outputs": [],
   "source": [
    "#parcell each subject according to schafer_2018"
   ]
  },
  {
   "cell_type": "code",
   "execution_count": null,
   "metadata": {},
   "outputs": [],
   "source": [
    "#Parcellate time series for each subject\n",
    "parcellated_data = []\n",
    "#print(data[1])\n",
    "for i in range(len(data)):\n",
    "    print(i)\n",
    "    print (data[i])\n",
    "    parcellated_data.append(hcp.parcellate(data[i], hcp.yeo7))"
   ]
  },
  {
   "cell_type": "code",
   "execution_count": null,
   "metadata": {},
   "outputs": [],
   "source": [
    "len(parcellated_data)"
   ]
  },
  {
   "cell_type": "code",
   "execution_count": null,
   "metadata": {},
   "outputs": [],
   "source": [
    "parcellated_data[0].shape"
   ]
  },
  {
   "cell_type": "code",
   "execution_count": null,
   "metadata": {},
   "outputs": [],
   "source": [
    "df = hcp.ranking(parcellated_data[0][300], hcp.yeo7)\n",
    "df"
   ]
  },
  {
   "cell_type": "code",
   "execution_count": null,
   "metadata": {},
   "outputs": [],
   "source": [
    "labels = hcp.parcellation_labels(hcp.yeo7)"
   ]
  },
  {
   "cell_type": "markdown",
   "metadata": {},
   "source": [
    "# Connectivy matrix - full"
   ]
  },
  {
   "cell_type": "code",
   "execution_count": null,
   "metadata": {},
   "outputs": [],
   "source": [
    "#Create the wanted connectivity matrix\n",
    "from nilearn import connectome\n",
    "#kind{“correlation”, “partial correlation”, “tangent”, “covariance”, “precision”}\n",
    "correlation_measure = connectome.ConnectivityMeasure(kind='correlation')\n",
    "correlation_measure"
   ]
  },
  {
   "cell_type": "code",
   "execution_count": null,
   "metadata": {},
   "outputs": [],
   "source": [
    "#Create connectivity matrix for each subject\n",
    "connectivity_data = []\n",
    "#print(data[1])\n",
    "for i in range(len(parcellated_data)):\n",
    "    print(i)\n",
    "    print (data[i])\n",
    "    connectivity_data.append(correlation_measure.fit_transform([parcellated_data[i]]))"
   ]
  },
  {
   "cell_type": "code",
   "execution_count": null,
   "metadata": {},
   "outputs": [],
   "source": [
    "connectivity_data[1].shape"
   ]
  },
  {
   "cell_type": "code",
   "execution_count": null,
   "metadata": {},
   "outputs": [],
   "source": [
    "correlation_matrix = connectivity_data[1][0]\n",
    "# Mask the main diagonal for visualization:\n",
    "# np.fill_diagonal(correlation_matrix, 0)\n",
    "plotting.plot_matrix(correlation_matrix)"
   ]
  },
  {
   "cell_type": "code",
   "execution_count": null,
   "metadata": {},
   "outputs": [],
   "source": [
    "connectivity_data[2][0][6,1]"
   ]
  },
  {
   "cell_type": "code",
   "execution_count": null,
   "metadata": {},
   "outputs": [],
   "source": [
    "#Indicate only specific correlation (specific parcells) from the matrix- for each subject\n",
    "specific_parcell_corr = []\n",
    "#print(data[1])\n",
    "for i in range(len(connectivity_data)):\n",
    "    print(i)\n",
    "    print (connectivity_data[i][0][6,1])\n",
    "    specific_parcell_corr.append(connectivity_data[i][0][6,1])"
   ]
  },
  {
   "cell_type": "code",
   "execution_count": null,
   "metadata": {},
   "outputs": [],
   "source": [
    "specific_parcell_corr"
   ]
  },
  {
   "cell_type": "code",
   "execution_count": null,
   "metadata": {},
   "outputs": [],
   "source": [
    "#Reduce to half of the matrix and discrad diagonal\n",
    "vectorized_correlation = connectome.ConnectivityMeasure(kind='correlation',\n",
    "                                                        vectorize=True, discard_diagonal=True)\n",
    "clean_vectorized_correlation = vectorized_correlation.fit_transform([correlation_matrix])[0]\n",
    "clean_vectorized_correlation.shape  # num_nodes*(num_nodes-1)/2"
   ]
  },
  {
   "cell_type": "code",
   "execution_count": null,
   "metadata": {},
   "outputs": [],
   "source": [
    "len(connectivity_data)"
   ]
  },
  {
   "cell_type": "code",
   "execution_count": null,
   "metadata": {},
   "outputs": [],
   "source": [
    "#Reduce to half of the matrix and discrad diagonal - for each subject\n",
    "clean_connectivity_data = []\n",
    "#print(data[1])\n",
    "for i in range(len(connectivity_data)):\n",
    "    print(i)\n",
    "    print (connectivity_data[i])\n",
    "    clean_connectivity_data.append(vectorized_correlation.fit_transform([connectivity_data[i][0]])[0])"
   ]
  },
  {
   "cell_type": "code",
   "execution_count": null,
   "metadata": {},
   "outputs": [],
   "source": [
    "len(clean_connectivity_data)"
   ]
  },
  {
   "cell_type": "code",
   "execution_count": null,
   "metadata": {},
   "outputs": [],
   "source": [
    "clean_connectivity_data[1].shape"
   ]
  },
  {
   "cell_type": "markdown",
   "metadata": {},
   "source": [
    "# Save and load data"
   ]
  },
  {
   "cell_type": "code",
   "execution_count": null,
   "metadata": {},
   "outputs": [],
   "source": [
    "#Save the data to disk\n",
    "np.savez_compressed('features_11Subs',a = clean_connectivity_data)"
   ]
  },
  {
   "cell_type": "code",
   "execution_count": null,
   "metadata": {},
   "outputs": [],
   "source": [
    "#Load data\n",
    "feat_file = 'features_11Subs.npz'\n",
    "X_features = np.load(feat_file)['a']"
   ]
  },
  {
   "cell_type": "code",
   "execution_count": null,
   "metadata": {},
   "outputs": [],
   "source": [
    "X_features.shape"
   ]
  },
  {
   "cell_type": "code",
   "execution_count": null,
   "metadata": {},
   "outputs": [],
   "source": [
    "view = plotting.view_connectome(correlation_matrix, node_coords = coords_forPlot)\n",
    "view"
   ]
  },
  {
   "cell_type": "markdown",
   "metadata": {},
   "source": [
    "# Load behavioral data"
   ]
  },
  {
   "cell_type": "code",
   "execution_count": 11,
   "metadata": {},
   "outputs": [],
   "source": [
    "behavior = pd.read_csv(\"/mnt/c/Users/liz/Contacts/Desktop/course-materials-2020/fMRI_HCP/HCP_behavioralData.csv\")"
   ]
  },
  {
   "cell_type": "code",
   "execution_count": 14,
   "metadata": {},
   "outputs": [
    {
     "data": {
      "text/plain": [
       "['100307',\n",
       " '100408',\n",
       " '101107',\n",
       " '101309',\n",
       " '101915',\n",
       " '103111',\n",
       " '103414',\n",
       " '103818',\n",
       " '105014',\n",
       " '105115',\n",
       " '106016',\n",
       " '108828',\n",
       " '110411',\n",
       " '111312',\n",
       " '111716',\n",
       " '113619',\n",
       " '113922',\n",
       " '114419',\n",
       " '116524',\n",
       " '117122',\n",
       " '118528',\n",
       " '118730',\n",
       " '118932',\n",
       " '122317',\n",
       " '122620',\n",
       " '123117',\n",
       " '123925',\n",
       " '124422',\n",
       " '125525',\n",
       " '126325',\n",
       " '127630',\n",
       " '127933',\n",
       " '128127',\n",
       " '128632',\n",
       " '129028',\n",
       " '130013',\n",
       " '130316',\n",
       " '131217',\n",
       " '131722',\n",
       " '133019',\n",
       " '133928',\n",
       " '135225',\n",
       " '135932',\n",
       " '136833',\n",
       " '138534',\n",
       " '139637',\n",
       " '140925']"
      ]
     },
     "execution_count": 14,
     "metadata": {},
     "output_type": "execute_result"
    }
   ],
   "source": [
    "#subject IDs of the connectome data \n",
    "with open('subID_47.txt', 'r') as f:\n",
    "    subjects_num = json.loads(f.read())\n",
    "    \n",
    "subjects_num"
   ]
  },
  {
   "cell_type": "code",
   "execution_count": 15,
   "metadata": {},
   "outputs": [
    {
     "data": {
      "text/plain": [
       "47"
      ]
     },
     "execution_count": 15,
     "metadata": {},
     "output_type": "execute_result"
    }
   ],
   "source": [
    "len(subjects_num)"
   ]
  },
  {
   "cell_type": "code",
   "execution_count": 16,
   "metadata": {},
   "outputs": [
    {
     "data": {
      "text/plain": [
       "(47, 582)"
      ]
     },
     "execution_count": 16,
     "metadata": {},
     "output_type": "execute_result"
    }
   ],
   "source": [
    "#Take only the connectome subjects from the behavior data\n",
    "behavior_clean = behavior.loc[behavior['Subject'].isin(subjects_num)]\n",
    "behavior_clean.shape"
   ]
  },
  {
   "cell_type": "code",
   "execution_count": 17,
   "metadata": {},
   "outputs": [],
   "source": [
    "Flank_score = behavior_clean['Flanker_AgeAdj']"
   ]
  },
  {
   "cell_type": "code",
   "execution_count": 28,
   "metadata": {},
   "outputs": [
    {
     "data": {
      "text/plain": [
       "2      101.90\n",
       "3      113.51\n",
       "6       96.19\n",
       "8      103.37\n",
       "11      89.10\n",
       "20      94.84\n",
       "22      91.22\n",
       "24      92.26\n",
       "29      86.06\n",
       "30      97.76\n",
       "34     106.40\n",
       "51      96.53\n",
       "56     111.35\n",
       "60     106.47\n",
       "63      91.15\n",
       "72      96.61\n",
       "74     101.84\n",
       "78      92.83\n",
       "91     100.75\n",
       "94     103.89\n",
       "101    103.98\n",
       "102     99.78\n",
       "104    102.39\n",
       "122     97.24\n",
       "125    103.91\n",
       "127    108.92\n",
       "132    113.86\n",
       "135    101.84\n",
       "140     95.46\n",
       "141    113.19\n",
       "147    112.58\n",
       "150    100.65\n",
       "152    107.17\n",
       "154     99.38\n",
       "156     92.99\n",
       "163    100.65\n",
       "165    108.23\n",
       "172    112.10\n",
       "175     95.92\n",
       "181    104.87\n",
       "186     98.49\n",
       "195    109.45\n",
       "200    109.05\n",
       "207    103.31\n",
       "218    108.15\n",
       "222    100.58\n",
       "229     94.55\n",
       "Name: Flanker_AgeAdj, dtype: float64"
      ]
     },
     "execution_count": 28,
     "metadata": {},
     "output_type": "execute_result"
    }
   ],
   "source": [
    "Flank_score"
   ]
  },
  {
   "cell_type": "markdown",
   "metadata": {},
   "source": [
    "# Examine link between specific cortical connection and behavior"
   ]
  },
  {
   "cell_type": "code",
   "execution_count": 18,
   "metadata": {},
   "outputs": [
    {
     "data": {
      "image/png": "[encoded data removed]",
      "text/plain": [
       "<Figure size 432x288 with 1 Axes>"
      ]
     },
     "metadata": {},
     "output_type": "display_data"
    },
    {
     "data": {
      "text/plain": [
       "<AxesSubplot:ylabel='Flanker_AgeAdj'>"
      ]
     },
     "execution_count": 18,
     "metadata": {},
     "output_type": "execute_result"
    },
    {
     "data": {
      "image/png": "[encoded data removed]",
      "text/plain": [
       "<Figure size 432x288 with 1 Axes>"
      ]
     },
     "metadata": {},
     "output_type": "display_data"
    }
   ],
   "source": [
    "import matplotlib\n",
    "import matplotlib.pyplot as plt\n",
    "%matplotlib inline\n",
    "matplotlib.style.use('ggplot')\n",
    "\n",
    "x = specific_parcell_corr\n",
    "y = Flank_score\n",
    "\n",
    "plt.scatter(x, y)\n",
    "plt.show()\n",
    "\n",
    "sns.regplot(x, y)"
   ]
  },
  {
   "cell_type": "code",
   "execution_count": 19,
   "metadata": {},
   "outputs": [
    {
     "data": {
      "text/plain": [
       "(0.03954774927945746, 0.7918352803834595)"
      ]
     },
     "execution_count": 19,
     "metadata": {},
     "output_type": "execute_result"
    }
   ],
   "source": [
    "import scipy as sc\n",
    "from scipy import stats\n",
    "\n",
    "sc.stats.pearsonr(x, y)"
   ]
  },
  {
   "cell_type": "code",
   "execution_count": null,
   "metadata": {},
   "outputs": [],
   "source": []
  }
 ],
 "metadata": {
  "kernelspec": {
   "display_name": "Python 3",
   "language": "python",
   "name": "python3"
  },
  "language_info": {
   "codemirror_mode": {
    "name": "ipython",
    "version": 3
   },
   "file_extension": ".py",
   "mimetype": "text/x-python",
   "name": "python",
   "nbconvert_exporter": "python",
   "pygments_lexer": "ipython3",
   "version": "3.7.8"
  }
 },
 "nbformat": 4,
 "nbformat_minor": 4
}
