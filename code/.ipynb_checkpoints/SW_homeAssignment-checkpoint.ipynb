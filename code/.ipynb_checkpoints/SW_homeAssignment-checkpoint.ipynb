{
 "cells": [
  {
   "cell_type": "markdown",
   "metadata": {},
   "source": [
    "# SimilarWeb: Home Assignement (Liz Izakson)"
   ]
  },
  {
   "cell_type": "code",
   "execution_count": 1,
   "metadata": {},
   "outputs": [],
   "source": [
    "import numpy as np\n",
    "import pandas as pd\n",
    "import matplotlib\n",
    "import matplotlib.pyplot as plt\n",
    "import matplotlib.pylab\n",
    "import seaborn as sns\n",
    "import scipy as sc\n",
    "import datacompy\n",
    "from scipy import stats\n",
    "\n",
    "import sklearn as sk\n",
    "from sklearn.model_selection import train_test_split\n",
    "from sklearn.model_selection import cross_val_predict, cross_val_score\n",
    "from sklearn.metrics import mean_absolute_error\n",
    "from sklearn.linear_model import LinearRegression\n",
    "from sklearn.metrics import r2_score\n",
    "from mlxtend.evaluate import permutation_test"
   ]
  },
  {
   "cell_type": "markdown",
   "metadata": {},
   "source": [
    "### This notebook is seperated into 2 parts:\n",
    "### Part 1- Determine the quality of different data sources:\n",
    "- Understanding the stracture of the dataframe.\n",
    "- Examining the completness and uniqueness of each source.\n",
    "- After, validating that there are no missing value or duplicates in any of the sources, I moved to more specific approaches of comparison between the sources: correlation analysis and distribution comparison.\n",
    "- In summary, source 1 is better than sources 2 and 3 in most of the metrics: it contains more sites from the learning set, its %U/V are highly correlated with the learning set, and the distribution of its top 50 sites are more similar to the distribution of the learning set (cannot reject the null hypothesis). Thus, I chose this source for Part 2.\n",
    "\n",
    "### Part 2- Estimating the number of Percent Unique in each site:\n",
    "- Since I observed in Part 1 that there is a high correlation between the %U of source 1 and the %U of the learning set, I used a simple linear regression with %U of source 1 as a predictor. I was able to predict the %U of the learning set with an R Square of 0.9 and a mean absolute error (MAE) of 3.45e-05.\n",
    "- Most of the errors occured for the lower-valued (lower %U) sites, around the zero.\n",
    "- I also tried to predict the %U for the sites which don't have a representation in source 1, by using source 2 which was the next best source out of the 3 sources according to the metrics which I used in Part 1, using again a simple linear regression.\n",
    "- There was a very small improvement in the prediction ability (R Square of 0.91 and MAE of 3.15e-05), but I assume it might be an davantage to be able to predict the %U of more sites."
   ]
  },
  {
   "cell_type": "markdown",
   "metadata": {},
   "source": [
    "# Part 1: Determine the quality of different data sources"
   ]
  },
  {
   "cell_type": "markdown",
   "metadata": {},
   "source": [
    "Load the data:"
   ]
  },
  {
   "cell_type": "code",
   "execution_count": 2,
   "metadata": {},
   "outputs": [
    {
     "data": {
      "text/html": [
       "<div>\n",
       "<style scoped>\n",
       "    .dataframe tbody tr th:only-of-type {\n",
       "        vertical-align: middle;\n",
       "    }\n",
       "\n",
       "    .dataframe tbody tr th {\n",
       "        vertical-align: top;\n",
       "    }\n",
       "\n",
       "    .dataframe thead th {\n",
       "        text-align: right;\n",
       "    }\n",
       "</style>\n",
       "<table border=\"1\" class=\"dataframe\">\n",
       "  <thead>\n",
       "    <tr style=\"text-align: right;\">\n",
       "      <th></th>\n",
       "      <th>source</th>\n",
       "      <th>site</th>\n",
       "      <th>% U</th>\n",
       "      <th>V</th>\n",
       "    </tr>\n",
       "  </thead>\n",
       "  <tbody>\n",
       "    <tr>\n",
       "      <th>0</th>\n",
       "      <td>0</td>\n",
       "      <td>06880danwoog.com*</td>\n",
       "      <td>3.343111e-06</td>\n",
       "      <td>36280.0</td>\n",
       "    </tr>\n",
       "    <tr>\n",
       "      <th>1</th>\n",
       "      <td>0</td>\n",
       "      <td>0800-horoscope.com*</td>\n",
       "      <td>1.075026e-05</td>\n",
       "      <td>120690.0</td>\n",
       "    </tr>\n",
       "    <tr>\n",
       "      <th>2</th>\n",
       "      <td>0</td>\n",
       "      <td>10000boatnames.com*</td>\n",
       "      <td>5.871362e-07</td>\n",
       "      <td>6858.0</td>\n",
       "    </tr>\n",
       "    <tr>\n",
       "      <th>3</th>\n",
       "      <td>0</td>\n",
       "      <td>100bestvacations.com*</td>\n",
       "      <td>1.516845e-06</td>\n",
       "      <td>12891.0</td>\n",
       "    </tr>\n",
       "    <tr>\n",
       "      <th>4</th>\n",
       "      <td>0</td>\n",
       "      <td>100stuartstreet.com*</td>\n",
       "      <td>1.128228e-06</td>\n",
       "      <td>9758.0</td>\n",
       "    </tr>\n",
       "  </tbody>\n",
       "</table>\n",
       "</div>"
      ],
      "text/plain": [
       "   source                   site           % U         V\n",
       "0       0      06880danwoog.com*  3.343111e-06   36280.0\n",
       "1       0    0800-horoscope.com*  1.075026e-05  120690.0\n",
       "2       0    10000boatnames.com*  5.871362e-07    6858.0\n",
       "3       0  100bestvacations.com*  1.516845e-06   12891.0\n",
       "4       0   100stuartstreet.com*  1.128228e-06    9758.0"
      ]
     },
     "execution_count": 2,
     "metadata": {},
     "output_type": "execute_result"
    }
   ],
   "source": [
    "path_file = \"/mnt/c/Users/liz/Contacts/Desktop/SW_homeAssignment/DQ_Data_b.tsv\"\n",
    "df = pd.read_csv(path_file, sep='\\t', header=0)\n",
    "df.head(5)"
   ]
  },
  {
   "cell_type": "markdown",
   "metadata": {},
   "source": [
    "A general look at the data set:<br/> \n",
    "Also a validation that are no negative values in the data set."
   ]
  },
  {
   "cell_type": "code",
   "execution_count": 3,
   "metadata": {},
   "outputs": [
    {
     "data": {
      "text/html": [
       "<div>\n",
       "<style scoped>\n",
       "    .dataframe tbody tr th:only-of-type {\n",
       "        vertical-align: middle;\n",
       "    }\n",
       "\n",
       "    .dataframe tbody tr th {\n",
       "        vertical-align: top;\n",
       "    }\n",
       "\n",
       "    .dataframe thead th {\n",
       "        text-align: right;\n",
       "    }\n",
       "</style>\n",
       "<table border=\"1\" class=\"dataframe\">\n",
       "  <thead>\n",
       "    <tr style=\"text-align: right;\">\n",
       "      <th></th>\n",
       "      <th>source</th>\n",
       "      <th>% U</th>\n",
       "      <th>V</th>\n",
       "    </tr>\n",
       "  </thead>\n",
       "  <tbody>\n",
       "    <tr>\n",
       "      <th>count</th>\n",
       "      <td>28364.000000</td>\n",
       "      <td>2.836400e+04</td>\n",
       "      <td>2.836400e+04</td>\n",
       "    </tr>\n",
       "    <tr>\n",
       "      <th>mean</th>\n",
       "      <td>1.136723</td>\n",
       "      <td>1.278015e-04</td>\n",
       "      <td>1.337023e+06</td>\n",
       "    </tr>\n",
       "    <tr>\n",
       "      <th>std</th>\n",
       "      <td>1.021121</td>\n",
       "      <td>3.093624e-03</td>\n",
       "      <td>3.460400e+07</td>\n",
       "    </tr>\n",
       "    <tr>\n",
       "      <th>min</th>\n",
       "      <td>0.000000</td>\n",
       "      <td>1.045405e-07</td>\n",
       "      <td>1.020107e+03</td>\n",
       "    </tr>\n",
       "    <tr>\n",
       "      <th>25%</th>\n",
       "      <td>0.000000</td>\n",
       "      <td>2.165681e-06</td>\n",
       "      <td>2.085839e+04</td>\n",
       "    </tr>\n",
       "    <tr>\n",
       "      <th>50%</th>\n",
       "      <td>1.000000</td>\n",
       "      <td>7.001150e-06</td>\n",
       "      <td>6.868358e+04</td>\n",
       "    </tr>\n",
       "    <tr>\n",
       "      <th>75%</th>\n",
       "      <td>2.000000</td>\n",
       "      <td>3.019798e-05</td>\n",
       "      <td>3.009082e+05</td>\n",
       "    </tr>\n",
       "    <tr>\n",
       "      <th>max</th>\n",
       "      <td>3.000000</td>\n",
       "      <td>4.345977e-01</td>\n",
       "      <td>4.872713e+09</td>\n",
       "    </tr>\n",
       "  </tbody>\n",
       "</table>\n",
       "</div>"
      ],
      "text/plain": [
       "             source           % U             V\n",
       "count  28364.000000  2.836400e+04  2.836400e+04\n",
       "mean       1.136723  1.278015e-04  1.337023e+06\n",
       "std        1.021121  3.093624e-03  3.460400e+07\n",
       "min        0.000000  1.045405e-07  1.020107e+03\n",
       "25%        0.000000  2.165681e-06  2.085839e+04\n",
       "50%        1.000000  7.001150e-06  6.868358e+04\n",
       "75%        2.000000  3.019798e-05  3.009082e+05\n",
       "max        3.000000  4.345977e-01  4.872713e+09"
      ]
     },
     "execution_count": 3,
     "metadata": {},
     "output_type": "execute_result"
    }
   ],
   "source": [
    "df.describe()"
   ]
  },
  {
   "cell_type": "markdown",
   "metadata": {},
   "source": [
    "Examine the completeness of the data- are there any missing values. There are none. If there were any missing values, my next step would be to identify how much missing values there are in each external source."
   ]
  },
  {
   "cell_type": "code",
   "execution_count": 4,
   "metadata": {},
   "outputs": [
    {
     "name": "stdout",
     "output_type": "stream",
     "text": [
      "<class 'pandas.core.frame.DataFrame'>\n",
      "RangeIndex: 28364 entries, 0 to 28363\n",
      "Data columns (total 4 columns):\n",
      " #   Column  Non-Null Count  Dtype  \n",
      "---  ------  --------------  -----  \n",
      " 0   source  28364 non-null  int64  \n",
      " 1   site    28364 non-null  object \n",
      " 2   % U     28364 non-null  float64\n",
      " 3   V       28364 non-null  float64\n",
      "dtypes: float64(2), int64(1), object(1)\n",
      "memory usage: 886.5+ KB\n"
     ]
    }
   ],
   "source": [
    "df.info()"
   ]
  },
  {
   "cell_type": "markdown",
   "metadata": {},
   "source": [
    "Divide the dataframe into 4 different dfs according to source type, so it would be easier to use certain methods (e.g., df.duplicated, datacompy.Compare) to compare between the sources."
   ]
  },
  {
   "cell_type": "code",
   "execution_count": 5,
   "metadata": {},
   "outputs": [
    {
     "data": {
      "text/plain": [
       "{0:       source                   site           % U          V\n",
       " 0          0      06880danwoog.com*  3.343111e-06    36280.0\n",
       " 1          0    0800-horoscope.com*  1.075026e-05   120690.0\n",
       " 2          0    10000boatnames.com*  5.871362e-07     6858.0\n",
       " 3          0  100bestvacations.com*  1.516845e-06    12891.0\n",
       " 4          0   100stuartstreet.com*  1.128228e-06     9758.0\n",
       " ...      ...                    ...           ...        ...\n",
       " 9694       0      zurinstitute.com*  3.216422e-06    28788.0\n",
       " 9695       0            zvents.com*  9.387970e-05   740008.0\n",
       " 9696       0              zx6r.com*  4.094824e-06    57444.0\n",
       " 9697       0             zybez.net*  7.628508e-05  1237033.0\n",
       " 9698       0         zzinsider.com*  3.387709e-06    32145.0\n",
       " \n",
       " [9699 rows x 4 columns],\n",
       " 1:        source                   site           % U             V\n",
       " 9699        1      06880danwoog.com*  5.064813e-06  7.450894e+04\n",
       " 9700        1    0800-horoscope.com*  7.976695e-06  8.851447e+04\n",
       " 9701        1    10000boatnames.com*  7.662127e-07  7.476707e+03\n",
       " 9702        1  100bestvacations.com*  1.083000e-06  1.056819e+04\n",
       " 9703        1   100stuartstreet.com*  1.919115e-06  1.872674e+04\n",
       " ...       ...                    ...           ...           ...\n",
       " 18196       1      zurinstitute.com*  4.737790e-06  4.846192e+04\n",
       " 18197       1            zvents.com*  1.431665e-04  1.444088e+06\n",
       " 18198       1              zx6r.com*  4.790944e-06  4.675006e+04\n",
       " 18199       1             zybez.net*  1.081722e-04  1.474000e+06\n",
       " 18200       1         zzinsider.com*  3.516442e-06  3.431345e+04\n",
       " \n",
       " [8502 rows x 4 columns],\n",
       " 2:        source                 site           % U             V\n",
       " 18201       2    06880danwoog.com*  8.672000e-06  7.752445e+04\n",
       " 18202       2  0800-horoscope.com*  1.928600e-05  1.724088e+05\n",
       " 18203       2       1015store.com*  4.035164e-05  3.607274e+05\n",
       " 18204       2          101kgb.com*  1.440644e-05  1.287878e+05\n",
       " 18205       2      101science.com*  6.500000e-07  5.810537e+03\n",
       " ...       ...                  ...           ...           ...\n",
       " 24945       2            ztgd.com*  2.039424e-06  1.823163e+04\n",
       " 24946       2          zvents.com*  8.486724e-05  7.973462e+05\n",
       " 24947       2            zx6r.com*  8.230597e-06  7.357822e+04\n",
       " 24948       2           zybez.net*  1.244973e-04  1.326869e+06\n",
       " 24949       2       zzinsider.com*  1.021055e-05  1.095219e+05\n",
       " \n",
       " [6749 rows x 4 columns],\n",
       " 3:        source                 site           % U              V\n",
       " 24950       3  0800-horoscope.com*  8.793715e-06   74442.341462\n",
       " 24951       3       1015store.com*  1.348858e-05  129225.542762\n",
       " 24952       3          101kgb.com*  1.299100e-05  109974.414664\n",
       " 24953       3      101science.com*  8.284027e-07    7012.763234\n",
       " 24954       3      1035kissfm.com*  1.373429e-05  116266.284138\n",
       " ...       ...                  ...           ...            ...\n",
       " 28359       3      zonebourse.com*  1.156759e-06   11197.604024\n",
       " 28360       3         zoochat.com*  3.372321e-06   28548.056223\n",
       " 28361       3          zvents.com*  8.083042e-05  684262.095167\n",
       " 28362       3           zybez.net*  9.802633e-05  923140.202379\n",
       " 28363       3       zzinsider.com*  1.880178e-06   15916.468103\n",
       " \n",
       " [3414 rows x 4 columns]}"
      ]
     },
     "execution_count": 5,
     "metadata": {},
     "output_type": "execute_result"
    }
   ],
   "source": [
    "source_types = df.source.unique()\n",
    "\n",
    "df_dict = {}\n",
    "for source_type in source_types:\n",
    "    df_dict[source_type] = df[df['source'] == source_type]  \n",
    "\n",
    "df_dict"
   ]
  },
  {
   "cell_type": "markdown",
   "metadata": {},
   "source": [
    "Next, I examined the uniqueness of each source - if there are any duplicates. There are no duplicates (no site was repeated twice for each source). If there were any duplicates (inside a source), I would remove them."
   ]
  },
  {
   "cell_type": "code",
   "execution_count": 6,
   "metadata": {},
   "outputs": [
    {
     "data": {
      "text/plain": [
       "{0: 0, 1: 0, 2: 0, 3: 0}"
      ]
     },
     "execution_count": 6,
     "metadata": {},
     "output_type": "execute_result"
    }
   ],
   "source": [
    "#Search for duplicates in each df\n",
    "num_duplicates = {}\n",
    "\n",
    "for df_key in df_dict.keys():\n",
    "    num_duplicates[df_key] = np.count_nonzero(df_dict[df_key].duplicated(subset=['site']))\n",
    "num_duplicates"
   ]
  },
  {
   "cell_type": "markdown",
   "metadata": {},
   "source": [
    "As a first comparison step, I used the datacompy package to comapre between each of the external sources and the learning set. Specifically, I wanted to examine if there are any sites which appear in an external source but not in the learning set.<br/>\n",
    "I left only the print of the first comparison (source 1 and the learning set), so it would be easier to read the notebook.<br/>\n",
    "I compared these two dfs by the \"site\" column, and got: \"Number of rows in common: 8,502\" which is exactly the length of source 1. This means that source 1 is comprised of a smaller amount of the same sits as the learning set. This is true to sources 2 and 3 as well.<br/>\n",
    "Therefore, one metric of an external source quality is the size: source 1 is the largest and the closest to source 0 in its size, while source 3 is the smallest and thus the most different in that aspect."
   ]
  },
  {
   "cell_type": "code",
   "execution_count": 7,
   "metadata": {},
   "outputs": [
    {
     "name": "stdout",
     "output_type": "stream",
     "text": [
      "DataComPy Comparison\n",
      "--------------------\n",
      "\n",
      "DataFrame Summary\n",
      "-----------------\n",
      "\n",
      "   DataFrame  Columns  Rows\n",
      "0   Learning        4  9699\n",
      "1  External1        4  8502\n",
      "\n",
      "Column Summary\n",
      "--------------\n",
      "\n",
      "Number of columns in common: 4\n",
      "Number of columns in Learning but not in External1: 0\n",
      "Number of columns in External1 but not in Learning: 0\n",
      "\n",
      "Row Summary\n",
      "-----------\n",
      "\n",
      "Matched on: site\n",
      "Any duplicates on match values: No\n",
      "Absolute Tolerance: 0\n",
      "Relative Tolerance: 0\n",
      "Number of rows in common: 8,502\n",
      "Number of rows in Learning but not in External1: 1,197\n",
      "Number of rows in External1 but not in Learning: 0\n",
      "\n",
      "Number of rows with some compared columns unequal: 8,502\n",
      "Number of rows with all compared columns equal: 0\n",
      "\n",
      "Column Comparison\n",
      "-----------------\n",
      "\n",
      "Number of columns compared with some values unequal: 3\n",
      "Number of columns compared with all values equal: 1\n",
      "Total number of values which compare unequal: 25,502\n",
      "\n",
      "Columns with Unequal Values or Types\n",
      "------------------------------------\n",
      "\n",
      "   Column Learning dtype External1 dtype  # Unequal      Max Diff  # Null Diff\n",
      "2     % u        float64         float64       8498  1.227518e-02            0\n",
      "1  source          int64           int64       8502  1.000000e+00            0\n",
      "0       v        float64         float64       8502  1.387694e+08            0\n",
      "\n",
      "Sample Rows with Unequal Values\n",
      "-------------------------------\n",
      "\n",
      "                           site  v (Learning)  v (External1)\n",
      "1721             clintonnc.com*       31800.0   5.716035e+04\n",
      "4738                  kdge.com*       57475.0   4.412605e+04\n",
      "8228  thecurrentconscience.com*       15839.0   3.418386e+04\n",
      "4019      havahartwireless.com*       20712.0   1.772002e+04\n",
      "4027         hawaiinewsnow.com*     1157440.0   5.122896e+05\n",
      "2783          erinerickson.com*       11642.0   3.204250e+03\n",
      "5700           motomatters.com*       69233.0   9.582404e+04\n",
      "1892      contracostatimes.com*      519759.0   7.375438e+05\n",
      "1303    businessdictionary.com*      851635.0   1.454578e+06\n",
      "1148          bostonbyfoot.org*       15995.0   1.894717e+04\n",
      "\n",
      "                            site  source (Learning)  source (External1)\n",
      "7245                 sarducd.it*                  0                 1.0\n",
      "3362               fundmojo.com*                  0                 1.0\n",
      "1137              bookdaily.com*                  0                 1.0\n",
      "1260  bubblynaturecreations.com*                  0                 1.0\n",
      "964                 big1059.com*                  0                 1.0\n",
      "4519                irarott.com*                  0                 1.0\n",
      "278                aidsmeds.com*                  0                 1.0\n",
      "2008                  crhoy.com*                  0                 1.0\n",
      "34               123newyear.com*                  0                 1.0\n",
      "9279                 whisky.com*                  0                 1.0\n",
      "\n",
      "                              site  % u (Learning)  % u (External1)\n",
      "5128                   listal.com*    1.129546e-04     9.657617e-05\n",
      "3551               getcadjobs.com*    2.819122e-06     2.861409e-06\n",
      "7089  ripvanwinklecampgrounds.com*    4.587371e-07     1.289051e-07\n",
      "3556         getchristianjobs.com*    2.161077e-06     2.984447e-06\n",
      "3526      generalaviationnews.com*    6.343518e-06     5.867754e-06\n",
      "706                    avjobs.com*    2.350387e-06     1.783943e-06\n",
      "6263       openlettersmonthly.com*    8.415663e-07     9.989391e-07\n",
      "6569              playersview.net*    2.116216e-06     8.718811e-07\n",
      "7557              slapdashmom.com*    2.903318e-06     1.463272e-06\n",
      "6718              primalgrill.org*    1.395419e-06     2.299650e-06\n",
      "\n",
      "Sample Rows Only in Learning (First 10 Columns)\n",
      "-----------------------------------------------\n",
      "\n",
      "      source                      site           % u        v\n",
      "3190       0        foodlogistics.com*  1.001276e-06  10389.0\n",
      "1668       0             cityowls.com*  3.370738e-06  28752.0\n",
      "2367       0      dinnerwithjulie.com*  2.215673e-06  19758.0\n",
      "6272       0          order-order.com*  2.202000e-06  22818.0\n",
      "111        0                  800.com*  1.241000e-06  13864.0\n",
      "181        0              abqtalk.com*  6.388379e-07   6217.0\n",
      "6014       0              nextbio.com*  5.295145e-07   6643.0\n",
      "5770       0  musingsofahousewife.com*  5.209370e-06  45174.0\n",
      "1760       0       cocoonseyewear.com*  8.632731e-07   9983.0\n",
      "3088       0          first2board.com*  8.017047e-07   9161.0\n",
      "\n",
      "\n"
     ]
    }
   ],
   "source": [
    "df1 = df_dict[0]\n",
    "df2 = df_dict[1]\n",
    "compare = datacompy.Compare(\n",
    "df1,\n",
    "df2,\n",
    "join_columns='site',\n",
    "abs_tol=0,\n",
    "rel_tol=0, \n",
    "df1_name='Learning', \n",
    "df2_name='External1' \n",
    ")\n",
    "print(compare.report())"
   ]
  },
  {
   "cell_type": "code",
   "execution_count": 8,
   "metadata": {},
   "outputs": [],
   "source": [
    "df1 = df_dict[0]\n",
    "df2 = df_dict[2]\n",
    "compare = datacompy.Compare(\n",
    "df1,\n",
    "df2,\n",
    "join_columns='site',\n",
    "abs_tol=0, \n",
    "rel_tol=0, \n",
    "df1_name='Learning', \n",
    "df2_name='External2' \n",
    ")\n",
    "#print(compare.report())"
   ]
  },
  {
   "cell_type": "code",
   "execution_count": 9,
   "metadata": {},
   "outputs": [],
   "source": [
    "df1 = df_dict[0]\n",
    "df2 = df_dict[3]\n",
    "compare = datacompy.Compare(\n",
    "df1,\n",
    "df2,\n",
    "join_columns='site',\n",
    "abs_tol=0, \n",
    "rel_tol=0,\n",
    "df1_name='Learning', \n",
    "df2_name='External3' \n",
    ")\n",
    "#print(compare.report())"
   ]
  },
  {
   "cell_type": "markdown",
   "metadata": {},
   "source": [
    "Another metric is the order of the sites according to % U and V: does the sorting of the n highest sites (according to U% or V) would yield the same order of sites as in the learning set?<br/>\n",
    "After sorting each of the sources according to %U/V, I compared the order of the top n sites of each external source to the learning set. I tried several different Ns (20/50/100/1000) to examine if this would yield any difference. I concluded that there is more or less the same difference between the order of the sites according to %U/V between each of the external sets and the learning set in each of the Ns that I tried."
   ]
  },
  {
   "cell_type": "code",
   "execution_count": 10,
   "metadata": {},
   "outputs": [],
   "source": [
    "def site_compare(df_dict, var, num_lines = 2000):\n",
    "    #Sort df according to var\n",
    "    for key in df_dict.keys():\n",
    "        df_dict[key] =  df_dict[key].sort_values(by=[var], ascending=False,  ignore_index=True)\n",
    "    #concatenate the sites' names of each df\n",
    "    df_con = pd.concat([df_dict[0][\"site\"].head(num_lines), df_dict[1][\"site\"].head(num_lines), df_dict[2][\"site\"].head(num_lines), df_dict[3][\"site\"].head(num_lines)],axis = 1)\n",
    "    #new column names\n",
    "    df_con.columns = ['site0', 'site1', 'site2', 'site3']\n",
    "    #compare the sites\n",
    "    compare_sites = []\n",
    "    for col in df_con.columns:\n",
    "        res_temp = np.where(df_con['site0'] != df_con[col])\n",
    "        res = np.count_nonzero(res_temp)\n",
    "        compare_sites.append(res)\n",
    "    return compare_sites"
   ]
  },
  {
   "cell_type": "code",
   "execution_count": 11,
   "metadata": {},
   "outputs": [
    {
     "data": {
      "text/plain": [
       "{'% u': {20: [0, 18, 15, 17],\n",
       "  50: [0, 48, 45, 46],\n",
       "  100: [0, 97, 95, 96],\n",
       "  1000: [0, 991, 995, 992]},\n",
       " 'v': {20: [0, 18, 17, 18],\n",
       "  50: [0, 48, 47, 47],\n",
       "  100: [0, 97, 96, 97],\n",
       "  1000: [0, 996, 994, 993]}}"
      ]
     },
     "execution_count": 11,
     "metadata": {},
     "output_type": "execute_result"
    }
   ],
   "source": [
    "vars = ['% u', 'v']\n",
    "num_lines = [20, 50, 100, 1000]\n",
    "compare_sites_U = {}\n",
    "for var in vars:\n",
    "    compare_sites_U[var] = {}\n",
    "    for num_line in num_lines:\n",
    "        compare_sites_U[var][num_line] = site_compare(df_dict, var = var, num_lines = num_line)\n",
    "    \n",
    "compare_sites_U "
   ]
  },
  {
   "cell_type": "markdown",
   "metadata": {},
   "source": [
    "Another metric is the correlation between the U%/V of the learning set and each of the external sets. For this metric, I would want all the info to be organized per site."
   ]
  },
  {
   "cell_type": "code",
   "execution_count": 12,
   "metadata": {},
   "outputs": [
    {
     "data": {
      "text/html": [
       "<div>\n",
       "<style scoped>\n",
       "    .dataframe tbody tr th:only-of-type {\n",
       "        vertical-align: middle;\n",
       "    }\n",
       "\n",
       "    .dataframe tbody tr th {\n",
       "        vertical-align: top;\n",
       "    }\n",
       "\n",
       "    .dataframe thead th {\n",
       "        text-align: right;\n",
       "    }\n",
       "</style>\n",
       "<table border=\"1\" class=\"dataframe\">\n",
       "  <thead>\n",
       "    <tr style=\"text-align: right;\">\n",
       "      <th></th>\n",
       "      <th>source</th>\n",
       "      <th>site</th>\n",
       "      <th>% U</th>\n",
       "      <th>V</th>\n",
       "      <th>sources</th>\n",
       "    </tr>\n",
       "  </thead>\n",
       "  <tbody>\n",
       "    <tr>\n",
       "      <th>0</th>\n",
       "      <td>0</td>\n",
       "      <td>06880danwoog.com*</td>\n",
       "      <td>3.343111e-06</td>\n",
       "      <td>36280.0</td>\n",
       "      <td>0 1 2</td>\n",
       "    </tr>\n",
       "    <tr>\n",
       "      <th>1</th>\n",
       "      <td>0</td>\n",
       "      <td>0800-horoscope.com*</td>\n",
       "      <td>1.075026e-05</td>\n",
       "      <td>120690.0</td>\n",
       "      <td>0 1 2 3</td>\n",
       "    </tr>\n",
       "    <tr>\n",
       "      <th>2</th>\n",
       "      <td>0</td>\n",
       "      <td>10000boatnames.com*</td>\n",
       "      <td>5.871362e-07</td>\n",
       "      <td>6858.0</td>\n",
       "      <td>0 1</td>\n",
       "    </tr>\n",
       "    <tr>\n",
       "      <th>3</th>\n",
       "      <td>0</td>\n",
       "      <td>100bestvacations.com*</td>\n",
       "      <td>1.516845e-06</td>\n",
       "      <td>12891.0</td>\n",
       "      <td>0 1</td>\n",
       "    </tr>\n",
       "    <tr>\n",
       "      <th>4</th>\n",
       "      <td>0</td>\n",
       "      <td>100stuartstreet.com*</td>\n",
       "      <td>1.128228e-06</td>\n",
       "      <td>9758.0</td>\n",
       "      <td>0 1</td>\n",
       "    </tr>\n",
       "  </tbody>\n",
       "</table>\n",
       "</div>"
      ],
      "text/plain": [
       "   source                   site           % U         V  sources\n",
       "0       0      06880danwoog.com*  3.343111e-06   36280.0    0 1 2\n",
       "1       0    0800-horoscope.com*  1.075026e-05  120690.0  0 1 2 3\n",
       "2       0    10000boatnames.com*  5.871362e-07    6858.0      0 1\n",
       "3       0  100bestvacations.com*  1.516845e-06   12891.0      0 1\n",
       "4       0   100stuartstreet.com*  1.128228e-06    9758.0      0 1"
      ]
     },
     "execution_count": 12,
     "metadata": {},
     "output_type": "execute_result"
    }
   ],
   "source": [
    "#Add a column of all the sources in which the site apears in\n",
    "df['sources'] = df.groupby('site')['source'].transform(lambda x: str(x.values)[1:-1])\n",
    "\n",
    "df.head(5)"
   ]
  },
  {
   "cell_type": "code",
   "execution_count": 13,
   "metadata": {},
   "outputs": [],
   "source": [
    "def fill_data_per_source(row, col_name, src):\n",
    "    if str(row[\"source\"]) != src:\n",
    "        return np.nan\n",
    "    return row[col_name]"
   ]
  },
  {
   "cell_type": "code",
   "execution_count": 14,
   "metadata": {},
   "outputs": [
    {
     "data": {
      "text/html": [
       "<div>\n",
       "<style scoped>\n",
       "    .dataframe tbody tr th:only-of-type {\n",
       "        vertical-align: middle;\n",
       "    }\n",
       "\n",
       "    .dataframe tbody tr th {\n",
       "        vertical-align: top;\n",
       "    }\n",
       "\n",
       "    .dataframe thead th {\n",
       "        text-align: right;\n",
       "    }\n",
       "</style>\n",
       "<table border=\"1\" class=\"dataframe\">\n",
       "  <thead>\n",
       "    <tr style=\"text-align: right;\">\n",
       "      <th></th>\n",
       "      <th>source</th>\n",
       "      <th>site</th>\n",
       "      <th>% U</th>\n",
       "      <th>V</th>\n",
       "      <th>sources</th>\n",
       "      <th>source0%U</th>\n",
       "      <th>source0V</th>\n",
       "      <th>source1%U</th>\n",
       "      <th>source1V</th>\n",
       "      <th>source2%U</th>\n",
       "      <th>source2V</th>\n",
       "      <th>source3%U</th>\n",
       "      <th>source3V</th>\n",
       "    </tr>\n",
       "  </thead>\n",
       "  <tbody>\n",
       "    <tr>\n",
       "      <th>0</th>\n",
       "      <td>0</td>\n",
       "      <td>06880danwoog.com*</td>\n",
       "      <td>3.343111e-06</td>\n",
       "      <td>36280.0</td>\n",
       "      <td>0 1 2</td>\n",
       "      <td>3.343111e-06</td>\n",
       "      <td>36280.0</td>\n",
       "      <td>NaN</td>\n",
       "      <td>NaN</td>\n",
       "      <td>NaN</td>\n",
       "      <td>NaN</td>\n",
       "      <td>NaN</td>\n",
       "      <td>NaN</td>\n",
       "    </tr>\n",
       "    <tr>\n",
       "      <th>1</th>\n",
       "      <td>0</td>\n",
       "      <td>0800-horoscope.com*</td>\n",
       "      <td>1.075026e-05</td>\n",
       "      <td>120690.0</td>\n",
       "      <td>0 1 2 3</td>\n",
       "      <td>1.075026e-05</td>\n",
       "      <td>120690.0</td>\n",
       "      <td>NaN</td>\n",
       "      <td>NaN</td>\n",
       "      <td>NaN</td>\n",
       "      <td>NaN</td>\n",
       "      <td>NaN</td>\n",
       "      <td>NaN</td>\n",
       "    </tr>\n",
       "    <tr>\n",
       "      <th>2</th>\n",
       "      <td>0</td>\n",
       "      <td>10000boatnames.com*</td>\n",
       "      <td>5.871362e-07</td>\n",
       "      <td>6858.0</td>\n",
       "      <td>0 1</td>\n",
       "      <td>5.871362e-07</td>\n",
       "      <td>6858.0</td>\n",
       "      <td>NaN</td>\n",
       "      <td>NaN</td>\n",
       "      <td>NaN</td>\n",
       "      <td>NaN</td>\n",
       "      <td>NaN</td>\n",
       "      <td>NaN</td>\n",
       "    </tr>\n",
       "    <tr>\n",
       "      <th>3</th>\n",
       "      <td>0</td>\n",
       "      <td>100bestvacations.com*</td>\n",
       "      <td>1.516845e-06</td>\n",
       "      <td>12891.0</td>\n",
       "      <td>0 1</td>\n",
       "      <td>1.516845e-06</td>\n",
       "      <td>12891.0</td>\n",
       "      <td>NaN</td>\n",
       "      <td>NaN</td>\n",
       "      <td>NaN</td>\n",
       "      <td>NaN</td>\n",
       "      <td>NaN</td>\n",
       "      <td>NaN</td>\n",
       "    </tr>\n",
       "    <tr>\n",
       "      <th>4</th>\n",
       "      <td>0</td>\n",
       "      <td>100stuartstreet.com*</td>\n",
       "      <td>1.128228e-06</td>\n",
       "      <td>9758.0</td>\n",
       "      <td>0 1</td>\n",
       "      <td>1.128228e-06</td>\n",
       "      <td>9758.0</td>\n",
       "      <td>NaN</td>\n",
       "      <td>NaN</td>\n",
       "      <td>NaN</td>\n",
       "      <td>NaN</td>\n",
       "      <td>NaN</td>\n",
       "      <td>NaN</td>\n",
       "    </tr>\n",
       "  </tbody>\n",
       "</table>\n",
       "</div>"
      ],
      "text/plain": [
       "   source                   site           % U         V  sources  \\\n",
       "0       0      06880danwoog.com*  3.343111e-06   36280.0    0 1 2   \n",
       "1       0    0800-horoscope.com*  1.075026e-05  120690.0  0 1 2 3   \n",
       "2       0    10000boatnames.com*  5.871362e-07    6858.0      0 1   \n",
       "3       0  100bestvacations.com*  1.516845e-06   12891.0      0 1   \n",
       "4       0   100stuartstreet.com*  1.128228e-06    9758.0      0 1   \n",
       "\n",
       "      source0%U  source0V  source1%U  source1V  source2%U  source2V  \\\n",
       "0  3.343111e-06   36280.0        NaN       NaN        NaN       NaN   \n",
       "1  1.075026e-05  120690.0        NaN       NaN        NaN       NaN   \n",
       "2  5.871362e-07    6858.0        NaN       NaN        NaN       NaN   \n",
       "3  1.516845e-06   12891.0        NaN       NaN        NaN       NaN   \n",
       "4  1.128228e-06    9758.0        NaN       NaN        NaN       NaN   \n",
       "\n",
       "   source3%U  source3V  \n",
       "0        NaN       NaN  \n",
       "1        NaN       NaN  \n",
       "2        NaN       NaN  \n",
       "3        NaN       NaN  \n",
       "4        NaN       NaN  "
      ]
     },
     "execution_count": 14,
     "metadata": {},
     "output_type": "execute_result"
    }
   ],
   "source": [
    "#Add columns of u% and v per source for each site\n",
    "for source in df.source.unique():\n",
    "    df['source'+str(source)+'%U'] = df.apply(lambda x: fill_data_per_source(x, \"% U\",str(source)), axis=1)\n",
    "    df['source'+str(source)+'V'] = df.apply(lambda x: fill_data_per_source(x,\"V\",str(source)),axis=1)\n",
    "     \n",
    "df.head(5)"
   ]
  },
  {
   "cell_type": "code",
   "execution_count": 15,
   "metadata": {},
   "outputs": [
    {
     "data": {
      "text/html": [
       "<div>\n",
       "<style scoped>\n",
       "    .dataframe tbody tr th:only-of-type {\n",
       "        vertical-align: middle;\n",
       "    }\n",
       "\n",
       "    .dataframe tbody tr th {\n",
       "        vertical-align: top;\n",
       "    }\n",
       "\n",
       "    .dataframe thead th {\n",
       "        text-align: right;\n",
       "    }\n",
       "</style>\n",
       "<table border=\"1\" class=\"dataframe\">\n",
       "  <thead>\n",
       "    <tr style=\"text-align: right;\">\n",
       "      <th></th>\n",
       "      <th>site</th>\n",
       "      <th>sources</th>\n",
       "      <th>source0%U</th>\n",
       "      <th>source0V</th>\n",
       "      <th>source1%U</th>\n",
       "      <th>source1V</th>\n",
       "      <th>source2%U</th>\n",
       "      <th>source2V</th>\n",
       "      <th>source3%U</th>\n",
       "      <th>source3V</th>\n",
       "    </tr>\n",
       "  </thead>\n",
       "  <tbody>\n",
       "    <tr>\n",
       "      <th>0</th>\n",
       "      <td>06880danwoog.com*</td>\n",
       "      <td>0 1 2</td>\n",
       "      <td>3.343111e-06</td>\n",
       "      <td>36280.0</td>\n",
       "      <td>5.064813e-06</td>\n",
       "      <td>74508.941669</td>\n",
       "      <td>0.000009</td>\n",
       "      <td>77524.450603</td>\n",
       "      <td>NaN</td>\n",
       "      <td>NaN</td>\n",
       "    </tr>\n",
       "    <tr>\n",
       "      <th>1</th>\n",
       "      <td>0800-horoscope.com*</td>\n",
       "      <td>0 1 2 3</td>\n",
       "      <td>1.075026e-05</td>\n",
       "      <td>120690.0</td>\n",
       "      <td>7.976695e-06</td>\n",
       "      <td>88514.470580</td>\n",
       "      <td>0.000019</td>\n",
       "      <td>172408.795295</td>\n",
       "      <td>0.000009</td>\n",
       "      <td>74442.341462</td>\n",
       "    </tr>\n",
       "    <tr>\n",
       "      <th>2</th>\n",
       "      <td>10000boatnames.com*</td>\n",
       "      <td>0 1</td>\n",
       "      <td>5.871362e-07</td>\n",
       "      <td>6858.0</td>\n",
       "      <td>7.662127e-07</td>\n",
       "      <td>7476.707418</td>\n",
       "      <td>NaN</td>\n",
       "      <td>NaN</td>\n",
       "      <td>NaN</td>\n",
       "      <td>NaN</td>\n",
       "    </tr>\n",
       "    <tr>\n",
       "      <th>3</th>\n",
       "      <td>100bestvacations.com*</td>\n",
       "      <td>0 1</td>\n",
       "      <td>1.516845e-06</td>\n",
       "      <td>12891.0</td>\n",
       "      <td>1.083000e-06</td>\n",
       "      <td>10568.187418</td>\n",
       "      <td>NaN</td>\n",
       "      <td>NaN</td>\n",
       "      <td>NaN</td>\n",
       "      <td>NaN</td>\n",
       "    </tr>\n",
       "    <tr>\n",
       "      <th>4</th>\n",
       "      <td>100stuartstreet.com*</td>\n",
       "      <td>0 1</td>\n",
       "      <td>1.128228e-06</td>\n",
       "      <td>9758.0</td>\n",
       "      <td>1.919115e-06</td>\n",
       "      <td>18726.735369</td>\n",
       "      <td>NaN</td>\n",
       "      <td>NaN</td>\n",
       "      <td>NaN</td>\n",
       "      <td>NaN</td>\n",
       "    </tr>\n",
       "  </tbody>\n",
       "</table>\n",
       "</div>"
      ],
      "text/plain": [
       "                    site  sources     source0%U  source0V     source1%U  \\\n",
       "0      06880danwoog.com*    0 1 2  3.343111e-06   36280.0  5.064813e-06   \n",
       "1    0800-horoscope.com*  0 1 2 3  1.075026e-05  120690.0  7.976695e-06   \n",
       "2    10000boatnames.com*      0 1  5.871362e-07    6858.0  7.662127e-07   \n",
       "3  100bestvacations.com*      0 1  1.516845e-06   12891.0  1.083000e-06   \n",
       "4   100stuartstreet.com*      0 1  1.128228e-06    9758.0  1.919115e-06   \n",
       "\n",
       "       source1V  source2%U       source2V  source3%U      source3V  \n",
       "0  74508.941669   0.000009   77524.450603        NaN           NaN  \n",
       "1  88514.470580   0.000019  172408.795295   0.000009  74442.341462  \n",
       "2   7476.707418        NaN            NaN        NaN           NaN  \n",
       "3  10568.187418        NaN            NaN        NaN           NaN  \n",
       "4  18726.735369        NaN            NaN        NaN           NaN  "
      ]
     },
     "execution_count": 15,
     "metadata": {},
     "output_type": "execute_result"
    }
   ],
   "source": [
    "#Arrange the new df\n",
    "newdf = df.groupby(\"site\").first().reset_index()\n",
    "newdf = newdf[[\"site\", \"sources\", \"source0%U\", \"source0V\", \"source1%U\", \"source1V\", \"source2%U\", \"source2V\", \"source3%U\", \"source3V\"]]\n",
    "newdf.head(5)"
   ]
  },
  {
   "cell_type": "markdown",
   "metadata": {},
   "source": [
    "After creating this df, I wanted to examine if there are any difference in %U/V of the sites which are represented in the different sources. Thus, I drew the following graph:"
   ]
  },
  {
   "cell_type": "code",
   "execution_count": 16,
   "metadata": {},
   "outputs": [
    {
     "data": {
      "text/plain": [
       "<seaborn.axisgrid.FacetGrid at 0x7f176555e0d0>"
      ]
     },
     "execution_count": 16,
     "metadata": {},
     "output_type": "execute_result"
    },
    {
     "data": {
      "image/png": "[encoded data removed]",
      "text/plain": [
       "<Figure size 425.86x216 with 1 Axes>"
      ]
     },
     "metadata": {},
     "output_type": "display_data"
    }
   ],
   "source": [
    "sns.set(style='ticks')\n",
    "\n",
    "fg = sns.FacetGrid(data=newdf, hue='sources', aspect=1.61)\n",
    "fg.map(plt.scatter, 'source0%U', 'source0V').add_legend()"
   ]
  },
  {
   "cell_type": "markdown",
   "metadata": {},
   "source": [
    "From this graph, I observed a few things:\n",
    "1. There is a high correlation between V and %U in the learning set. \n",
    "2. There are only a few sites with relatively high values of %U/V.\n",
    "3. The sites which have representation in all the sources have a much wider spread across %U/V in comparison with the sites which have representation only in few of the sources.\n",
    "4. The sites with the higher value of %U/V have representation in each of the sources, while the sites which are represented only in some of the sources are sites with relatively small values of %U/V."
   ]
  },
  {
   "cell_type": "markdown",
   "metadata": {},
   "source": [
    "## Correlation analysis"
   ]
  },
  {
   "cell_type": "markdown",
   "metadata": {},
   "source": [
    "A first glimpse to the correlation between two specific variables:"
   ]
  },
  {
   "cell_type": "code",
   "execution_count": 17,
   "metadata": {},
   "outputs": [
    {
     "data": {
      "text/plain": [
       "<AxesSubplot:xlabel='source1V', ylabel='source0%U'>"
      ]
     },
     "execution_count": 17,
     "metadata": {},
     "output_type": "execute_result"
    },
    {
     "data": {
      "image/png": "[encoded data removed]",
      "text/plain": [
       "<Figure size 432x288 with 1 Axes>"
      ]
     },
     "metadata": {},
     "output_type": "display_data"
    }
   ],
   "source": [
    "#Correlation between variables\n",
    "%matplotlib inline\n",
    "matplotlib.style.use('ggplot')\n",
    "\n",
    "x = newdf['source1V']\n",
    "y = newdf['source0%U']\n",
    "\n",
    "sns.regplot(x, y)"
   ]
  },
  {
   "cell_type": "markdown",
   "metadata": {},
   "source": [
    "To examine, the correlation between all the variables of interest, I used a correlation matrix:"
   ]
  },
  {
   "cell_type": "code",
   "execution_count": 18,
   "metadata": {},
   "outputs": [
    {
     "name": "stderr",
     "output_type": "stream",
     "text": [
      "/home/lizakson/miniconda3/lib/python3.7/site-packages/ipykernel_launcher.py:3: UserWarning: This figure was using constrained_layout==True, but that is incompatible with subplots_adjust and or tight_layout: setting constrained_layout==False. \n",
      "  This is separate from the ipykernel package so we can avoid doing imports until\n"
     ]
    },
    {
     "data": {
      "image/png": "[encoded data removed]",
      "text/plain": [
       "<Figure size 432x288 with 4 Axes>"
      ]
     },
     "metadata": {},
     "output_type": "display_data"
    }
   ],
   "source": [
    "fig, (ax1, ax2) = matplotlib.pylab.subplots(1,2,constrained_layout=True)\n",
    "\n",
    "matplotlib.pyplot.subplots_adjust(left=0, bottom=None, right=2, top=None, wspace=None, hspace=None)\n",
    "\n",
    "features = list(['source0%U','source1%U','source2%U', 'source3%U'])\n",
    "\n",
    "correlation_mat = newdf[features].corr()\n",
    "\n",
    "sns.heatmap(correlation_mat, annot = True,ax=ax1)\n",
    "ax1.set_title('Correlation analysis between %U of all sources')\n",
    "\n",
    "features2 = list(['source0V','source1V','source2V', 'source3V'])\n",
    "\n",
    "correlation_mat = newdf[features2].corr()\n",
    "\n",
    "sns.heatmap(correlation_mat, annot = True,ax=ax2)\n",
    "ax2.set_title('Correlation analysis between V of all sources')\n",
    "matplotlib.pylab.show()"
   ]
  },
  {
   "cell_type": "markdown",
   "metadata": {},
   "source": [
    "The correlation matrix shows us that the %U/V variable of the learning set is highly correlated with the %U/V variable of external sets 1 and 2, but not with 3. The correlation with external set 2 is slightly higher."
   ]
  },
  {
   "cell_type": "markdown",
   "metadata": {},
   "source": [
    "I also examined if there is any stastical significant difference:"
   ]
  },
  {
   "cell_type": "code",
   "execution_count": 19,
   "metadata": {},
   "outputs": [
    {
     "data": {
      "text/plain": [
       "(2944, 10)"
      ]
     },
     "execution_count": 19,
     "metadata": {},
     "output_type": "execute_result"
    }
   ],
   "source": [
    "#drop nans to examine significance of the correlation analysis\n",
    "newdf_noNans = newdf.dropna()\n",
    "newdf_noNans.shape"
   ]
  },
  {
   "cell_type": "code",
   "execution_count": 20,
   "metadata": {},
   "outputs": [
    {
     "data": {
      "text/html": [
       "<div>\n",
       "<style scoped>\n",
       "    .dataframe tbody tr th:only-of-type {\n",
       "        vertical-align: middle;\n",
       "    }\n",
       "\n",
       "    .dataframe tbody tr th {\n",
       "        vertical-align: top;\n",
       "    }\n",
       "\n",
       "    .dataframe thead th {\n",
       "        text-align: right;\n",
       "    }\n",
       "</style>\n",
       "<table border=\"1\" class=\"dataframe\">\n",
       "  <thead>\n",
       "    <tr style=\"text-align: right;\">\n",
       "      <th></th>\n",
       "      <th>site</th>\n",
       "      <th>sources</th>\n",
       "      <th>source0%U</th>\n",
       "      <th>source0V</th>\n",
       "      <th>source1%U</th>\n",
       "      <th>source1V</th>\n",
       "      <th>source2%U</th>\n",
       "      <th>source2V</th>\n",
       "      <th>source3%U</th>\n",
       "      <th>source3V</th>\n",
       "    </tr>\n",
       "  </thead>\n",
       "  <tbody>\n",
       "    <tr>\n",
       "      <th>0</th>\n",
       "      <td>huffingtonpost.com*</td>\n",
       "      <td>0 1 2 3</td>\n",
       "      <td>0.020859</td>\n",
       "      <td>245887198.0</td>\n",
       "      <td>0.031496</td>\n",
       "      <td>3.459405e+08</td>\n",
       "      <td>0.061950</td>\n",
       "      <td>6.937006e+08</td>\n",
       "      <td>0.014497</td>\n",
       "      <td>1.335820e+08</td>\n",
       "    </tr>\n",
       "    <tr>\n",
       "      <th>1</th>\n",
       "      <td>linkedin.com*</td>\n",
       "      <td>0 1 2 3</td>\n",
       "      <td>0.020805</td>\n",
       "      <td>232618922.0</td>\n",
       "      <td>0.033081</td>\n",
       "      <td>3.713884e+08</td>\n",
       "      <td>0.059129</td>\n",
       "      <td>6.774678e+08</td>\n",
       "      <td>0.011048</td>\n",
       "      <td>1.120196e+08</td>\n",
       "    </tr>\n",
       "    <tr>\n",
       "      <th>2</th>\n",
       "      <td>tumblr.com*</td>\n",
       "      <td>0 1 2 3</td>\n",
       "      <td>0.016266</td>\n",
       "      <td>261974470.0</td>\n",
       "      <td>0.021520</td>\n",
       "      <td>2.470467e+08</td>\n",
       "      <td>0.050979</td>\n",
       "      <td>6.076362e+08</td>\n",
       "      <td>0.020496</td>\n",
       "      <td>2.300802e+08</td>\n",
       "    </tr>\n",
       "    <tr>\n",
       "      <th>3</th>\n",
       "      <td>wordpress.com*</td>\n",
       "      <td>0 1 2 3</td>\n",
       "      <td>0.011607</td>\n",
       "      <td>105976942.0</td>\n",
       "      <td>0.002867</td>\n",
       "      <td>3.037688e+07</td>\n",
       "      <td>0.032963</td>\n",
       "      <td>3.416711e+08</td>\n",
       "      <td>0.008891</td>\n",
       "      <td>8.164446e+07</td>\n",
       "    </tr>\n",
       "    <tr>\n",
       "      <th>4</th>\n",
       "      <td>recipecorner.com*</td>\n",
       "      <td>0 1 2 3</td>\n",
       "      <td>0.008205</td>\n",
       "      <td>73906493.0</td>\n",
       "      <td>0.006892</td>\n",
       "      <td>7.283924e+07</td>\n",
       "      <td>0.010240</td>\n",
       "      <td>9.154038e+07</td>\n",
       "      <td>0.007762</td>\n",
       "      <td>6.570811e+07</td>\n",
       "    </tr>\n",
       "    <tr>\n",
       "      <th>5</th>\n",
       "      <td>yelp.com*</td>\n",
       "      <td>0 1 2 3</td>\n",
       "      <td>0.007769</td>\n",
       "      <td>69826928.0</td>\n",
       "      <td>0.002222</td>\n",
       "      <td>2.338519e+07</td>\n",
       "      <td>0.016081</td>\n",
       "      <td>1.573599e+08</td>\n",
       "      <td>0.005617</td>\n",
       "      <td>5.051450e+07</td>\n",
       "    </tr>\n",
       "    <tr>\n",
       "      <th>6</th>\n",
       "      <td>diyfashion.com*</td>\n",
       "      <td>0 1 2 3</td>\n",
       "      <td>0.007451</td>\n",
       "      <td>65515379.0</td>\n",
       "      <td>0.012049</td>\n",
       "      <td>1.691628e+08</td>\n",
       "      <td>0.007228</td>\n",
       "      <td>6.461243e+07</td>\n",
       "      <td>0.004918</td>\n",
       "      <td>4.163112e+07</td>\n",
       "    </tr>\n",
       "    <tr>\n",
       "      <th>7</th>\n",
       "      <td>buzzfeed.com*</td>\n",
       "      <td>0 1 2 3</td>\n",
       "      <td>0.006849</td>\n",
       "      <td>71304869.0</td>\n",
       "      <td>0.007513</td>\n",
       "      <td>7.833179e+07</td>\n",
       "      <td>0.012903</td>\n",
       "      <td>1.303096e+08</td>\n",
       "      <td>0.007986</td>\n",
       "      <td>7.302208e+07</td>\n",
       "    </tr>\n",
       "    <tr>\n",
       "      <th>8</th>\n",
       "      <td>gossipcenter.com*</td>\n",
       "      <td>0 1 2 3</td>\n",
       "      <td>0.006724</td>\n",
       "      <td>57192869.0</td>\n",
       "      <td>0.010395</td>\n",
       "      <td>1.052110e+08</td>\n",
       "      <td>0.020534</td>\n",
       "      <td>1.835691e+08</td>\n",
       "      <td>0.003429</td>\n",
       "      <td>2.902889e+07</td>\n",
       "    </tr>\n",
       "    <tr>\n",
       "      <th>9</th>\n",
       "      <td>wikia.com*</td>\n",
       "      <td>0 1 2 3</td>\n",
       "      <td>0.006662</td>\n",
       "      <td>76239916.0</td>\n",
       "      <td>0.005257</td>\n",
       "      <td>6.129072e+07</td>\n",
       "      <td>0.008501</td>\n",
       "      <td>9.346143e+07</td>\n",
       "      <td>0.009201</td>\n",
       "      <td>9.080568e+07</td>\n",
       "    </tr>\n",
       "  </tbody>\n",
       "</table>\n",
       "</div>"
      ],
      "text/plain": [
       "                  site  sources  source0%U     source0V  source1%U  \\\n",
       "0  huffingtonpost.com*  0 1 2 3   0.020859  245887198.0   0.031496   \n",
       "1        linkedin.com*  0 1 2 3   0.020805  232618922.0   0.033081   \n",
       "2          tumblr.com*  0 1 2 3   0.016266  261974470.0   0.021520   \n",
       "3       wordpress.com*  0 1 2 3   0.011607  105976942.0   0.002867   \n",
       "4    recipecorner.com*  0 1 2 3   0.008205   73906493.0   0.006892   \n",
       "5            yelp.com*  0 1 2 3   0.007769   69826928.0   0.002222   \n",
       "6      diyfashion.com*  0 1 2 3   0.007451   65515379.0   0.012049   \n",
       "7        buzzfeed.com*  0 1 2 3   0.006849   71304869.0   0.007513   \n",
       "8    gossipcenter.com*  0 1 2 3   0.006724   57192869.0   0.010395   \n",
       "9           wikia.com*  0 1 2 3   0.006662   76239916.0   0.005257   \n",
       "\n",
       "       source1V  source2%U      source2V  source3%U      source3V  \n",
       "0  3.459405e+08   0.061950  6.937006e+08   0.014497  1.335820e+08  \n",
       "1  3.713884e+08   0.059129  6.774678e+08   0.011048  1.120196e+08  \n",
       "2  2.470467e+08   0.050979  6.076362e+08   0.020496  2.300802e+08  \n",
       "3  3.037688e+07   0.032963  3.416711e+08   0.008891  8.164446e+07  \n",
       "4  7.283924e+07   0.010240  9.154038e+07   0.007762  6.570811e+07  \n",
       "5  2.338519e+07   0.016081  1.573599e+08   0.005617  5.051450e+07  \n",
       "6  1.691628e+08   0.007228  6.461243e+07   0.004918  4.163112e+07  \n",
       "7  7.833179e+07   0.012903  1.303096e+08   0.007986  7.302208e+07  \n",
       "8  1.052110e+08   0.020534  1.835691e+08   0.003429  2.902889e+07  \n",
       "9  6.129072e+07   0.008501  9.346143e+07   0.009201  9.080568e+07  "
      ]
     },
     "execution_count": 20,
     "metadata": {},
     "output_type": "execute_result"
    }
   ],
   "source": [
    "#Sort the new df according to %U/V of the learning set\n",
    "newdf_noNans =  newdf_noNans.sort_values(by=['source0%U'], ascending=False,  ignore_index=True)\n",
    "newdf_noNans.head(10)"
   ]
  },
  {
   "cell_type": "code",
   "execution_count": 21,
   "metadata": {},
   "outputs": [
    {
     "data": {
      "text/plain": [
       "{'%U': {'source0%U_source0%U': (1.0, 0.0),\n",
       "  'source0%U_source1%U': (0.9365115269358033, 0.0),\n",
       "  'source0%U_source2%U': (0.9537254465308502, 0.0),\n",
       "  'source0%U_source3%U': (0.22199091343779487, 3.4189110979366687e-34)},\n",
       " 'V': {'source0V_source0V': (0.9999999999999994, 0.0),\n",
       "  'source0V_source1V': (0.9383324315221481, 0.0),\n",
       "  'source0V_source2V': (0.9601478738694535, 0.0),\n",
       "  'source0V_source3V': (0.2404596547743937, 5.426676023313545e-40)}}"
      ]
     },
     "execution_count": 21,
     "metadata": {},
     "output_type": "execute_result"
    }
   ],
   "source": [
    "corr_test = {}\n",
    "vars = [\"%U\", \"V\"]\n",
    "\n",
    "for var in vars:\n",
    "    corr_test[var] = {}\n",
    "    features = list(['source0{}'.format(var),'source1{}'.format(var),'source2{}'.format(var), 'source3{}'.format(var)])\n",
    "    for feature in features:\n",
    "        x = newdf_noNans['source0{}'.format(var)]\n",
    "        y = newdf_noNans[feature]\n",
    "        corr_test[var]['source0{0}_{1}'.format(var,feature)] = sc.stats.pearsonr(x, y)\n",
    "    \n",
    "corr_test"
   ]
  },
  {
   "cell_type": "markdown",
   "metadata": {},
   "source": [
    "Both sources 1 and 2 are significantly correlated with the learning set. Source 3 is also significantly correlated, but its correlation coefficient (Pearson's R) is much smaller.<br/>\n",
    "However, when I examined the correlation test on only the top 50* sites according to %U of the learning set, there is no significant correlation between the learning set and source 3.<br/>\n",
    "*I looked specifically at top 50, because I saw that usually people publish the scores for the top 50 sites. Thus, I assumed that it might be important to be more accurate with the top 50 sites rather than the very small sites, but this is an assumption."
   ]
  },
  {
   "cell_type": "code",
   "execution_count": 22,
   "metadata": {},
   "outputs": [
    {
     "data": {
      "text/plain": [
       "{'%U': {'source0%U_source0%U': (1.0, 0.0),\n",
       "  'source0%U_source1%U': (0.9151467497985678, 1.434794816830289e-20),\n",
       "  'source0%U_source2%U': (0.9554047921367695, 4.47343397746898e-27),\n",
       "  'source0%U_source3%U': (0.05771823279967076, 0.6905277438969845)},\n",
       " 'V': {'source0V_source0V': (0.9999999999999999, 0.0),\n",
       "  'source0V_source1V': (0.9047217885918596, 2.0532426457764157e-19),\n",
       "  'source0V_source2V': (0.955898642417055, 3.4434106036213206e-27),\n",
       "  'source0V_source3V': (0.10710183469181939, 0.4591163157189458)}}"
      ]
     },
     "execution_count": 22,
     "metadata": {},
     "output_type": "execute_result"
    }
   ],
   "source": [
    "corr_test = {}\n",
    "vars = [\"%U\", \"V\"]\n",
    "num_top = 50\n",
    "\n",
    "for var in vars:\n",
    "    corr_test[var] = {}\n",
    "    features = list(['source0{}'.format(var),'source1{}'.format(var),'source2{}'.format(var), 'source3{}'.format(var)])\n",
    "    for feature in features:\n",
    "        x = newdf_noNans.head(num_top)['source0{}'.format(var)]\n",
    "        y = newdf_noNans.head(num_top)[feature]\n",
    "        corr_test[var]['source0{0}_{1}'.format(var,feature)] = sc.stats.pearsonr(x, y)\n",
    "    \n",
    "corr_test"
   ]
  },
  {
   "cell_type": "markdown",
   "metadata": {},
   "source": [
    "## Distribution comparison\n",
    "Next, I looked at the distributions of %U/V in each source, and compared the learning set distribution to the distribution of each of the external sources."
   ]
  },
  {
   "cell_type": "code",
   "execution_count": 23,
   "metadata": {},
   "outputs": [
    {
     "data": {
      "text/html": [
       "<div>\n",
       "<style scoped>\n",
       "    .dataframe tbody tr th:only-of-type {\n",
       "        vertical-align: middle;\n",
       "    }\n",
       "\n",
       "    .dataframe tbody tr th {\n",
       "        vertical-align: top;\n",
       "    }\n",
       "\n",
       "    .dataframe thead th {\n",
       "        text-align: right;\n",
       "    }\n",
       "</style>\n",
       "<table border=\"1\" class=\"dataframe\">\n",
       "  <thead>\n",
       "    <tr style=\"text-align: right;\">\n",
       "      <th></th>\n",
       "      <th>site</th>\n",
       "      <th>sources</th>\n",
       "      <th>source0%U</th>\n",
       "      <th>source0V</th>\n",
       "      <th>source1%U</th>\n",
       "      <th>source1V</th>\n",
       "      <th>source2%U</th>\n",
       "      <th>source2V</th>\n",
       "      <th>source3%U</th>\n",
       "      <th>source3V</th>\n",
       "    </tr>\n",
       "  </thead>\n",
       "  <tbody>\n",
       "    <tr>\n",
       "      <th>0</th>\n",
       "      <td>huffingtonpost.com*</td>\n",
       "      <td>0 1 2 3</td>\n",
       "      <td>0.020859</td>\n",
       "      <td>245887198.0</td>\n",
       "      <td>0.031496</td>\n",
       "      <td>3.459405e+08</td>\n",
       "      <td>0.061950</td>\n",
       "      <td>6.937006e+08</td>\n",
       "      <td>0.014497</td>\n",
       "      <td>1.335820e+08</td>\n",
       "    </tr>\n",
       "    <tr>\n",
       "      <th>1</th>\n",
       "      <td>linkedin.com*</td>\n",
       "      <td>0 1 2 3</td>\n",
       "      <td>0.020805</td>\n",
       "      <td>232618922.0</td>\n",
       "      <td>0.033081</td>\n",
       "      <td>3.713884e+08</td>\n",
       "      <td>0.059129</td>\n",
       "      <td>6.774678e+08</td>\n",
       "      <td>0.011048</td>\n",
       "      <td>1.120196e+08</td>\n",
       "    </tr>\n",
       "    <tr>\n",
       "      <th>2</th>\n",
       "      <td>tumblr.com*</td>\n",
       "      <td>0 1 2 3</td>\n",
       "      <td>0.016266</td>\n",
       "      <td>261974470.0</td>\n",
       "      <td>0.021520</td>\n",
       "      <td>2.470467e+08</td>\n",
       "      <td>0.050979</td>\n",
       "      <td>6.076362e+08</td>\n",
       "      <td>0.020496</td>\n",
       "      <td>2.300802e+08</td>\n",
       "    </tr>\n",
       "    <tr>\n",
       "      <th>3</th>\n",
       "      <td>wordpress.com*</td>\n",
       "      <td>0 1 2 3</td>\n",
       "      <td>0.011607</td>\n",
       "      <td>105976942.0</td>\n",
       "      <td>0.002867</td>\n",
       "      <td>3.037688e+07</td>\n",
       "      <td>0.032963</td>\n",
       "      <td>3.416711e+08</td>\n",
       "      <td>0.008891</td>\n",
       "      <td>8.164446e+07</td>\n",
       "    </tr>\n",
       "    <tr>\n",
       "      <th>4</th>\n",
       "      <td>recipecorner.com*</td>\n",
       "      <td>0 1 2 3</td>\n",
       "      <td>0.008205</td>\n",
       "      <td>73906493.0</td>\n",
       "      <td>0.006892</td>\n",
       "      <td>7.283924e+07</td>\n",
       "      <td>0.010240</td>\n",
       "      <td>9.154038e+07</td>\n",
       "      <td>0.007762</td>\n",
       "      <td>6.570811e+07</td>\n",
       "    </tr>\n",
       "    <tr>\n",
       "      <th>5</th>\n",
       "      <td>yelp.com*</td>\n",
       "      <td>0 1 2 3</td>\n",
       "      <td>0.007769</td>\n",
       "      <td>69826928.0</td>\n",
       "      <td>0.002222</td>\n",
       "      <td>2.338519e+07</td>\n",
       "      <td>0.016081</td>\n",
       "      <td>1.573599e+08</td>\n",
       "      <td>0.005617</td>\n",
       "      <td>5.051450e+07</td>\n",
       "    </tr>\n",
       "    <tr>\n",
       "      <th>6</th>\n",
       "      <td>diyfashion.com*</td>\n",
       "      <td>0 1 2 3</td>\n",
       "      <td>0.007451</td>\n",
       "      <td>65515379.0</td>\n",
       "      <td>0.012049</td>\n",
       "      <td>1.691628e+08</td>\n",
       "      <td>0.007228</td>\n",
       "      <td>6.461243e+07</td>\n",
       "      <td>0.004918</td>\n",
       "      <td>4.163112e+07</td>\n",
       "    </tr>\n",
       "    <tr>\n",
       "      <th>7</th>\n",
       "      <td>buzzfeed.com*</td>\n",
       "      <td>0 1 2 3</td>\n",
       "      <td>0.006849</td>\n",
       "      <td>71304869.0</td>\n",
       "      <td>0.007513</td>\n",
       "      <td>7.833179e+07</td>\n",
       "      <td>0.012903</td>\n",
       "      <td>1.303096e+08</td>\n",
       "      <td>0.007986</td>\n",
       "      <td>7.302208e+07</td>\n",
       "    </tr>\n",
       "    <tr>\n",
       "      <th>8</th>\n",
       "      <td>gossipcenter.com*</td>\n",
       "      <td>0 1 2 3</td>\n",
       "      <td>0.006724</td>\n",
       "      <td>57192869.0</td>\n",
       "      <td>0.010395</td>\n",
       "      <td>1.052110e+08</td>\n",
       "      <td>0.020534</td>\n",
       "      <td>1.835691e+08</td>\n",
       "      <td>0.003429</td>\n",
       "      <td>2.902889e+07</td>\n",
       "    </tr>\n",
       "    <tr>\n",
       "      <th>9</th>\n",
       "      <td>wikia.com*</td>\n",
       "      <td>0 1 2 3</td>\n",
       "      <td>0.006662</td>\n",
       "      <td>76239916.0</td>\n",
       "      <td>0.005257</td>\n",
       "      <td>6.129072e+07</td>\n",
       "      <td>0.008501</td>\n",
       "      <td>9.346143e+07</td>\n",
       "      <td>0.009201</td>\n",
       "      <td>9.080568e+07</td>\n",
       "    </tr>\n",
       "  </tbody>\n",
       "</table>\n",
       "</div>"
      ],
      "text/plain": [
       "                  site  sources  source0%U     source0V  source1%U  \\\n",
       "0  huffingtonpost.com*  0 1 2 3   0.020859  245887198.0   0.031496   \n",
       "1        linkedin.com*  0 1 2 3   0.020805  232618922.0   0.033081   \n",
       "2          tumblr.com*  0 1 2 3   0.016266  261974470.0   0.021520   \n",
       "3       wordpress.com*  0 1 2 3   0.011607  105976942.0   0.002867   \n",
       "4    recipecorner.com*  0 1 2 3   0.008205   73906493.0   0.006892   \n",
       "5            yelp.com*  0 1 2 3   0.007769   69826928.0   0.002222   \n",
       "6      diyfashion.com*  0 1 2 3   0.007451   65515379.0   0.012049   \n",
       "7        buzzfeed.com*  0 1 2 3   0.006849   71304869.0   0.007513   \n",
       "8    gossipcenter.com*  0 1 2 3   0.006724   57192869.0   0.010395   \n",
       "9           wikia.com*  0 1 2 3   0.006662   76239916.0   0.005257   \n",
       "\n",
       "       source1V  source2%U      source2V  source3%U      source3V  \n",
       "0  3.459405e+08   0.061950  6.937006e+08   0.014497  1.335820e+08  \n",
       "1  3.713884e+08   0.059129  6.774678e+08   0.011048  1.120196e+08  \n",
       "2  2.470467e+08   0.050979  6.076362e+08   0.020496  2.300802e+08  \n",
       "3  3.037688e+07   0.032963  3.416711e+08   0.008891  8.164446e+07  \n",
       "4  7.283924e+07   0.010240  9.154038e+07   0.007762  6.570811e+07  \n",
       "5  2.338519e+07   0.016081  1.573599e+08   0.005617  5.051450e+07  \n",
       "6  1.691628e+08   0.007228  6.461243e+07   0.004918  4.163112e+07  \n",
       "7  7.833179e+07   0.012903  1.303096e+08   0.007986  7.302208e+07  \n",
       "8  1.052110e+08   0.020534  1.835691e+08   0.003429  2.902889e+07  \n",
       "9  6.129072e+07   0.008501  9.346143e+07   0.009201  9.080568e+07  "
      ]
     },
     "execution_count": 23,
     "metadata": {},
     "output_type": "execute_result"
    }
   ],
   "source": [
    "#Sort the new df according to %U/V of the learning set\n",
    "newdf =  newdf.sort_values(by=['source0%U'], ascending=False,  ignore_index=True)\n",
    "newdf.head(10)"
   ]
  },
  {
   "cell_type": "code",
   "execution_count": 24,
   "metadata": {},
   "outputs": [
    {
     "name": "stderr",
     "output_type": "stream",
     "text": [
      "/home/lizakson/miniconda3/lib/python3.7/site-packages/numpy/lib/histograms.py:839: RuntimeWarning: invalid value encountered in greater_equal\n",
      "  keep = (tmp_a >= first_edge)\n",
      "/home/lizakson/miniconda3/lib/python3.7/site-packages/numpy/lib/histograms.py:840: RuntimeWarning: invalid value encountered in less_equal\n",
      "  keep &= (tmp_a <= last_edge)\n"
     ]
    },
    {
     "data": {
      "text/plain": [
       "<matplotlib.legend.Legend at 0x7f1765397b50>"
      ]
     },
     "execution_count": 24,
     "metadata": {},
     "output_type": "execute_result"
    },
    {
     "data": {
      "image/png": "[encoded data removed]",
      "text/plain": [
       "<Figure size 576x432 with 1 Axes>"
      ]
     },
     "metadata": {},
     "output_type": "display_data"
    }
   ],
   "source": [
    "num_lines = 100\n",
    "x = \"%U\"\n",
    "data0 = newdf.head(num_lines)['source0{}'.format(x)]\n",
    "data1 = newdf.head(num_lines)['source1{}'.format(x)]\n",
    "data2 = newdf.head(num_lines)['source2{}'.format(x)]\n",
    "#data3 = newdf.head(num_lines)['source3{}'.format(x)]\n",
    "\n",
    "plt.figure(figsize=(8,6))\n",
    "plt.hist(data0, bins=10, alpha=0.5, label=\"source0\")\n",
    "plt.hist(data1, bins=10, alpha=0.5, label=\"source1\")\n",
    "plt.hist(data2, bins=10, alpha=0.5, label=\"source2\")\n",
    "#plt.hist(data3, bins=10, alpha=0.5, label=\"source3\")\n",
    "plt.xlabel(x, size=14)\n",
    "plt.ylabel(\"Count\", size=14)\n",
    "plt.title(\"Histograms of all sources\")\n",
    "plt.legend(loc='upper right')\n"
   ]
  },
  {
   "cell_type": "markdown",
   "metadata": {},
   "source": [
    "The distribution of %U of source 3 is very different from the other sources (some values of %U are much higher) which also explains the lower correlation in the previous metric. Thus, it is very hard to see the other distributions. So, I prefered to display only sources 0,1 and 2."
   ]
  },
  {
   "cell_type": "markdown",
   "metadata": {},
   "source": [
    "In order to statistically examine the similarity between the sources' distributions, I computed the Kolmogorov-Smirnov statistic on 2 samples.<br/>\n",
    "This is a two-sided test for the null hypothesis that 2 independent samples are drawn from the same continuous distribution. The alternative hypothesis can be either ‘two-sided’ (default), ‘less’ or ‘greater’."
   ]
  },
  {
   "cell_type": "code",
   "execution_count": 25,
   "metadata": {},
   "outputs": [
    {
     "data": {
      "text/plain": [
       "{'%U': {'source0%U_0': KstestResult(statistic=0.0, pvalue=1.0),\n",
       "  'source0%U_1': KstestResult(statistic=0.12403340550572224, pvalue=2.163618354850499e-65),\n",
       "  'source0%U_2': KstestResult(statistic=0.3895246932673471, pvalue=0.0),\n",
       "  'source0%U_3': KstestResult(statistic=0.6484173626147025, pvalue=0.0)},\n",
       " 'V': {'source0V_0': KstestResult(statistic=0.0, pvalue=1.0),\n",
       "  'source0V_1': KstestResult(statistic=0.12516754304567482, pvalue=1.3757241282325834e-66),\n",
       "  'source0V_2': KstestResult(statistic=0.37972986905866585, pvalue=0.0),\n",
       "  'source0V_3': KstestResult(statistic=0.6482111557892566, pvalue=0.0)}}"
      ]
     },
     "execution_count": 25,
     "metadata": {},
     "output_type": "execute_result"
    }
   ],
   "source": [
    "KstestResult = {}\n",
    "\n",
    "vars = [\"%U\", \"V\"]\n",
    "\n",
    "for var in vars: \n",
    "    KstestResult[var] = {}\n",
    "\n",
    "    for df_key in df_dict.keys():\n",
    "    \n",
    "        rvs1 = newdf[\"source0{}\".format(var)]\n",
    "        rvs2 = newdf[\"source{0}{1}\".format(df_key,var)]\n",
    "        KstestResult[var]['source0{0}_{1}'.format(var,df_key)] = stats.ks_2samp(rvs1, rvs2)\n",
    "        \n",
    "KstestResult"
   ]
  },
  {
   "cell_type": "markdown",
   "metadata": {},
   "source": [
    "For all of the external sources, we rejected the null hypothesis: that the distributions come from the same distribution. That is, I cannot use this metric to discriminate between the external sources.<br/> \n",
    "However, if I examine only part of the distribution, e.g. the top 50 sites according to %U of the learning set, I discover that there is some difference between the sources:<br/>\n",
    "For sources 1 and 3, we cannot reject the null hypothesis that these distributions and the learning set's distribution are drawn from the same continuous distribution since the p-value is higher than 10% (the alpha is set to 10%). Thus, in this metric sources 1 and 3 seems better than source 2."
   ]
  },
  {
   "cell_type": "code",
   "execution_count": 26,
   "metadata": {},
   "outputs": [
    {
     "data": {
      "text/plain": [
       "{'%U': {'source0%U_0': KstestResult(statistic=0.0, pvalue=1.0),\n",
       "  'source0%U_1': KstestResult(statistic=0.22, pvalue=0.17858668181221732),\n",
       "  'source0%U_2': KstestResult(statistic=0.34, pvalue=0.005841778142694731),\n",
       "  'source0%U_3': KstestResult(statistic=0.12, pvalue=0.8692618870414056)},\n",
       " 'V': {'source0V_0': KstestResult(statistic=0.0, pvalue=1.0),\n",
       "  'source0V_1': KstestResult(statistic=0.16, pvalue=0.5486851446031328),\n",
       "  'source0V_2': KstestResult(statistic=0.32, pvalue=0.011511738725894704),\n",
       "  'source0V_3': KstestResult(statistic=0.12, pvalue=0.8692618870414056)}}"
      ]
     },
     "execution_count": 26,
     "metadata": {},
     "output_type": "execute_result"
    }
   ],
   "source": [
    "KstestResult = {}\n",
    "num_top = 50\n",
    "\n",
    "vars = [\"%U\", \"V\"]\n",
    "\n",
    "for var in vars: \n",
    "    KstestResult[var] = {}\n",
    "    for df_key in df_dict.keys():\n",
    "        rvs1 = newdf.head(num_top)[\"source0{}\".format(var)]\n",
    "        rvs2 = newdf.head(num_top)[\"source{0}{1}\".format(df_key,var)]\n",
    "        KstestResult[var]['source0{0}_{1}'.format(var,df_key)] = stats.ks_2samp(rvs1, rvs2)\n",
    "\n",
    "KstestResult"
   ]
  },
  {
   "cell_type": "markdown",
   "metadata": {},
   "source": [
    "## Summary of Part 1:\n",
    "To compare between the external sources, I used the following matrics:\n",
    "1. Size- source1 is the largest and thus samples the biggest amount of sites from the learning set.\n",
    "2. Order of the sites according to %U/V - no difference between the external sources.\n",
    "3. Correlation analysis between the %U/V of each site - both sources 1 and 2 are significantly correlated with the learning set.\n",
    "4. Comparison between the distributions of %U/V - in general, according to KS test, none of the sources' distributions is similar to the learning set's distribution (drawn from the same distribution). However, if I examine only the top 50 sites (according to the learning set), then the distributions of sources 1 and 3 are more similar to the learning set's distribution (cannot reject the null hypothesis), than the distribution of source 2 to the learning set (reject the null hypothesis).\n",
    "\n",
    "### In summary, source 1 is better than sources 2 and 3 in most of the metrics: it contains more sites from the kearning set, its %U/V are highly correlated with the learning set, and the distribution of its top 50 sites are not not similar to the distribution of the learning set (cannot reject the null hypothesis). Thus, I chose this source for Part 2. "
   ]
  },
  {
   "cell_type": "markdown",
   "metadata": {},
   "source": [
    "# Part 2: Estimating the number of Percent Unique in each site"
   ]
  },
  {
   "cell_type": "markdown",
   "metadata": {},
   "source": [
    "### Functions for the model:"
   ]
  },
  {
   "cell_type": "code",
   "execution_count": 27,
   "metadata": {},
   "outputs": [],
   "source": [
    "# Split the sample to training/validation with a 60/40 ratio, and \n",
    "# Also shuffle the data.\n",
    "\n",
    "def train_test_arrange(X, score_y):\n",
    "    if len(X.shape) == 1: # if x is 1D\n",
    "        a = np.array(X.values.tolist())\n",
    "        x = a[:, np.newaxis] #the x has to be at least a 2D array\n",
    "\n",
    "    X_train, X_test, y_train, y_test = train_test_split(\n",
    "                                                        x, # x\n",
    "                                                        score_y, # y\n",
    "                                                        test_size = 0.4, # 60%/40% split  \n",
    "                                                        shuffle = True, # shuffle dataset\n",
    "                                                                        # before splitting\n",
    "                                                        random_state = 0 # same shuffle each\n",
    "                                                                           # time\n",
    "                                                                           )\n",
    "\n",
    "    # print the size of our training and test groups\n",
    "    print('training:', len(X_train),\n",
    "         'testing:', len(X_test))\n",
    "    \n",
    "    return X_train, X_test, y_train, y_test\n",
    "\n"
   ]
  },
  {
   "cell_type": "code",
   "execution_count": 28,
   "metadata": {},
   "outputs": [],
   "source": [
    "#Examine the distributions of y_train and y_test\n",
    "def train_test_dist(y_train, y_test):\n",
    "    sns.distplot(y_train,label='train')\n",
    "    sns.distplot(y_test,label='test')\n",
    "    plt.legend()"
   ]
  },
  {
   "cell_type": "code",
   "execution_count": 29,
   "metadata": {},
   "outputs": [],
   "source": [
    "#Cross-validation - model evaluation\n",
    "\n",
    "def cross_val_train(model, X_train, y_train):\n",
    "\n",
    "    X, y = X_train, y_train\n",
    "\n",
    "    model = model # define the model\n",
    "\n",
    "    # predict\n",
    "    y_pred = cross_val_predict(model, X, y, cv=10)\n",
    "    # scores\n",
    "    acc = cross_val_score(model, X, y, cv=10)\n",
    "    mae = cross_val_score(model, X, y, cv=10, scoring='neg_mean_absolute_error')\n",
    "\n",
    "    for i in range(10):\n",
    "        print('Fold {} Acc = {}, MAE = {}'.format(i, acc[i], -mae[i]))\n",
    "\n",
    "    #aggregated models cross validation error \n",
    "    #print(\"The aggregated models cross validation MAE is {}\".format(np.mean(np.sqrt(-mae))))\n",
    "    \n",
    "    print(\"CV evaluation:\")\n",
    "    overall_acc = r2_score(y_train, y_pred)\n",
    "    overall_mae = mean_absolute_error(y_train,y_pred)\n",
    "    print('R2:', overall_acc)\n",
    "    print('MAE:',overall_mae)\n",
    "\n",
    "    sns.regplot(y_pred, y_train)\n",
    "    plt.xlabel('y_train')\n",
    "    plt.ylabel('y_pred')"
   ]
  },
  {
   "cell_type": "code",
   "execution_count": 30,
   "metadata": {},
   "outputs": [],
   "source": [
    "def test_model(X_train, x_test, y_train, y_test):\n",
    "    #fit the training data\n",
    "    model.fit(X_train, y_train)\n",
    "    #predict on the test data\n",
    "    yhat = model.predict(X_test)\n",
    "\n",
    "    #Test evaluation\n",
    "    overall_acc = r2_score(y_test, yhat)\n",
    "    overall_mae = mean_absolute_error(y_test, yhat)\n",
    "    print('R2:',overall_acc)\n",
    "    print('MAE:',overall_mae)\n",
    "\n",
    "    sns.regplot(y_test, yhat)\n",
    "\n",
    "    plt.xlabel('y_observed')\n",
    "    plt.ylabel('y_predicted')\n",
    "\n",
    "    plt.show()\n",
    "    \n",
    "    print(\"Model slope:    \", model.coef_[0])\n",
    "    print(\"Model intercept:\", model.intercept_)\n",
    "    \n",
    "    return yhat"
   ]
  },
  {
   "cell_type": "code",
   "execution_count": 31,
   "metadata": {},
   "outputs": [],
   "source": [
    "def error_dist(y_test, yhat):\n",
    "    #Correlation between y_observed and the error%\n",
    "    %matplotlib inline\n",
    "    matplotlib.style.use('ggplot')\n",
    "    \n",
    "    error = y_test - yhat\n",
    "\n",
    "    x = y_test\n",
    "    y = abs(error)/y_test    \n",
    "\n",
    "    plt.scatter(x, y)\n",
    "\n",
    "    plt.title('Correlation between y_observed and the error%')\n",
    "    plt.xlabel('y_observed')\n",
    "    plt.ylabel('abs(y_observed - y_predicted)/y_observed')\n",
    "\n",
    "    plt.show()"
   ]
  },
  {
   "cell_type": "markdown",
   "metadata": {},
   "source": [
    "I observed in Part 1 that there is a high correlation between the %U of the learning set and of source 1. Thus, I started with a simple linear regression using only %U of source 1 as a feature. Also, there is a high correlation between %U and V, thus using also V would result in a multicollinearity. So, I used only %U of source 1 to predict %U of source 0."
   ]
  },
  {
   "cell_type": "code",
   "execution_count": 32,
   "metadata": {
    "scrolled": true
   },
   "outputs": [
    {
     "data": {
      "text/plain": [
       "(8502, 10)"
      ]
     },
     "execution_count": 32,
     "metadata": {},
     "output_type": "execute_result"
    }
   ],
   "source": [
    "df_model = newdf[newdf[\"sources\"].str.contains(\"1\")]\n",
    "df_model.shape"
   ]
  },
  {
   "cell_type": "code",
   "execution_count": 33,
   "metadata": {},
   "outputs": [
    {
     "name": "stdout",
     "output_type": "stream",
     "text": [
      "training: 5101 testing: 3401\n"
     ]
    },
    {
     "data": {
      "image/png": "[encoded data removed]",
      "text/plain": [
       "<Figure size 432x288 with 1 Axes>"
      ]
     },
     "metadata": {},
     "output_type": "display_data"
    }
   ],
   "source": [
    "X = df_model['source1%U']\n",
    "score_y = df_model['source0%U']\n",
    "X_train, X_test, y_train, y_test = train_test_arrange(X, score_y)\n",
    "train_test_dist(y_train, y_test)"
   ]
  },
  {
   "cell_type": "markdown",
   "metadata": {},
   "source": [
    "I examined the similarity of the distributions of y_train and y_test, since if they are very different from each other it will affect the model prediction ability."
   ]
  },
  {
   "cell_type": "code",
   "execution_count": 34,
   "metadata": {},
   "outputs": [
    {
     "name": "stdout",
     "output_type": "stream",
     "text": [
      "Fold 0 Acc = 0.7554892412311157, MAE = 2.6735215308332877e-05\n",
      "Fold 1 Acc = 0.6887435175333099, MAE = 2.6505441882455558e-05\n",
      "Fold 2 Acc = 0.606135481602337, MAE = 3.6151782966214406e-05\n",
      "Fold 3 Acc = 0.7955374568848522, MAE = 5.253038614867089e-05\n",
      "Fold 4 Acc = 0.8227282007189979, MAE = 2.7579325677919838e-05\n",
      "Fold 5 Acc = 0.7730196302855176, MAE = 3.559686627455508e-05\n",
      "Fold 6 Acc = 0.8752623609767427, MAE = 3.0021585221701133e-05\n",
      "Fold 7 Acc = 0.7688405512658623, MAE = 2.934463393418503e-05\n",
      "Fold 8 Acc = 0.9313414434620365, MAE = 2.9074142552171137e-05\n",
      "Fold 9 Acc = 0.9492018384095812, MAE = 3.306007806595028e-05\n",
      "CV evaluation:\n",
      "R2: 0.842964601920454\n",
      "MAE: 3.265878431909587e-05\n"
     ]
    },
    {
     "data": {
      "image/png": "[encoded data removed]",
      "text/plain": [
       "<Figure size 432x288 with 1 Axes>"
      ]
     },
     "metadata": {},
     "output_type": "display_data"
    }
   ],
   "source": [
    "model = LinearRegression(fit_intercept=True)\n",
    "cross_val_train(model, X_train, y_train)"
   ]
  },
  {
   "cell_type": "code",
   "execution_count": 35,
   "metadata": {},
   "outputs": [
    {
     "name": "stdout",
     "output_type": "stream",
     "text": [
      "R2: 0.9099451996333998\n",
      "MAE: 3.4543390016596375e-05\n"
     ]
    },
    {
     "data": {
      "image/png": "[encoded data removed]",
      "text/plain": [
       "<Figure size 432x288 with 1 Axes>"
      ]
     },
     "metadata": {},
     "output_type": "display_data"
    },
    {
     "name": "stdout",
     "output_type": "stream",
     "text": [
      "Model slope:     0.7333622562295867\n",
      "Model intercept: 1.6598123601948595e-05\n"
     ]
    }
   ],
   "source": [
    "yhat = test_model(X_train, X_test, y_train, y_test)"
   ]
  },
  {
   "cell_type": "markdown",
   "metadata": {},
   "source": [
    "I looked at the percent of the prediction errors as a function of the observed y to examine what parts of the data were harder to predict using the model. As shown in the graph, I observed that most of the errors occured for the lower-valued (lower %U) sites, around the zero."
   ]
  },
  {
   "cell_type": "code",
   "execution_count": 36,
   "metadata": {},
   "outputs": [
    {
     "data": {
      "image/png": "[encoded data removed]",
      "text/plain": [
       "<Figure size 432x288 with 1 Axes>"
      ]
     },
     "metadata": {},
     "output_type": "display_data"
    }
   ],
   "source": [
    "error_dist(y_test, yhat)"
   ]
  },
  {
   "cell_type": "markdown",
   "metadata": {},
   "source": [
    "I used a permutation test to evaluate the statistical significance of the model perfoemance. A permutation test allows me to test it without assuming anything on the variables distributions."
   ]
  },
  {
   "cell_type": "code",
   "execution_count": 37,
   "metadata": {},
   "outputs": [
    {
     "name": "stdout",
     "output_type": "stream",
     "text": [
      "Observed pearson R: 0.96\n",
      "P value: 0.0001\n"
     ]
    }
   ],
   "source": [
    "#the permutation test as \"how many times obtain a correlation coefficient that is greater than the observed value?\"\n",
    "#link: http://rasbt.github.io/mlxtend/user_guide/evaluate/permutation_test/\n",
    "\n",
    "x, y = y_test, yhat\n",
    "\n",
    "print('Observed pearson R: %.2f' % np.corrcoef(x, y)[1][0])\n",
    "\n",
    "\n",
    "p_value = permutation_test(x, y,\n",
    "                           method='approximate', num_rounds=10000,\n",
    "                           func=lambda x, y: np.corrcoef(x, y)[1][0],\n",
    "                           seed=0)\n",
    "print('P value: %.4f' % p_value)"
   ]
  },
  {
   "cell_type": "markdown",
   "metadata": {},
   "source": [
    "Using a simple model of linear regression, I was able to predict the %U of the learning set with R Squared of 0.9 and a mean absolute error (MAE) of 3.45e-05. Moreover, using a permutation test, I observed that the specific correlation between the observed y and the predicted y (Observed pearson R: 0.96) is statistically significant (less than 0.0001 chance to be random).  "
   ]
  },
  {
   "cell_type": "markdown",
   "metadata": {},
   "source": [
    "Next, I tried to also predict the %U for the sites which don't have a representation in source 1, by using source 2 which was the next best source out of the 3 sources according to the metrics which I used in Part 1."
   ]
  },
  {
   "cell_type": "code",
   "execution_count": 38,
   "metadata": {},
   "outputs": [
    {
     "data": {
      "text/plain": [
       "(9699, 12)"
      ]
     },
     "execution_count": 38,
     "metadata": {},
     "output_type": "execute_result"
    }
   ],
   "source": [
    "def retPriVal(val,rowDat):\n",
    "    for i in range(1,3):\n",
    "        tmp_val = \"source\"+str(i)+val\n",
    "        if not np.isnan(rowDat[tmp_val]):\n",
    "            return rowDat[tmp_val]\n",
    "            \n",
    "    return np.nan\n",
    "\n",
    "\n",
    "newdf[\"hierarchic_agg_%U\"] = newdf.apply(lambda x: retPriVal(\"%U\",x),axis=1)\n",
    "newdf[\"hierarchic_agg_V\"] = newdf.apply(lambda x: retPriVal(\"V\",x),axis=1)\n",
    "\n",
    "newdf.shape"
   ]
  },
  {
   "cell_type": "code",
   "execution_count": 39,
   "metadata": {},
   "outputs": [
    {
     "data": {
      "text/plain": [
       "(8941, 12)"
      ]
     },
     "execution_count": 39,
     "metadata": {},
     "output_type": "execute_result"
    }
   ],
   "source": [
    "df_model = newdf.dropna(subset=['hierarchic_agg_%U'])\n",
    "df_model.shape"
   ]
  },
  {
   "cell_type": "code",
   "execution_count": 40,
   "metadata": {},
   "outputs": [
    {
     "name": "stdout",
     "output_type": "stream",
     "text": [
      "training: 5364 testing: 3577\n"
     ]
    },
    {
     "data": {
      "image/png": "[encoded data removed]",
      "text/plain": [
       "<Figure size 432x288 with 1 Axes>"
      ]
     },
     "metadata": {},
     "output_type": "display_data"
    }
   ],
   "source": [
    "X = df_model['hierarchic_agg_%U']\n",
    "score_y = df_model['source0%U']\n",
    "X_train, X_test, y_train, y_test = train_test_arrange(X, score_y)\n",
    "train_test_dist(y_train, y_test)"
   ]
  },
  {
   "cell_type": "code",
   "execution_count": 41,
   "metadata": {},
   "outputs": [
    {
     "name": "stdout",
     "output_type": "stream",
     "text": [
      "Fold 0 Acc = 0.8639254508034947, MAE = 3.1738990610359895e-05\n",
      "Fold 1 Acc = 0.7007072978333644, MAE = 3.1621916841288167e-05\n",
      "Fold 2 Acc = 0.941740310698754, MAE = 2.391826950067217e-05\n",
      "Fold 3 Acc = 0.5273573606751611, MAE = 5.5925321887873856e-05\n",
      "Fold 4 Acc = 0.9818050915251996, MAE = 3.1490729542272816e-05\n",
      "Fold 5 Acc = 0.8050883598901979, MAE = 3.4979178803840113e-05\n",
      "Fold 6 Acc = 0.7848450605288082, MAE = 2.735860619226728e-05\n",
      "Fold 7 Acc = 0.7949243705409903, MAE = 3.0280059715439412e-05\n",
      "Fold 8 Acc = 0.9484307730832476, MAE = 3.154090470773983e-05\n",
      "Fold 9 Acc = 0.8396328640901815, MAE = 2.929532429765808e-05\n",
      "CV evaluation:\n",
      "R2: 0.8433254554267501\n",
      "MAE: 3.281715705147741e-05\n"
     ]
    },
    {
     "data": {
      "image/png": "[encoded data removed]",
      "text/plain": [
       "<Figure size 432x288 with 1 Axes>"
      ]
     },
     "metadata": {},
     "output_type": "display_data"
    }
   ],
   "source": [
    "model = LinearRegression(fit_intercept=True)\n",
    "cross_val_train(model, X_train, y_train)"
   ]
  },
  {
   "cell_type": "code",
   "execution_count": 42,
   "metadata": {},
   "outputs": [
    {
     "name": "stdout",
     "output_type": "stream",
     "text": [
      "R2: 0.9138662085617009\n",
      "MAE: 3.1528277339875675e-05\n"
     ]
    },
    {
     "data": {
      "image/png": "[encoded data removed]",
      "text/plain": [
       "<Figure size 432x288 with 1 Axes>"
      ]
     },
     "metadata": {},
     "output_type": "display_data"
    },
    {
     "name": "stdout",
     "output_type": "stream",
     "text": [
      "Model slope:     0.7405909671667954\n",
      "Model intercept: 1.6167173380848554e-05\n"
     ]
    }
   ],
   "source": [
    "yhat = test_model(X_train, X_test, y_train, y_test)"
   ]
  },
  {
   "cell_type": "code",
   "execution_count": 43,
   "metadata": {},
   "outputs": [
    {
     "data": {
      "image/png": "[encoded data removed]",
      "text/plain": [
       "<Figure size 432x288 with 1 Axes>"
      ]
     },
     "metadata": {},
     "output_type": "display_data"
    }
   ],
   "source": [
    "error_dist(y_test, yhat)"
   ]
  },
  {
   "cell_type": "code",
   "execution_count": 44,
   "metadata": {},
   "outputs": [
    {
     "name": "stdout",
     "output_type": "stream",
     "text": [
      "Observed pearson R: 0.96\n",
      "P value: 0.0001\n"
     ]
    }
   ],
   "source": [
    "x, y = y_test, yhat\n",
    "\n",
    "print('Observed pearson R: %.2f' % np.corrcoef(x, y)[1][0])\n",
    "\n",
    "\n",
    "p_value = permutation_test(x, y,\n",
    "                           method='approximate', num_rounds=10000,\n",
    "                           func=lambda x, y: np.corrcoef(x, y)[1][0],\n",
    "                           seed=0)\n",
    "print('P value: %.4f' % p_value)"
   ]
  },
  {
   "cell_type": "markdown",
   "metadata": {},
   "source": [
    "There was a very small improvement in the prediction ability (R Square of 0.91 and MAE of 3.15e-05), but I assume it might be an davantage to be able to predict for more sites."
   ]
  },
  {
   "cell_type": "markdown",
   "metadata": {},
   "source": [
    "## Summary of Part 2:\n",
    "- I started with a simple linear regression using only the %U of source 1 to predict the %U of the learning set. I was able to predict it with an R Square of 0.90 and an MAE of 3.45e-05.\n",
    "- Next, I tried to predict the %U for the sites which don't have a representation in source 1, by using source 2 which was the next best source out of the 3 sources according to the metrics which I used in Part 1. This approach did not give much improvement in the prediction aspect, but it enabled to predict more sites of the learning set.\n",
    "### In summary, my approach was to first try and use the simplest model possible. Since I saw in Part 1 that there is a high correlation between the %U of source 1 and the %U of the learning set, I decided to use a simple linear regression which yielded an R Square of 0.90 and an MAE of 3.45e-05. "
   ]
  },
  {
   "cell_type": "markdown",
   "metadata": {},
   "source": [
    "## Next steps:\n",
    "1. I would arrange the whole code to be more generic. That is, no matter how many different sources there would be, I would be able to compare their quality.\n",
    "2. I would turn certain parts of the code into functions/class to make it easier to reproduce certain parts along the notebook. For example: turn all the functions of the model into methods of a class named Model.\n",
    "3. I would try more models to increase the prediction ability:\n",
    "    - Try a linear regression using both %U and V of source 1 to examine if there would be any adavntage to use V as well despite the high correlation with %U.\n",
    "    - Might try some combination of %U and V (e.g., multiplication) and examine its relationship with my dependent variable. \n",
    "    - Try a support vector regressor with a linear kernel."
   ]
  },
  {
   "cell_type": "code",
   "execution_count": null,
   "metadata": {},
   "outputs": [],
   "source": []
  }
 ],
 "metadata": {
  "kernelspec": {
   "display_name": "Python 3",
   "language": "python",
   "name": "python3"
  },
  "language_info": {
   "codemirror_mode": {
    "name": "ipython",
    "version": 3
   },
   "file_extension": ".py",
   "mimetype": "text/x-python",
   "name": "python",
   "nbconvert_exporter": "python",
   "pygments_lexer": "ipython3",
   "version": "3.7.8"
  }
 },
 "nbformat": 4,
 "nbformat_minor": 4
}
