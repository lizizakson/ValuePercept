{
 "cells": [
  {
   "cell_type": "code",
   "execution_count": 4,
   "metadata": {},
   "outputs": [
    {
     "name": "stdout",
     "output_type": "stream",
     "text": [
      "\n",
      "*\n",
      "**\n"
     ]
    }
   ],
   "source": [
    "def f(num):\n",
    "    if num<0:\n",
    "        return\n",
    "    f(num - 1)\n",
    "    print(\"*\"*num)\n",
    "    \n",
    "f(2)"
   ]
  },
  {
   "cell_type": "code",
   "execution_count": 8,
   "metadata": {},
   "outputs": [
    {
     "name": "stdout",
     "output_type": "stream",
     "text": [
      "**********\n",
      "*********\n",
      "********\n",
      "*******\n",
      "******\n",
      "*****\n"
     ]
    }
   ],
   "source": [
    "def f(num):\n",
    "    if num<0:\n",
    "        return\n",
    "    print(\"*\"*num)\n",
    "    if num == 5:\n",
    "        return\n",
    "    f(num-1)\n",
    "    \n",
    "f(10)"
   ]
  },
  {
   "cell_type": "code",
   "execution_count": null,
   "metadata": {},
   "outputs": [],
   "source": [
    "def f(n):\n",
    "    if n == 1 or n == 2:\n",
    "        return 1\n",
    "    a = f(n-2) \n",
    "    b = f(n-1)\n",
    "    return a + b\n"
   ]
  },
  {
   "cell_type": "code",
   "execution_count": 10,
   "metadata": {},
   "outputs": [
    {
     "data": {
      "text/plain": [
       "True"
      ]
     },
     "execution_count": 10,
     "metadata": {},
     "output_type": "execute_result"
    }
   ],
   "source": [
    "def f(pol, first, end):\n",
    "    if first == end or first > end:\n",
    "        return True\n",
    "    if pol[first] == pol[end]:\n",
    "        a = f(pol, first+1, end-1)\n",
    "        return a\n",
    "    \n",
    "    return False\n",
    "\n",
    "a = 'DFD'\n",
    "f(a, 0, len(a)-1)"
   ]
  },
  {
   "cell_type": "code",
   "execution_count": 11,
   "metadata": {},
   "outputs": [
    {
     "data": {
      "text/plain": [
       "3"
      ]
     },
     "execution_count": 11,
     "metadata": {},
     "output_type": "execute_result"
    }
   ],
   "source": [
    "len(a)"
   ]
  },
  {
   "cell_type": "code",
   "execution_count": 24,
   "metadata": {},
   "outputs": [
    {
     "data": {
      "text/plain": [
       "False"
      ]
     },
     "execution_count": 24,
     "metadata": {},
     "output_type": "execute_result"
    }
   ],
   "source": [
    "def d(pol):\n",
    "    if len(pol) == 0:\n",
    "        return True\n",
    "    a = pol[0]\n",
    "    b = pol[-1]\n",
    "    if a == b:\n",
    "        res = d(pol[1:-1])\n",
    "        return res\n",
    "    return False\n",
    "\n",
    "d('1234')"
   ]
  },
  {
   "cell_type": "code",
   "execution_count": 17,
   "metadata": {},
   "outputs": [
    {
     "data": {
      "text/plain": [
       "0"
      ]
     },
     "execution_count": 17,
     "metadata": {},
     "output_type": "execute_result"
    }
   ],
   "source": [
    "string = 'b'\n",
    "len(string[1:-1])"
   ]
  },
  {
   "cell_type": "code",
   "execution_count": 25,
   "metadata": {},
   "outputs": [
    {
     "data": {
      "text/plain": [
       "range(0, 3)"
      ]
     },
     "execution_count": 25,
     "metadata": {},
     "output_type": "execute_result"
    }
   ],
   "source": [
    "range(3)"
   ]
  },
  {
   "cell_type": "code",
   "execution_count": 26,
   "metadata": {},
   "outputs": [
    {
     "data": {
      "text/plain": [
       "range(0, 2)"
      ]
     },
     "execution_count": 26,
     "metadata": {},
     "output_type": "execute_result"
    }
   ],
   "source": [
    "range(2)"
   ]
  },
  {
   "cell_type": "code",
   "execution_count": 33,
   "metadata": {},
   "outputs": [],
   "source": [
    "import random\n",
    "\n",
    "maze = 10\n",
    "numberList = [0,1,2]\n",
    "direct = []\n",
    "for i in range(maze):    \n",
    "    direct.append(random.choice(numberList))\n",
    "    "
   ]
  },
  {
   "cell_type": "code",
   "execution_count": 34,
   "metadata": {},
   "outputs": [
    {
     "data": {
      "text/plain": [
       "[0, 1, 0, 2, 0, 2, 0, 1, 2, 1]"
      ]
     },
     "execution_count": 34,
     "metadata": {},
     "output_type": "execute_result"
    }
   ],
   "source": [
    "direct"
   ]
  },
  {
   "cell_type": "code",
   "execution_count": 27,
   "metadata": {},
   "outputs": [],
   "source": [
    "def twoSumBruteForce(arr, target):\n",
    "    for i in range(len(arr)):\n",
    "        for j in range(i+1, len(arr)):\n",
    "            if arr[j] == target - arr[i]:\n",
    "                return [i,j]\n",
    "    return []"
   ]
  },
  {
   "cell_type": "code",
   "execution_count": 28,
   "metadata": {},
   "outputs": [
    {
     "data": {
      "text/plain": [
       "[2, 3]"
      ]
     },
     "execution_count": 28,
     "metadata": {},
     "output_type": "execute_result"
    }
   ],
   "source": [
    "arr = [2,7,11,15]\n",
    "target = 26\n",
    "\n",
    "a = twoSumBruteForce(arr, target)\n",
    "a"
   ]
  },
  {
   "cell_type": "code",
   "execution_count": 2,
   "metadata": {},
   "outputs": [
    {
     "data": {
      "text/plain": [
       "range(0, 51)"
      ]
     },
     "execution_count": 2,
     "metadata": {},
     "output_type": "execute_result"
    }
   ],
   "source": [
    "range(51)"
   ]
  },
  {
   "cell_type": "code",
   "execution_count": 5,
   "metadata": {},
   "outputs": [
    {
     "name": "stdout",
     "output_type": "stream",
     "text": [
      "FizzBuzz\n",
      "1\n",
      "2\n",
      "Fizz\n",
      "4\n",
      "Buzz\n",
      "Fizz\n",
      "7\n",
      "8\n",
      "Fizz\n",
      "Buzz\n",
      "11\n",
      "Fizz\n",
      "13\n",
      "14\n",
      "FizzBuzz\n",
      "16\n",
      "17\n",
      "Fizz\n",
      "19\n",
      "Buzz\n",
      "Fizz\n",
      "22\n",
      "23\n",
      "Fizz\n",
      "Buzz\n",
      "26\n",
      "Fizz\n",
      "28\n",
      "29\n",
      "FizzBuzz\n",
      "31\n",
      "32\n",
      "Fizz\n",
      "34\n",
      "Buzz\n",
      "Fizz\n",
      "37\n",
      "38\n",
      "Fizz\n",
      "Buzz\n",
      "41\n",
      "Fizz\n",
      "43\n",
      "44\n",
      "FizzBuzz\n",
      "46\n",
      "47\n",
      "Fizz\n",
      "49\n",
      "Buzz\n"
     ]
    }
   ],
   "source": [
    "for i in range(51):\n",
    "    if i%3 == 0 and i%5 == 0:\n",
    "        print(\"FizzBuzz\")\n",
    "    elif i%5 == 0:\n",
    "        print(\"Buzz\")\n",
    "    elif i%3 == 0:\n",
    "        print(\"Fizz\")\n",
    "    else:\n",
    "        print(i)"
   ]
  },
  {
   "cell_type": "code",
   "execution_count": 10,
   "metadata": {},
   "outputs": [
    {
     "data": {
      "text/plain": [
       "2.23606797749979"
      ]
     },
     "execution_count": 10,
     "metadata": {},
     "output_type": "execute_result"
    }
   ],
   "source": [
    "import math\n",
    "\n",
    "plot1 = [1,3]\n",
    "\n",
    "plot2 = [2,5]\n",
    "\n",
    "ed = math.sqrt((plot1[0]-plot2[0])**2+(plot1[1]-plot2[1])**2)\n",
    "ed"
   ]
  },
  {
   "cell_type": "code",
   "execution_count": 8,
   "metadata": {},
   "outputs": [
    {
     "data": {
      "text/plain": [
       "1.4142135623730951"
      ]
     },
     "execution_count": 8,
     "metadata": {},
     "output_type": "execute_result"
    }
   ],
   "source": [
    "import math\n",
    "math.sqrt(2)"
   ]
  },
  {
   "cell_type": "code",
   "execution_count": 17,
   "metadata": {},
   "outputs": [
    {
     "data": {
      "text/plain": [
       "range(0, 3)"
      ]
     },
     "execution_count": 17,
     "metadata": {},
     "output_type": "execute_result"
    }
   ],
   "source": [
    "list = [1,1,2]\n",
    "range(len(list))"
   ]
  },
  {
   "cell_type": "code",
   "execution_count": 31,
   "metadata": {},
   "outputs": [
    {
     "data": {
      "text/plain": [
       "[1, 2]"
      ]
     },
     "execution_count": 31,
     "metadata": {},
     "output_type": "execute_result"
    }
   ],
   "source": [
    "def removeDuplicates(nums):\n",
    "        i = 0\n",
    "        while i < len(nums)-1:\n",
    "            if nums[i] == nums[i+1]:\n",
    "                del nums[i]\n",
    "            else:\n",
    "                i+=1\n",
    "        return nums\n",
    "\n",
    "lis = [1,1,2]\n",
    "new_lis = removeDuplicates(lis)\n",
    "new_lis"
   ]
  },
  {
   "cell_type": "code",
   "execution_count": 36,
   "metadata": {},
   "outputs": [
    {
     "data": {
      "text/plain": [
       "2"
      ]
     },
     "execution_count": 36,
     "metadata": {},
     "output_type": "execute_result"
    }
   ],
   "source": [
    " def removeElement(nums, val):\n",
    "        for i in range(len(nums)-1):\n",
    "            if nums[i] == val:\n",
    "                del nums[i]\n",
    "            else:\n",
    "                continue\n",
    "        return len(nums)\n",
    "    \n",
    "a = removeElement([3,2,2,3], 3)\n",
    "a"
   ]
  },
  {
   "cell_type": "code",
   "execution_count": null,
   "metadata": {},
   "outputs": [],
   "source": [
    "# 10011101111 -> 4\n",
    "# 10011101 -> 3\n",
    "# 000 -> 0\n",
    "# 11111 -> 5\n",
    "# 101010 -> 1\n",
    "#'' -> 0"
   ]
  },
  {
   "cell_type": "code",
   "execution_count": 39,
   "metadata": {},
   "outputs": [
    {
     "name": "stdout",
     "output_type": "stream",
     "text": [
      "10011101111\n",
      "4\n",
      "10011101\n",
      "3\n",
      "000\n",
      "0\n",
      "11111\n",
      "5\n",
      "101010\n",
      "1\n",
      "\n",
      "0\n"
     ]
    }
   ],
   "source": [
    "def max_len_string(string):\n",
    "    counter = 0\n",
    "    max_len = 0\n",
    "    for char in string:\n",
    "        if char == '1':\n",
    "            counter+=1\n",
    "            if counter > max_len:\n",
    "                max_len = counter        \n",
    "        else:\n",
    "            counter = 0\n",
    "    return max_len\n",
    "        \n",
    "list_strings = ['10011101111', '10011101', '000', '11111', '101010', '']\n",
    "\n",
    "\n",
    "for string in list_strings:\n",
    "    print(string)\n",
    "    print(max_len_string(string))"
   ]
  },
  {
   "cell_type": "code",
   "execution_count": null,
   "metadata": {},
   "outputs": [],
   "source": [
    "# 'ABA', 'BAA' -> True\n",
    "# 'AAB', 'AB' -> False\n",
    "# 'A', 'B' -> False\n",
    "# '' , '' -> True\n",
    "# 'AAACA', 'AACCA' -> False"
   ]
  },
  {
   "cell_type": "code",
   "execution_count": null,
   "metadata": {},
   "outputs": [],
   "source": [
    "def twoStrings(string1, string2):\n",
    "    #length comparison\n",
    "    if len(string1) != len(string2):\n",
    "        return False\n",
    "    res_temp = ''\n",
    "    for i in range(len(string1)):\n",
    "        for j in range(len(string2)):\n",
    "            if string1[i] == string2[j]:\n",
    "                res_temp == string1[i]\n",
    "                if len(res_temp) == len(string1):\n",
    "                    return True\n",
    "    return False\n",
    "\n",
    "\n",
    "string1 = 'ABA'\n",
    "string2 = 'BAA' \n",
    "    \n",
    "twoStrings(string1, string2)                \n",
    "                  "
   ]
  }
 ],
 "metadata": {
  "kernelspec": {
   "display_name": "Python 3",
   "language": "python",
   "name": "python3"
  },
  "language_info": {
   "codemirror_mode": {
    "name": "ipython",
    "version": 3
   },
   "file_extension": ".py",
   "mimetype": "text/x-python",
   "name": "python",
   "nbconvert_exporter": "python",
   "pygments_lexer": "ipython3",
   "version": "3.7.8"
  }
 },
 "nbformat": 4,
 "nbformat_minor": 4
}
