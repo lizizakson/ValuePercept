{
 "cells": [
  {
   "cell_type": "code",
   "execution_count": 5,
   "metadata": {},
   "outputs": [],
   "source": [
    "import os\n",
    "import re\n",
    "\n",
    "import shutil\n",
    "import codecs, json \n",
    "import nibabel as nib\n",
    "import numpy as np\n",
    "import pandas as pd\n",
    "import matplotlib as plt\n",
    "import seaborn as sns\n",
    "import scipy as sp\n",
    "from scipy import stats\n",
    "import sklearn as sk\n",
    "import time\n",
    "from dypac import Dypac\n",
    "import nilearn\n",
    "from nilearn import image, plotting, datasets\n",
    "from nilearn.input_data import NiftiLabelsMasker, NiftiMasker\n",
    "from nilearn.connectome import ConnectivityMeasure\n",
    "from nilearn.decomposition import DictLearning, CanICA\n",
    "from scipy.stats import pearsonr\n",
    "import nilearn.plotting as plotting\n",
    "import math\n",
    "import hcp_utils as hcp\n",
    "\n",
    "import conf\n",
    "import helper_functions\n",
    "import importlib"
   ]
  },
  {
   "cell_type": "markdown",
   "metadata": {},
   "source": [
    "## Extract zip files and delete the original zip files"
   ]
  },
  {
   "cell_type": "code",
   "execution_count": null,
   "metadata": {},
   "outputs": [],
   "source": [
    "#Print number of zip files (=number of subjects)\n",
    "dir_name = conf.RAW_DATA_DIR\n",
    "\n",
    "subjects = os.listdir(dir_name)\n",
    "\n",
    "len(subjects)"
   ]
  },
  {
   "cell_type": "code",
   "execution_count": null,
   "metadata": {},
   "outputs": [],
   "source": [
    "#refresh the loaded function\n",
    "#importlib.reload(helper_functions)\n",
    "\n",
    "#Extract zip files and delete the original zip files\n",
    "helper_functions.unzip(dir_name) "
   ]
  },
  {
   "cell_type": "markdown",
   "metadata": {},
   "source": [
    "## Load data & concatenate the 4 sessions"
   ]
  },
  {
   "cell_type": "code",
   "execution_count": null,
   "metadata": {},
   "outputs": [],
   "source": [
    "#Load data & concatenate the 4 sessions\n",
    "\n",
    "dir_path = conf.UNZIPPED_RAW_DATA_DIR\n",
    "sessions = ['1_LR', '1_RL','2_LR','2_RL']\n",
    "file_name = '_Atlas_MSMAll_hp2000_clean.dtseries.nii'\n",
    "saved_dir_path = conf.CONCATENATED_DATA_DIR\n",
    "\n",
    "helper_functions.concat(dir_path, sessions, file_name, saved_dir_path)"
   ]
  },
  {
   "cell_type": "markdown",
   "metadata": {},
   "source": [
    "## Create subject_num list"
   ]
  },
  {
   "cell_type": "code",
   "execution_count": 6,
   "metadata": {},
   "outputs": [
    {
     "data": {
      "text/plain": [
       "992"
      ]
     },
     "execution_count": 6,
     "metadata": {},
     "output_type": "execute_result"
    }
   ],
   "source": [
    "subjects = os.listdir(conf.CONCATENATED_DATA_DIR)\n",
    "\n",
    "len(subjects)"
   ]
  },
  {
   "cell_type": "code",
   "execution_count": 7,
   "metadata": {},
   "outputs": [],
   "source": [
    "#Delate the npz ending\n",
    "subjects_num = []\n",
    "\n",
    "for i in range(len(subjects)):\n",
    "    subjects_num.append(subjects[i][:6])\n",
    "\n",
    "##Convert subject nums from strings to integers\n",
    "subjects_num = list(map(int, subjects_num))"
   ]
  },
  {
   "cell_type": "code",
   "execution_count": 9,
   "metadata": {},
   "outputs": [],
   "source": [
    "#Save subject IDs into a file - skip if the file already excists \n",
    "with open(conf.BASE_DIR + conf.X_FEATURES_DIR + conf.SUB_ID_FILENAME, 'w') as filehandle:\n",
    "    for listitem in subjects_num:\n",
    "        filehandle.write('%s\\n' % listitem)"
   ]
  },
  {
   "cell_type": "code",
   "execution_count": null,
   "metadata": {},
   "outputs": [],
   "source": []
  }
 ],
 "metadata": {
  "kernelspec": {
   "display_name": "Python 3",
   "language": "python",
   "name": "python3"
  },
  "language_info": {
   "codemirror_mode": {
    "name": "ipython",
    "version": 3
   },
   "file_extension": ".py",
   "mimetype": "text/x-python",
   "name": "python",
   "nbconvert_exporter": "python",
   "pygments_lexer": "ipython3",
   "version": "3.7.8"
  }
 },
 "nbformat": 4,
 "nbformat_minor": 4
}
