{
 "cells": [
  {
   "cell_type": "code",
   "execution_count": null,
   "metadata": {},
   "outputs": [],
   "source": [
    "import os\n",
    "import re\n",
    "\n",
    "import shutil\n",
    "import codecs, json \n",
    "import nibabel as nib\n",
    "import numpy as np\n",
    "import pandas as pd\n",
    "import matplotlib as plt\n",
    "import seaborn as sns\n",
    "import scipy as sp\n",
    "from scipy import stats\n",
    "import sklearn as sk\n",
    "import time\n",
    "from dypac import Dypac\n",
    "import nilearn\n",
    "from nilearn import image, plotting, datasets\n",
    "from nilearn.input_data import NiftiLabelsMasker, NiftiMasker\n",
    "from nilearn.connectome import ConnectivityMeasure\n",
    "from nilearn.decomposition import DictLearning, CanICA\n",
    "from scipy.stats import pearsonr\n",
    "import nilearn.plotting as plotting\n",
    "import math\n",
    "import hcp_utils as hcp\n",
    "\n",
    "import conf\n",
    "import helper_functions\n",
    "import importlib"
   ]
  },
  {
   "cell_type": "markdown",
   "metadata": {},
   "source": [
    "## Extract zip files and delete the original zip files"
   ]
  },
  {
   "cell_type": "code",
   "execution_count": null,
   "metadata": {},
   "outputs": [],
   "source": [
    "#Print number of zip files (=number of subjects)\n",
    "dir_name = RAW_DATA_DIR\n",
    "\n",
    "subjects = os.listdir(dir_name)\n",
    "\n",
    "len(subjects)"
   ]
  },
  {
   "cell_type": "code",
   "execution_count": null,
   "metadata": {},
   "outputs": [],
   "source": [
    "#refresh the loaded function\n",
    "#importlib.reload(helper_functions)\n",
    "\n",
    "#Extract zip files and delete the original zip files\n",
    "helper_functions.unzip(dir_name) "
   ]
  },
  {
   "cell_type": "markdown",
   "metadata": {},
   "source": [
    "## Load data & concatenate the 4 sessions"
   ]
  },
  {
   "cell_type": "code",
   "execution_count": null,
   "metadata": {},
   "outputs": [],
   "source": [
    "#Load data & concatenate the 4 sessions\n",
    "\n",
    "dir_path = UNZIPPED_RAW_DATA_DIR\n",
    "sessions = ['1_LR', '1_RL','2_LR','2_RL']\n",
    "file_name = '_Atlas_MSMAll_hp2000_clean.dtseries.nii'\n",
    "saved_dir_path = CONCATENATED_DATA_DIR\n",
    "\n",
    "helper_functions.concat(dir_path, sessions, file_name, saved_dir_path)"
   ]
  }
 ],
 "metadata": {
  "kernelspec": {
   "display_name": "Python 3",
   "language": "python",
   "name": "python3"
  },
  "language_info": {
   "codemirror_mode": {
    "name": "ipython",
    "version": 3
   },
   "file_extension": ".py",
   "mimetype": "text/x-python",
   "name": "python",
   "nbconvert_exporter": "python",
   "pygments_lexer": "ipython3",
   "version": "3.7.8"
  }
 },
 "nbformat": 4,
 "nbformat_minor": 4
}
